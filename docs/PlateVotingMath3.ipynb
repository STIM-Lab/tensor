{
 "cells": [
  {
   "cell_type": "markdown",
   "id": "9ddabb78-b8ea-4bf7-9663-3b1374c6fa36",
   "metadata": {},
   "source": [
    "# Plate Tensor Derivation"
   ]
  },
  {
   "cell_type": "markdown",
   "id": "f90f5611-739a-4b05-baae-13f55d737378",
   "metadata": {},
   "source": [
    "The integral for a plate tensor is given by:\n",
    "$$\n",
    "\\mathbf{P}(\\mathbf{v}, \\mathbf{r}, \\sigma) = \\int_{0}^\\pi \\mathbf{S}(\\mathbf{v}, \\mathbf{r}, \\mathbf{q}, \\sigma) \\,d\\beta=  \\eta(\\sigma_1, \\sigma_2, p) \\int_{0}^\\pi D(\\mathbf{v}, \\mathbf{r}, \\mathbf{q}, \\sigma_1, \\sigma_2, p) (\\mathbf{R}\\mathbf{q})(\\mathbf{R}\\mathbf{q})^T \\, d\\beta\n",
    "$$"
   ]
  },
  {
   "cell_type": "markdown",
   "id": "9ce2dd17-6491-471b-b33c-2f2d2031dd7c",
   "metadata": {},
   "source": [
    "where\n",
    "$$\n",
    "\\mathbf{d}=\n",
    "\\begin{bmatrix}\n",
    "d_x \\\\\n",
    "d_y \\\\\n",
    "d_z\n",
    "\\end{bmatrix},\n",
    "\\quad\n",
    "\\quad\n",
    "\\mathbf{q}=\n",
    "\\begin{bmatrix}\n",
    "\\cos\\beta \\\\\n",
    "\\sin\\beta \\\\\n",
    "0\n",
    "\\end{bmatrix},\n",
    "\\quad\n",
    "\\quad\n",
    "\\mathbf{R}=\\mathbf{I}-2\\mathbf{d}\\mathbf{d}^T\n",
    "$$\n",
    "For now, we focus on the integral and ignore the normalization term:\n",
    "$$\n",
    "\\int_{0}^\\pi D(\\mathbf{v}, \\mathbf{r}, \\mathbf{q}, \\sigma_1, \\sigma_2, p) (\\mathbf{R}\\mathbf{q})(\\mathbf{R}\\mathbf{q})^T \\, d\\beta= e^{-\\frac{\\ell^2}{\\sigma_1^2}}\\int_0^\\pi  \\left(1 - \\left(\\mathbf{q}^T\\mathbf{d}\\right)^2\\right)^p (\\mathbf{R}\\mathbf{q})(\\mathbf{R}\\mathbf{q})^T \\, d\\beta + e^{-\\frac{\\ell^2}{\\sigma_2^2}}\\int_0^\\pi \\left(\\mathbf{q}^T\\mathbf{d}\\right)^{2p}(\\mathbf{R}\\mathbf{q})(\\mathbf{R}\\mathbf{q})^T \\, d\\beta\n",
    "$$"
   ]
  },
  {
   "cell_type": "markdown",
   "id": "1fd77a64-2653-45d4-bfd6-4de97a230be9",
   "metadata": {},
   "source": [
    "To be able to compute the integral with the refinement term *p*, I decided to remove another part of the calculations by rotating the coordinates so that $\\mathbf{d}$ lies entirely in the $\\mathbf{x}$-axis. To do so, I found the projection of $\\mathbf{d}$ in the $\\mathbf{xy}$-plane (including length and angle). In case of rotatation around the $\\mathbf{z}$-axis by $\\mathbf{-\\phi}$ degree, we need to apply $\\mathbf{R_z(-\\phi)}$:\n",
    "\n",
    "$$\n",
    "\\alpha = \\sqrt{d_x^2+d_y^2},\n",
    "\\quad\n",
    "\\quad\n",
    "\\phi = \\arctan(d_y, d_x), \n",
    "\\quad\n",
    "\\quad\n",
    "\\mathbf{R_z(-\\phi)} = \n",
    "\\begin{bmatrix}\n",
    "\\cos{\\phi} & \\sin{\\phi} & 0 \\\\\n",
    "-\\sin{\\phi} & \\cos{\\phi} & 0 \\\\\n",
    "0 & 0 & 1\n",
    "\\end{bmatrix}\n",
    "$$"
   ]
  },
  {
   "cell_type": "markdown",
   "id": "11687293-7558-466d-b256-9f3d3043186b",
   "metadata": {},
   "source": [
    "This will create a new set of variables that have been rotated by $\\mathbf{-\\phi}$ around the $\\mathbf{z}$-axis:\n",
    "\n",
    "$$\n",
    "\\beta \\mapsto \\beta' = \\beta - \\phi\n",
    "\\quad\n",
    "\\quad\n",
    "d \\mapsto d' = \\mathbf{R_z(-\\phi)}d = \\begin{bmatrix}\n",
    "\\alpha \\\\\n",
    "0 \\\\\n",
    "d_z\n",
    "\\end{bmatrix},\n",
    "\\quad\n",
    "\\quad\n",
    "q \\mapsto q' = \\mathbf{R_z(-\\phi)}q = \\begin{bmatrix}\n",
    "\\cos{\\beta'} \\\\\n",
    "\\sin{\\beta'} \\\\\n",
    "0\n",
    "\\end{bmatrix}\n",
    "$$\n",
    "\n",
    "where $\\alpha$ is $\\sqrt{d_x^2+d_y^2}$."
   ]
  },
  {
   "cell_type": "markdown",
   "id": "45880557-937f-4bdc-866a-da12d92cecbf",
   "metadata": {},
   "source": [
    "Now, based on these variables, we can calculate the new ones from the previous notebook:\n",
    "\n",
    "$$\n",
    "\\mathbf{q'}^T\\mathbf{d'} = \\alpha\\cos{\\beta'},\n",
    "\\quad\n",
    "\\quad\n",
    "\\mathbf{D'}=\n",
    "\\begin{bmatrix}\n",
    "\\alpha^2 & 0 & \\alpha d_z \\\\\n",
    "0 & 0 & 0 \\\\\n",
    "\\alpha d_z & 0 & d_z^2\n",
    "\\end{bmatrix}\n",
    "\\quad\n",
    "\\quad\n",
    "\\mathbf{Q'}=\n",
    "\\begin{bmatrix}\n",
    "\\cos^2(\\beta') & \\cos(\\beta')\\sin(\\beta') & 0\\\\\n",
    "\\cos(\\beta')\\sin(\\beta') & \\sin^2(\\beta') & 0\\\\\n",
    "0 & 0 & 0\n",
    "\\end{bmatrix}\n",
    "$$"
   ]
  },
  {
   "cell_type": "markdown",
   "id": "33019f38-2ae4-4e8c-ac44-d3d8b7dcee2e",
   "metadata": {},
   "source": [
    "We can see that the mutual rotation matrix term will become:\n",
    "\n",
    "$$\n",
    "\\mathbf{R'}\\mathbf{q'} = q' - 2D'q' = \\begin{bmatrix}\n",
    "(1-2\\alpha^2)\\cos{\\beta'} \\\\ \\sin{\\beta'} \\\\ -2 \\alpha d_z \\cos{\\beta'}\n",
    "\\end{bmatrix} \\longrightarrow (\\mathbf{R'}\\mathbf{q'})(\\mathbf{R'}\\mathbf{q'})^T = \\left[(I-2d'd'^T)q'\\right]\\left[(I-2d'd'^T)q'\\right]^T \n",
    "$$\n",
    "\n",
    "$$\n",
    "\\Rightarrow (\\mathbf{R'}\\mathbf{q'})(\\mathbf{R'}\\mathbf{q'})^T = \\mathbf{R'} = \n",
    "\\begin{bmatrix}\n",
    "\\textcolor{green}{(1-2\\alpha^2)^2\\cos^2{\\beta'}} & \\textcolor{brown}{(1-2\\alpha^2)\\cos{\\beta'}\\sin{\\beta'}} & \\textcolor{green}{-(1-2\\alpha^2)2\\alpha d_z \\cos^2{\\beta'}}\\\\ \n",
    "\\textcolor{brown}{(1-2\\alpha^2)\\cos{\\beta'}\\sin{\\beta'}} & \\textcolor{green}{\\sin^2{\\beta'}} & \\textcolor{brown}{-2\\alpha d_z \\cos{\\beta'}\\sin{\\beta'}}\\\\ \n",
    "\\textcolor{green}{-(1-2\\alpha^2)2\\alpha d_z \\cos^2{\\beta'}} & \\textcolor{brown}{-2\\alpha d_z \\cos{\\beta'}\\sin{\\beta'}} & \\textcolor{green}{4\\alpha^2 d_z^2 \\cos^2{\\beta'}}\n",
    "\\end{bmatrix}\n",
    "$$"
   ]
  },
  {
   "cell_type": "markdown",
   "id": "9d964b1d-96b2-44c3-aae6-15d5eaf1518b",
   "metadata": {},
   "source": [
    "Since our integral goes from zero to $\\pi$, we can tell that any term with an odd factor of $\\cos{\\beta'}$ will integrate to zero if the other factors are symmetric about $\\pi$ as well. \n",
    "\n",
    "We prove in the Sympy section that <font color=\"brown\">**these components**</font> yield zero after integration. The only components we need to calculate are: $\\mathbf{R'_xx}$, $\\mathbf{R'_yy}$, $\\mathbf{R'_zz}$, and $\\mathbf{R'_xz}/\\mathbf{R'_zx}$."
   ]
  },
  {
   "cell_type": "markdown",
   "id": "2b4b64f6-5f4b-46db-a625-85a762245590",
   "metadata": {},
   "source": [
    "For now, we have the plate tensor as below:\n",
    "\n",
    "$$\n",
    "\\mathbf{P}(\\mathbf{v}, \\mathbf{r}, \\sigma) = e^{-\\frac{\\ell^2}{\\sigma_1^2}}\\textcolor{red}{\\int_0^\\pi  \\left(1 - \\alpha^2\\cos^2{\\beta'}\\right)^p (\\mathbf{R'})\\, d\\beta'} + e^{-\\frac{\\ell^2}{\\sigma_2^2}} \\textcolor{blue}{\\int_0^\\pi \\alpha^{2p} \\cos^{2p}{\\beta'}(\\mathbf{R'}) \\, d\\beta'}\n",
    "$$"
   ]
  },
  {
   "cell_type": "markdown",
   "id": "a40aeb68-d2ca-493a-9786-469d6b155954",
   "metadata": {
    "jp-MarkdownHeadingCollapsed": true
   },
   "source": [
    "###  <font color=\"red\">First Integral </font> = $\\textcolor{red}{\\int_0^\\pi  \\left(1 - m\\cos^2{\\beta'}\\right)^p (\\mathbf{R'})\\, d\\beta'}$"
   ]
  },
  {
   "cell_type": "markdown",
   "id": "efbf74d6-ed42-4212-aa4e-5474db52cda9",
   "metadata": {},
   "source": [
    "So the four rotation components after multiplication with the term will be:\n",
    "\n",
    "$$\\begin{aligned}\n",
    "\\mathbf{R'_xx} &= \\int_0^\\pi  \\left(1 - \\alpha^2\\cos^2{\\beta'}\\right)^p \\times  (1 - 2\\alpha^2)^2 \\cos^2{\\beta'} \\, d\\beta' \\\\\n",
    "\\mathbf{R'_yy} &= \\int_0^\\pi  \\left(1 - \\alpha^2\\cos^2{\\beta'}\\right)^p \\times  \\sin^2{\\beta'} \\, d\\beta' \\\\\n",
    "\\mathbf{R'_zz} &= \\int_0^\\pi  \\left(1 - \\alpha^2\\cos^2{\\beta'}\\right)^p \\times  4\\alpha^2 d_z^2 \\cos^2{\\beta'} \\, d\\beta' \\\\\n",
    "\\mathbf{R'_zx} &= \\mathbf{R'_xz} = -2\\alpha d_z (1-2\\alpha^2) \\int_0^\\pi  \\left(1 - \\alpha^2\\cos^2{\\beta'}\\right)^p \\times \\cos^2{\\beta'} \\, d\\beta'\n",
    "\\end{aligned}$$\n",
    "\n",
    "If we define two sets of integrals, we can simplify the above terms:\n",
    "$$\n",
    "\\mathbf{J_0} = \\int_0^\\pi  \\left(1 - \\alpha^2\\cos^2{\\beta'}\\right)^p \\cos^2{\\beta'} \\, d\\beta,\n",
    "\\quad\n",
    "\\quad\n",
    "\\mathbf{J_1} = \\int_0^\\pi  \\left(1 - \\alpha^2\\cos^2{\\beta'}\\right)^p \\, d\\beta\n",
    "$$"
   ]
  },
  {
   "cell_type": "markdown",
   "id": "507c7b06-08f9-4f00-b525-b643cf6dc877",
   "metadata": {},
   "source": [
    "The simplified term would become:\n",
    "$$\\begin{aligned}\n",
    "\\mathbf{R'_xx} &= (1 - 2\\alpha^2)^2 \\mathbf{J_0} \\\\\n",
    "\\mathbf{R'_yy} &= \\mathbf{J_1} - \\mathbf{J_0} \\\\\n",
    "\\mathbf{R'_zz} &= 4\\alpha^2 d_z^2 \\mathbf{J_0} \\\\\n",
    "\\mathbf{R'_zx} &= \\mathbf{R'_xz} = -2\\alpha d_z (1-2\\alpha^2) \\mathbf{J_0} = \\frac{-2\\alpha d_z}{1-2\\alpha^2} \\mathbf{R'_xx}\n",
    "\\end{aligned}$$"
   ]
  },
  {
   "cell_type": "markdown",
   "id": "8af9d8ad-a71f-4126-aa66-ef6209701f21",
   "metadata": {},
   "source": [
    "Calculating $\\mathbf{J_0}$ and $\\mathbf{J_1}$ is the tricky part. I found that with a small modification, this integral is similar to the **Gauss's Hypergeometric function** depicted below:\n",
    "$$\n",
    "_2F_1(a, b;c;z) = \\frac{1}{B(b, c-b)} \\int_0^1  x^{b-1}(1-x)^{c-b-1}(1-zx)^{-a}\\, dx\n",
    "$$\n",
    "\n",
    "where $B(x, y)$ is the **Beta function** and $\\Gamma(x)$ is the **Gamma function**.\n",
    "$$\n",
    "B(x, y) = \\int_0^1  t^{x-1}(1-t)^{y-1}\\, dt = \\frac{\\Gamma(x)\\Gamma(y)}{\\Gamma(x+y)},\n",
    "\\quad\n",
    "\\quad\n",
    "\\Gamma(x) = \\int_0^\\inf  t^{x-1}e^{-t}\\, dt\n",
    "$$"
   ]
  },
  {
   "cell_type": "markdown",
   "id": "ecd397cb-fb98-40be-b233-feb4eee3c93f",
   "metadata": {},
   "source": [
    "**Converting to Hypergeometric Function**\n",
    "\n",
    "Since both $\\mathbf{J_0}$ and $\\mathbf{J_1}$ are symmetrical, we can fold them so the integral goes from zero to $\\frac{\\pi}{2}$. I then used a simple substitution to make the integral go from zero to one.\n",
    "$$\\begin{aligned}\n",
    "u &= \\sin^2{\\beta'} \\quad \\Rightarrow \\quad \\cos^2{\\beta'} = 1 - u\n",
    "\\\\\n",
    "d\\beta' &= \\frac{du}{2\\sqrt{u(1-u)}}\\end{aligned}\n",
    "$$\n",
    "\n",
    "The new $\\mathbf{J_0}$ and $\\mathbf{J_1}$ integrals are:\n",
    "$$\\begin{aligned}\n",
    "\\mathbf{J_0} &= \\int_0^1  u^{-0.5}(1-u)^{0.5}(1-\\alpha^2(1-u))^p\\, du\n",
    "\\quad \\longrightarrow \\quad\n",
    "B(1.5, 0.5) _2F_1(-p, 1.5; 2; \\alpha^2)\n",
    "\\\\\n",
    "\\mathbf{J_1} &= \\int_0^1  u^{-0.5}(1-u)^{-0.5}(1-\\alpha^2(1-u))^p\\, du\n",
    "\\quad \\longrightarrow \\quad\n",
    "B(0.5, 0.5) _2F_1(-p, 0.5; 1; \\alpha^2)\n",
    "\\end{aligned}$$\n",
    "\n",
    "Which is\n",
    "$$\\begin{aligned}\n",
    "\\mathbf{J_0} &= \\frac{\\pi}{2} {_2F_1(-p, 1.5; 2; \\alpha^2)}\n",
    "\\\\\n",
    "\\mathbf{J_1} &= \\pi {_2F_1(-p, 0.5; 1; \\alpha^2)}\n",
    "\\end{aligned}$$"
   ]
  },
  {
   "cell_type": "markdown",
   "id": "98caa774-d4dc-4e40-8d0a-5769520a999d",
   "metadata": {
    "jp-MarkdownHeadingCollapsed": true
   },
   "source": [
    "###  <font color=\"blue\">Second Integral </font> = $\\textcolor{blue}{\\int_0^\\pi \\alpha^{2p} \\cos^{2p}{\\beta'}(\\mathbf{R'}) \\, d\\beta'}$"
   ]
  },
  {
   "cell_type": "markdown",
   "id": "f87e4362-677f-4bfb-a954-897b54f23c96",
   "metadata": {},
   "source": [
    "So the four rotation components after multiplication with the term will be:\n",
    "\n",
    "$$\\begin{aligned}\n",
    "\\mathbf{R'_xx} &= \\int_0^\\pi  \\alpha^{2p} \\cos^{2p}{\\beta'} \\times  (1 - 2\\alpha^2)^2 \\cos^2{\\beta'} \\, d\\beta' \\\\\n",
    "\\mathbf{R'_yy} &= \\int_0^\\pi  \\alpha^{2p} \\cos^{2p}{\\beta'} \\times  \\sin^2{\\beta'} \\, d\\beta' \\\\\n",
    "\\mathbf{R'_zz} &= \\int_0^\\pi  \\alpha^{2p} \\cos^{2p}{\\beta'} \\times  4\\alpha^2 d_z^2 \\cos^2{\\beta'} \\, d\\beta' \\\\\n",
    "\\mathbf{R'_zx} &= \\mathbf{R'_xz} = -2\\alpha d_z (1-2\\alpha^2) \\int_0^\\pi \\alpha^{2p} \\cos^{2p}{\\beta'} \\times \\cos^2{\\beta'} \\, d\\beta'\n",
    "\\end{aligned}$$\n",
    "\n",
    "If we define two sets of integrals, we can simplify the above terms:\n",
    "$$\n",
    "\\mathbf{K_0} = \\int_0^\\pi  \\cos^{2(p+1)}{\\beta'}\\, d\\beta,\n",
    "\\quad\n",
    "\\quad\n",
    "\\mathbf{K_1} = \\int_0^\\pi  \\cos^{2p}{\\beta'} \\, d\\beta\n",
    "$$"
   ]
  },
  {
   "cell_type": "markdown",
   "id": "45cf2bbb-ee83-4ec4-be0e-bc64adb0ee88",
   "metadata": {},
   "source": [
    "Therefore, we have:\n",
    "$$\\begin{aligned}\n",
    "\\mathbf{R'_xx} &= \\alpha^{2p} (1 - 2\\alpha^2)^2 \\mathbf{K_0} \\\\\n",
    "\\mathbf{R'_yy} &= \\alpha^{2p} \\left(\\mathbf{K_1} - \\mathbf{K_0}\\right) \\\\\n",
    "\\mathbf{R'_zz} &= 4\\alpha^{2(p+1)} d_z^2 \\mathbf{K_0} \\\\\n",
    "\\mathbf{R'_zx} &= \\mathbf{R'_xz} = -2\\alpha^{2p+1} d_z (1-2\\alpha^2) \\mathbf{K_0} = \\frac{-2\\alpha d_z}{1-2\\alpha^2} \\mathbf{R'_xx}\n",
    "\\end{aligned}$$"
   ]
  },
  {
   "cell_type": "markdown",
   "id": "0ed06520-9992-40d8-82eb-345292c301e7",
   "metadata": {},
   "source": [
    "Based on the other definition of Beta functions, we have:\n",
    "$$\n",
    "B(x, y) = 2 \\int_0^{\\frac{\\pi}{2}}  \\sin^{2x-1}{\\theta} \\cos^{2y-1}{\\theta} \\, d\\theta\n",
    "$$\n",
    "\n",
    "Therefore, \n",
    "\n",
    "$$\\begin{aligned}\n",
    "\\mathbf{K_0} = B(\\frac{1}{2}, p+\\frac{3}{2}),\n",
    "\\quad\\quad\n",
    "\\mathbf{K_1} = B(\\frac{1}{2}, p+\\frac{1}{2})\n",
    "\\end{aligned}$$"
   ]
  },
  {
   "cell_type": "markdown",
   "id": "5bdc3aad-af6f-4828-8a83-509b623a668b",
   "metadata": {},
   "source": [
    "### Final Integrals"
   ]
  },
  {
   "cell_type": "markdown",
   "id": "d3ec1dee-8d3a-4382-b164-dd858c6dbe44",
   "metadata": {},
   "source": [
    "So, the final integrals are:\n",
    "\n",
    "$$\n",
    "\\textcolor{red}{\\mathbf{A}} = \n",
    "\\begin{bmatrix}\n",
    "(1 - 2\\alpha^2)^2 \\mathbf{J_0} & 0 & -2\\alpha d_z (1-2\\alpha^2) \\mathbf{J_0} \\\\\n",
    "0 & \\mathbf{J_1} - \\mathbf{J_0} & 0 \\\\\n",
    "-2\\alpha d_z (1-2\\alpha^2) \\mathbf{J_0} & 0 & 4\\alpha^2 d_z^2 \\mathbf{J_0} \\\\\n",
    "\\end{bmatrix},\n",
    "\\quad\n",
    "\\quad\n",
    "\\textcolor{blue}{\\mathbf{B}} = \n",
    "\\begin{bmatrix}\n",
    "\\alpha^{2p}(1 - 2\\alpha^2)^2 \\mathbf{K_0} & 0 & -2\\alpha^{2p+1} d_z (1-2\\alpha^2) \\mathbf{K_0} \\\\\n",
    "0 & \\alpha^{2p} \\left(\\mathbf{K_1} - \\mathbf{K_0}\\right) & 0 \\\\\n",
    "-2\\alpha^{2p+1} d_z (1-2\\alpha^2) \\mathbf{K_0} & 0 & 4\\alpha^{2(p+1)} d_z^2 \\mathbf{K_0} \\\\\n",
    "\\end{bmatrix}\n",
    "$$\n",
    "\n",
    "where **J** and **K** values are:\n",
    "$$\n",
    "\\mathbf{J_0} = \\frac{\\pi}{2} {_2F_1(-p, 1.5; 2; m)}\n",
    "\\quad \\quad\n",
    "\\mathbf{J_1} = \\pi {_2F_1(-p, 0.5; 1; m)}\n",
    "\\quad \\quad\n",
    "\\mathbf{K_0} = B(\\frac{1}{2}, p+\\frac{3}{2}),\n",
    "\\quad\\quad\n",
    "\\mathbf{K_1} = B(\\frac{1}{2}, p+\\frac{1}{2})\n",
    "$$"
   ]
  },
  {
   "cell_type": "markdown",
   "id": "cd1dcd41-3499-4a76-89cc-164f418b4513",
   "metadata": {},
   "source": [
    "The final step is to map the integrals back to their original axes.\n",
    "\n",
    "$$\n",
    "\\mathbf{P}(\\mathbf{v}, \\mathbf{r}, \\sigma) = e^{-\\frac{\\ell^2}{\\sigma_1^2}}\\textcolor{green}{R_z(\\phi)}\\textcolor{red}{A}\\textcolor{green}{R_z(-\\phi)} + e^{-\\frac{\\ell^2}{\\sigma_2^2}} \\textcolor{green}{R_z(\\phi)}\\textcolor{blue}{B}\\textcolor{green}{R_z(-\\phi)}\n",
    "$$"
   ]
  },
  {
   "cell_type": "markdown",
   "id": "70d911b3-1c93-48e9-a768-a42a2cadffe6",
   "metadata": {},
   "source": [
    "## Sympy Math"
   ]
  },
  {
   "cell_type": "code",
   "execution_count": 94,
   "id": "b02406f3-a137-4051-a2be-59e332737dc7",
   "metadata": {},
   "outputs": [
    {
     "data": {
      "text/latex": [
       "$\\displaystyle \\left[\\begin{matrix}\\alpha^{2} & 0 & \\alpha d_{z}\\\\0 & 0 & 0\\\\\\alpha d_{z} & 0 & d_{z}^{2}\\end{matrix}\\right]$"
      ],
      "text/plain": [
       "Matrix([\n",
       "[ alpha**2, 0, alpha*d_z],\n",
       "[        0, 0,         0],\n",
       "[alpha*d_z, 0,    d_z**2]])"
      ]
     },
     "execution_count": 94,
     "metadata": {},
     "output_type": "execute_result"
    }
   ],
   "source": [
    "import sympy as sp\n",
    "alpha = sp.symbols('alpha')\n",
    "beta = sp.symbols('beta')\n",
    "dz = sp.symbols('d_z')\n",
    "p = sp.symbols('p', nonnegative=True)\n",
    "\n",
    "cos_beta = sp.cos(beta)\n",
    "sin_beta = sp.sin(beta)\n",
    "\n",
    "d = sp.Matrix([alpha, 0, dz])\n",
    "q = sp.Matrix([[cos_beta], [sin_beta], [0]])\n",
    "\n",
    "D = d * d.transpose()\n",
    "D"
   ]
  },
  {
   "cell_type": "code",
   "execution_count": 96,
   "id": "b41187ce-0b89-4ac0-8339-cdd0fb7b028d",
   "metadata": {},
   "outputs": [
    {
     "data": {
      "text/latex": [
       "$\\displaystyle \\left[\\begin{matrix}\\cos^{2}{\\left(\\beta \\right)} & \\sin{\\left(\\beta \\right)} \\cos{\\left(\\beta \\right)} & 0\\\\\\sin{\\left(\\beta \\right)} \\cos{\\left(\\beta \\right)} & \\sin^{2}{\\left(\\beta \\right)} & 0\\\\0 & 0 & 0\\end{matrix}\\right]$"
      ],
      "text/plain": [
       "Matrix([\n",
       "[       cos(beta)**2, sin(beta)*cos(beta), 0],\n",
       "[sin(beta)*cos(beta),        sin(beta)**2, 0],\n",
       "[                  0,                   0, 0]])"
      ]
     },
     "execution_count": 96,
     "metadata": {},
     "output_type": "execute_result"
    }
   ],
   "source": [
    "Q = q * q.transpose()\n",
    "Q"
   ]
  },
  {
   "cell_type": "code",
   "execution_count": 98,
   "id": "17258030-8ded-47c1-98a7-5d7a24bfff54",
   "metadata": {},
   "outputs": [
    {
     "data": {
      "text/latex": [
       "$\\displaystyle \\left[\\begin{matrix}1 - 2 \\alpha^{2} & 0 & - 2 \\alpha d_{z}\\\\0 & 1 & 0\\\\- 2 \\alpha d_{z} & 0 & 1 - 2 d_{z}^{2}\\end{matrix}\\right]$"
      ],
      "text/plain": [
       "Matrix([\n",
       "[1 - 2*alpha**2, 0, -2*alpha*d_z],\n",
       "[             0, 1,            0],\n",
       "[  -2*alpha*d_z, 0, 1 - 2*d_z**2]])"
      ]
     },
     "execution_count": 98,
     "metadata": {},
     "output_type": "execute_result"
    }
   ],
   "source": [
    "R = sp.eye(3) - 2 * D\n",
    "R"
   ]
  },
  {
   "cell_type": "code",
   "execution_count": 100,
   "id": "da58a70f-a446-4558-b485-3c48e67eb6d7",
   "metadata": {},
   "outputs": [
    {
     "data": {
      "text/latex": [
       "$\\displaystyle \\left[\\begin{matrix}\\left(1 - 2 \\alpha^{2}\\right) \\cos{\\left(\\beta \\right)}\\\\\\sin{\\left(\\beta \\right)}\\\\- 2 \\alpha d_{z} \\cos{\\left(\\beta \\right)}\\end{matrix}\\right]$"
      ],
      "text/plain": [
       "Matrix([\n",
       "[(1 - 2*alpha**2)*cos(beta)],\n",
       "[                 sin(beta)],\n",
       "[    -2*alpha*d_z*cos(beta)]])"
      ]
     },
     "execution_count": 100,
     "metadata": {},
     "output_type": "execute_result"
    }
   ],
   "source": [
    "R_q = R*q\n",
    "R_q"
   ]
  },
  {
   "cell_type": "code",
   "execution_count": 102,
   "id": "b4ff75f2-8543-4ce0-8613-7904b075bd88",
   "metadata": {},
   "outputs": [
    {
     "data": {
      "text/latex": [
       "$\\displaystyle \\left[\\begin{matrix}\\left(1 - 2 \\alpha^{2}\\right)^{2} \\cos^{2}{\\left(\\beta \\right)} & \\left(1 - 2 \\alpha^{2}\\right) \\sin{\\left(\\beta \\right)} \\cos{\\left(\\beta \\right)} & - 2 \\alpha d_{z} \\left(1 - 2 \\alpha^{2}\\right) \\cos^{2}{\\left(\\beta \\right)}\\\\\\left(1 - 2 \\alpha^{2}\\right) \\sin{\\left(\\beta \\right)} \\cos{\\left(\\beta \\right)} & \\sin^{2}{\\left(\\beta \\right)} & - 2 \\alpha d_{z} \\sin{\\left(\\beta \\right)} \\cos{\\left(\\beta \\right)}\\\\- 2 \\alpha d_{z} \\left(1 - 2 \\alpha^{2}\\right) \\cos^{2}{\\left(\\beta \\right)} & - 2 \\alpha d_{z} \\sin{\\left(\\beta \\right)} \\cos{\\left(\\beta \\right)} & 4 \\alpha^{2} d_{z}^{2} \\cos^{2}{\\left(\\beta \\right)}\\end{matrix}\\right]$"
      ],
      "text/plain": [
       "Matrix([\n",
       "[          (1 - 2*alpha**2)**2*cos(beta)**2, (1 - 2*alpha**2)*sin(beta)*cos(beta), -2*alpha*d_z*(1 - 2*alpha**2)*cos(beta)**2],\n",
       "[      (1 - 2*alpha**2)*sin(beta)*cos(beta),                         sin(beta)**2,           -2*alpha*d_z*sin(beta)*cos(beta)],\n",
       "[-2*alpha*d_z*(1 - 2*alpha**2)*cos(beta)**2,     -2*alpha*d_z*sin(beta)*cos(beta),             4*alpha**2*d_z**2*cos(beta)**2]])"
      ]
     },
     "execution_count": 102,
     "metadata": {},
     "output_type": "execute_result"
    }
   ],
   "source": [
    "Rq_Rq = R_q * R_q.transpose()\n",
    "Rq_Rq"
   ]
  },
  {
   "cell_type": "code",
   "execution_count": 114,
   "id": "c9528ac4-a06e-4b8e-aece-c1cc0af63ab4",
   "metadata": {},
   "outputs": [
    {
     "data": {
      "text/latex": [
       "$\\displaystyle \\left[\\begin{matrix}\\left(2 \\alpha^{2} - 1\\right)^{2} \\left(- \\alpha^{2} \\cos^{2}{\\left(\\beta \\right)} + 1\\right)^{p} \\cos^{2}{\\left(\\beta \\right)} & 2^{- p - 1} \\cdot \\left(1 - 2 \\alpha^{2}\\right) \\left(- \\alpha^{2} \\cos{\\left(2 \\beta \\right)} - \\alpha^{2} + 2\\right)^{p} \\sin{\\left(2 \\beta \\right)} & 2 \\alpha d_{z} \\left(2 \\alpha^{2} - 1\\right) \\left(- \\alpha^{2} \\cos^{2}{\\left(\\beta \\right)} + 1\\right)^{p} \\cos^{2}{\\left(\\beta \\right)}\\\\2^{- p - 1} \\cdot \\left(1 - 2 \\alpha^{2}\\right) \\left(- \\alpha^{2} \\cos{\\left(2 \\beta \\right)} - \\alpha^{2} + 2\\right)^{p} \\sin{\\left(2 \\beta \\right)} & \\left(- \\alpha^{2} \\cos^{2}{\\left(\\beta \\right)} + 1\\right)^{p} \\sin^{2}{\\left(\\beta \\right)} & - 2^{- p} \\alpha d_{z} \\left(- \\alpha^{2} \\cos{\\left(2 \\beta \\right)} - \\alpha^{2} + 2\\right)^{p} \\sin{\\left(2 \\beta \\right)}\\\\2 \\alpha d_{z} \\left(2 \\alpha^{2} - 1\\right) \\left(- \\alpha^{2} \\cos^{2}{\\left(\\beta \\right)} + 1\\right)^{p} \\cos^{2}{\\left(\\beta \\right)} & - 2^{- p} \\alpha d_{z} \\left(- \\alpha^{2} \\cos{\\left(2 \\beta \\right)} - \\alpha^{2} + 2\\right)^{p} \\sin{\\left(2 \\beta \\right)} & 4 \\alpha^{2} d_{z}^{2} \\left(- \\alpha^{2} \\cos^{2}{\\left(\\beta \\right)} + 1\\right)^{p} \\cos^{2}{\\left(\\beta \\right)}\\end{matrix}\\right]$"
      ],
      "text/plain": [
       "Matrix([\n",
       "[                  (2*alpha**2 - 1)**2*(-alpha**2*cos(beta)**2 + 1)**p*cos(beta)**2, 2**(-p - 1)*(1 - 2*alpha**2)*(-alpha**2*cos(2*beta) - alpha**2 + 2)**p*sin(2*beta), 2*alpha*d_z*(2*alpha**2 - 1)*(-alpha**2*cos(beta)**2 + 1)**p*cos(beta)**2],\n",
       "[2**(-p - 1)*(1 - 2*alpha**2)*(-alpha**2*cos(2*beta) - alpha**2 + 2)**p*sin(2*beta),                                       (-alpha**2*cos(beta)**2 + 1)**p*sin(beta)**2,     -alpha*d_z*(-alpha**2*cos(2*beta) - alpha**2 + 2)**p*sin(2*beta)/2**p],\n",
       "[         2*alpha*d_z*(2*alpha**2 - 1)*(-alpha**2*cos(beta)**2 + 1)**p*cos(beta)**2,              -alpha*d_z*(-alpha**2*cos(2*beta) - alpha**2 + 2)**p*sin(2*beta)/2**p,            4*alpha**2*d_z**2*(-alpha**2*cos(beta)**2 + 1)**p*cos(beta)**2]])"
      ]
     },
     "execution_count": 114,
     "metadata": {},
     "output_type": "execute_result"
    }
   ],
   "source": [
    "term_1 = sp.Pow(1 - sp.Pow(alpha*cos_beta, 2), p) * Rq_Rq\n",
    "term_1 = sp.simplify(term_1)\n",
    "term_1"
   ]
  },
  {
   "cell_type": "code",
   "execution_count": 157,
   "id": "654fba8a-7ae4-4f6b-aaa0-12848ff0e544",
   "metadata": {},
   "outputs": [
    {
     "data": {
      "text/latex": [
       "$\\displaystyle 2^{- p - 1} \\cdot \\left(1 - 2 \\alpha^{2}\\right) \\left(- \\alpha^{2} \\cos{\\left(2 \\beta \\right)} - \\alpha^{2} + 2\\right)^{p} \\sin{\\left(2 \\beta \\right)}$"
      ],
      "text/plain": [
       "2**(-p - 1)*(1 - 2*alpha**2)*(-alpha**2*cos(2*beta) - alpha**2 + 2)**p*sin(2*beta)"
      ]
     },
     "execution_count": 157,
     "metadata": {},
     "output_type": "execute_result"
    }
   ],
   "source": [
    "cos_2beta = sp.cos(2 * beta)\n",
    "sin_2beta = sp.sin(2 * beta)\n",
    "R_xy = term_1[0, 1]\n",
    "R_xy"
   ]
  },
  {
   "cell_type": "code",
   "execution_count": 159,
   "id": "73be9151-cd97-4cce-9a7a-b40251f44a1c",
   "metadata": {},
   "outputs": [
    {
     "data": {
      "text/latex": [
       "$\\displaystyle 0$"
      ],
      "text/plain": [
       "0"
      ]
     },
     "execution_count": 159,
     "metadata": {},
     "output_type": "execute_result"
    }
   ],
   "source": [
    "sp.integrate(R_xy, (beta, 0, sp.pi))"
   ]
  },
  {
   "cell_type": "code",
   "execution_count": 134,
   "id": "212ccd73-7f5e-4231-a2e8-c7a1447c86c3",
   "metadata": {},
   "outputs": [
    {
     "data": {
      "text/latex": [
       "$\\displaystyle \\left[\\begin{matrix}\\alpha^{2 p} \\left(2 \\alpha^{2} - 1\\right)^{2} \\cos^{2 p + 2}{\\left(\\beta \\right)} & - \\alpha^{2 p} \\left(2 \\alpha^{2} - 1\\right) \\sin{\\left(\\beta \\right)} \\cos^{2 p + 1}{\\left(\\beta \\right)} & 2 \\alpha^{2 p + 1} d_{z} \\left(2 \\alpha^{2} - 1\\right) \\cos^{2 p + 2}{\\left(\\beta \\right)}\\\\- \\alpha^{2 p} \\left(2 \\alpha^{2} - 1\\right) \\sin{\\left(\\beta \\right)} \\cos^{2 p + 1}{\\left(\\beta \\right)} & \\alpha^{2 p} \\sin^{2}{\\left(\\beta \\right)} \\cos^{2 p}{\\left(\\beta \\right)} & - 2 \\alpha^{2 p + 1} d_{z} \\sin{\\left(\\beta \\right)} \\cos^{2 p + 1}{\\left(\\beta \\right)}\\\\2 \\alpha^{2 p + 1} d_{z} \\left(2 \\alpha^{2} - 1\\right) \\cos^{2 p + 2}{\\left(\\beta \\right)} & - 2 \\alpha^{2 p + 1} d_{z} \\sin{\\left(\\beta \\right)} \\cos^{2 p + 1}{\\left(\\beta \\right)} & 4 \\alpha^{2 p + 2} d_{z}^{2} \\cos^{2 p + 2}{\\left(\\beta \\right)}\\end{matrix}\\right]$"
      ],
      "text/plain": [
       "Matrix([\n",
       "[        alpha**(2*p)*(2*alpha**2 - 1)**2*cos(beta)**(2*p + 2), -alpha**(2*p)*(2*alpha**2 - 1)*sin(beta)*cos(beta)**(2*p + 1), 2*alpha**(2*p + 1)*d_z*(2*alpha**2 - 1)*cos(beta)**(2*p + 2)],\n",
       "[-alpha**(2*p)*(2*alpha**2 - 1)*sin(beta)*cos(beta)**(2*p + 1),                    alpha**(2*p)*sin(beta)**2*cos(beta)**(2*p),       -2*alpha**(2*p + 1)*d_z*sin(beta)*cos(beta)**(2*p + 1)],\n",
       "[ 2*alpha**(2*p + 1)*d_z*(2*alpha**2 - 1)*cos(beta)**(2*p + 2),        -2*alpha**(2*p + 1)*d_z*sin(beta)*cos(beta)**(2*p + 1),               4*alpha**(2*p + 2)*d_z**2*cos(beta)**(2*p + 2)]])"
      ]
     },
     "execution_count": 134,
     "metadata": {},
     "output_type": "execute_result"
    }
   ],
   "source": [
    "term_2 = sp.Pow(alpha, 2*p) * sp.Pow(cos_beta, 2*p) * Rq_Rq\n",
    "term_2 = sp.simplify(term_2)\n",
    "term_2"
   ]
  },
  {
   "cell_type": "code",
   "execution_count": 168,
   "id": "2d4ea763-22b2-4b4c-ab7f-16636769e29d",
   "metadata": {},
   "outputs": [
    {
     "data": {
      "text/latex": [
       "$\\displaystyle - \\alpha^{2 p} \\left(2 \\alpha^{2} - 1\\right) \\sin{\\left(\\beta \\right)} \\cos^{2 p + 1}{\\left(\\beta \\right)}$"
      ],
      "text/plain": [
       "-alpha**(2*p)*(2*alpha**2 - 1)*sin(beta)*cos(beta)**(2*p + 1)"
      ]
     },
     "execution_count": 168,
     "metadata": {},
     "output_type": "execute_result"
    }
   ],
   "source": [
    "R_yx = term_2[1, 0]\n",
    "R_yx"
   ]
  },
  {
   "cell_type": "code",
   "execution_count": 208,
   "id": "968896f3-d537-4c03-93cb-5e88e5b1806e",
   "metadata": {},
   "outputs": [
    {
     "data": {
      "text/latex": [
       "$\\displaystyle \\frac{\\left(-1\\right)^{2 p} \\alpha^{2 p} \\left(2 \\alpha^{2} - 1\\right)}{2 p + 2} - \\frac{\\alpha^{2 p} \\left(2 \\alpha^{2} - 1\\right)}{2 p + 2}$"
      ],
      "text/plain": [
       "(-1)**(2*p)*alpha**(2*p)*(2*alpha**2 - 1)/(2*p + 2) - alpha**(2*p)*(2*alpha**2 - 1)/(2*p + 2)"
      ]
     },
     "execution_count": 208,
     "metadata": {},
     "output_type": "execute_result"
    }
   ],
   "source": [
    "sp.integrate(R_yx, (beta, 0, sp.pi))\n",
    "# which we can see for any value of \"p\", it yields zero"
   ]
  }
 ],
 "metadata": {
  "kernelspec": {
   "display_name": "Python 3 (ipykernel)",
   "language": "python",
   "name": "python3"
  },
  "language_info": {
   "codemirror_mode": {
    "name": "ipython",
    "version": 3
   },
   "file_extension": ".py",
   "mimetype": "text/x-python",
   "name": "python",
   "nbconvert_exporter": "python",
   "pygments_lexer": "ipython3",
   "version": "3.9.18"
  }
 },
 "nbformat": 4,
 "nbformat_minor": 5
}
