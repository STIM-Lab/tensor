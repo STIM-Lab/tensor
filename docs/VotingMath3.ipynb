{
 "cells": [
  {
   "cell_type": "markdown",
   "id": "990435d2-b579-458e-b1d7-439dc233e8a3",
   "metadata": {},
   "source": [
    "## 3D Tensor Voting\n",
    "\n",
    "$$\n",
    "\\mathbf{V}=\\text{sign}(\\lambda_2)(\\left|\\lambda_2\\right| - \\left|\\lambda_1\\right|) \\mathbf{S}(\\mathbf{v}, \\mathbf{r}, \\mathbf{q}, \\sigma) + \\text{sign}(\\lambda_1)(\\left|\\lambda_1\\right| - \\left|\\lambda_0\\right|) \\mathbf{P}(\\mathbf{v}, \\mathbf{r}, \\sigma) + \\lambda_0 \\mathbf{B}(\\mathbf{v}, \\mathbf{r}, \\sigma)\n",
    "$$\n",
    "Where:\n",
    "* $\\mathbf{V}\\in \\mathbb{R}^{3\\times 3}$ is the tensor result after voting\n",
    "* $\\mathbf{S}\\in \\mathbb{R}^{3\\times 3}$ is the result of stick tensor voting\n",
    "* $\\mathbf{P}\\in \\mathbb{R}^{3\\times 3}$ is the result of plate tensor voting\n",
    "* $\\mathbf{q}\\in \\mathbb{R}^{3}$ is the unit vector specifying the stick tensor (voter) orientation\n",
    "* $\\mathbf{v}\\in \\mathbb{R}^{3}$ is the voter position and $\\mathbf{r}\\in \\mathbb{R}^{3}$ is the receiver\n",
    "* $\\sigma$ is the attenuation factor\n",
    "* $\\lambda_0$ is the smallest eigenvalue and $\\lambda_2$ is the largest eigenvalue of the voter tensor"
   ]
  },
  {
   "cell_type": "markdown",
   "id": "f679d464-4fa1-4950-a329-3072660c6bea",
   "metadata": {},
   "source": [
    "## Stick Tensor\n",
    "\n",
    "$$\n",
    "\\mathbf{S}(\\mathbf{v}, \\mathbf{r}, \\mathbf{q}, \\sigma) = \\eta(\\sigma_1, \\sigma_2, p) D(\\mathbf{v}, \\mathbf{r}, \\mathbf{q}, \\sigma_1, \\sigma_2, p) (\\mathbf{R}\\mathbf{q})(\\mathbf{R}\\mathbf{q})^T\n",
    "$$\n",
    "where $\\mathbf{R}$ is a rotation matrix specifying the orientation of the receiver relative to the voter:\n",
    "$$\n",
    "\\mathbf{R} = \\mathbf{I} - 2\\mathbf{d}\\mathbf{d}^T\n",
    "$$\n",
    "where $\\mathbf{d} = \\frac{\\mathbf{v} - \\mathbf{r}}{\\ell}$ is the direction from the voter to receiver and $\\ell = ||\\mathbf{v} - \\mathbf{r}||$ is the distance."
   ]
  },
  {
   "cell_type": "markdown",
   "id": "62f16926-e673-46a8-ba3e-ba8bcdbe4d10",
   "metadata": {},
   "source": [
    "### Decay Function\n",
    "The decay function describes magnitude of the vote at the receiver:\n",
    "$$\n",
    "D(\\mathbf{v}, \\mathbf{r}, \\mathbf{q}, \\sigma_1, \\sigma_2, p)=e^{-\\frac{\\ell^2}{\\sigma_1^2}}\\left[ 1 - (\\mathbf{q}^T\\mathbf{d})^2 \\right]^p + e^{-\\frac{\\ell^2}{\\sigma_2^2}}(\\mathbf{q}^T\\mathbf{d})^{2p}\n",
    "$$\n",
    "where\n",
    "* $\\sigma_1$ is the standard deviation of the decay orthogonal to $\\mathbf{q}$\n",
    "* $\\sigma_2$ is the standard deviation of the decay in the direction of $\\mathbf{q}$\n",
    "* $p$ is a refinement term that specifies the *spread* of the vote\n",
    "\n",
    "Alternatively, the decay function may be represented using trigonometric functions:\n",
    "$$\n",
    "D(\\beta, \\ell, \\sigma_1, \\sigma_2, p)=e^{-\\frac{\\ell^2}{\\sigma_1^2}} \\sin^{2p} \\beta + e^{-\\frac{\\ell^2}{\\sigma_2^{2}}}\\cos^{2p}\\beta\n",
    "$$\n",
    "where $\\beta=\\cos^{-1}\\left(\\mathbf{q}^T\\mathbf{d}\\right)$."
   ]
  },
  {
   "cell_type": "markdown",
   "id": "7534c1f5-3925-4618-a86b-c70207887c51",
   "metadata": {},
   "source": [
    "### Normalization Term\n",
    "The normalization term ensures that the integral of the plate tensor voting field is 1, and therefore no additional energy is added or taken away from the image:\n",
    "$$\n",
    "\\eta^{-1}(\\sigma_1, \\sigma_2, p) = \\frac{\\pi\\sqrt{\\pi}}{2} \\left(\\sigma^3_1  \\frac{2^{2p+1} \\times (p!)^2}{(2p + 1)!} + \\sigma^3_2 \\frac{2}{2p + 1} \\right)\n",
    "$$"
   ]
  },
  {
   "cell_type": "markdown",
   "id": "97ce941f-5b02-4937-b01f-1b212c016953",
   "metadata": {},
   "source": [
    "---"
   ]
  },
  {
   "cell_type": "markdown",
   "id": "de1d1c96-d896-4c38-81e4-be434edfca60",
   "metadata": {
    "jp-MarkdownHeadingCollapsed": true
   },
   "source": [
    "## Stick Normalization Derivation\n",
    "The normalization factor $\\eta$ scales the decay function by the inverse of its integral:\n",
    "$$\n",
    "\\eta(\\sigma_1, \\sigma_2, p) = \\left[\\int_0^\\infty \\int_0^{2\\pi} \\int_0^\\pi D(\\mathbf{v}, \\mathbf{r}, \\mathbf{q}, \\sigma_1, \\sigma_2, p)\\ell^2 \\, \\sin\\phi\\,d\\phi\\, d\\theta \\, d\\ell\\right]^{-1}\n",
    "$$"
   ]
  },
  {
   "cell_type": "markdown",
   "id": "3be01814-cf25-4e42-9342-08263e7fad2e",
   "metadata": {},
   "source": [
    "I think this will be easiest to do in polar coordinates:\n",
    "$$\n",
    "\\eta^{-1} = \\int_0^\\infty \\int_0^{2\\pi} \\int_0^\\pi \\left[ e^{-\\frac{\\ell^2}{\\sigma_1^2}}\\left[ 1 - (\\mathbf{q}^T\\mathbf{d})^2 \\right]^p + e^{-\\frac{\\ell^2}{\\sigma_2^2}}(\\mathbf{q}^T\\mathbf{d})^{2p} \\right]\\ell^2\\, \\sin\\phi\\,d\\phi\\, d\\theta \\, d\\ell\n",
    "$$\n",
    "where\n",
    "$$\n",
    "\\mathbf{d} =\n",
    "\\begin{bmatrix}\n",
    "\\cos\\theta \\sin\\phi\\\\\n",
    "\\sin\\theta \\sin\\phi\\\\\n",
    "\\cos\\phi\n",
    "\\end{bmatrix}\n",
    "$$"
   ]
  },
  {
   "cell_type": "markdown",
   "id": "70335e11-d9de-4a8a-9764-93c9f4f8b935",
   "metadata": {},
   "source": [
    "Since the integral is across all space, it is independent of the direction of $\\mathbf{q}$, so I believe we can set this to some constant unit vector. The easiest seems to be $\\mathbf{q}=\\mathbf{z}$, in which case $\\mathbf{q}^T\\mathbf{d} = \\cos\\theta$:\n",
    "$$\n",
    "\\eta^{-1} = \\int_0^\\infty \\int_0^{2\\pi} \\int_0^\\pi \\left[ e^{-\\frac{\\ell^2}{\\sigma_1^2}}\\left[ 1 - (\\cos\\phi)^2 \\right]^p + e^{-\\frac{\\ell^2}{\\sigma_2^2}}(\\cos\\phi)^{2p} \\right]\\ell^2\\, \\sin\\phi\\,d\\phi\\, d\\theta \\, d\\ell\n",
    "$$"
   ]
  },
  {
   "cell_type": "markdown",
   "id": "9992af90-6055-4cd4-bd21-dd7204149d66",
   "metadata": {},
   "source": [
    "Separating terms for integration, we get the two integrals:\n",
    "$$\n",
    "\\int_0^\\infty \\int_0^{2\\pi} \\int_0^\\pi e^{-\\frac{\\ell^2}{\\sigma_1^2}}(\\sin^{2p}\\phi)\\ell^2\\, \\sin\\phi\\,d\\phi\\, d\\theta \\, d\\ell\n",
    "$$\n",
    "$$\n",
    "\\int_0^\\infty \\int_0^{2\\pi} \\int_0^\\pi e^{-\\frac{\\ell^2}{\\sigma_1^2}}(\\cos^{2p}\\phi)\\ell^2\\, \\sin\\phi\\,d\\phi\\, d\\theta \\, d\\ell\n",
    "$$"
   ]
  },
  {
   "cell_type": "markdown",
   "id": "641e201d-98f5-44d9-9cf3-0d595a901f7d",
   "metadata": {},
   "source": [
    "Does re-arranging the terms help?\n",
    "$$\n",
    " \\int_0^\\pi\\cos^{2p}\\phi  \\, \\sin\\phi\\, \\int_0^\\infty \\ell^2 e^{-\\frac{\\ell^2}{\\sigma_1^2}} \\int_0^{2\\pi}d\\theta \\,d\\ell \\,d\\phi\n",
    "$$"
   ]
  },
  {
   "cell_type": "markdown",
   "id": "d7d88265-ae02-49cc-a74c-9f5a7a9a044e",
   "metadata": {},
   "source": [
    "$$\n",
    "2\\pi \\int_0^\\pi\\cos^{2p}\\phi  \\,\\sin\\phi\\, \\textcolor{brown}{\\int_0^\\infty \\ell^2 e^{-\\frac{\\ell^2}{\\sigma_1^2}} \\,d\\ell \\,d\\phi} = 2\\pi \\int_0^\\pi\\cos^{2p}\\phi  \\,\\sin\\phi\\, \\textcolor{brown}{\\frac{\\sqrt{\\pi}}{4}\\sigma^3}\n",
    "$$"
   ]
  },
  {
   "cell_type": "markdown",
   "id": "065cd632-7a6b-4b66-9435-427be8035ec1",
   "metadata": {},
   "source": [
    "$$\n",
    "\\frac{\\pi\\sqrt{\\pi}}{2}\\sigma^3_2 \\int_0^\\pi\\cos^{2p}\\phi  \\,\\sin\\phi\\, d\\phi \n",
    "$$"
   ]
  },
  {
   "cell_type": "markdown",
   "id": "7d6f00dd-9eb4-4fd1-9ebd-1026ba68df4b",
   "metadata": {},
   "source": [
    "This leaves us with the two integrals to sum:\n",
    "$$\n",
    "\\frac{\\pi\\sqrt{\\pi}}{2} \\left(\\sigma^3_1 \\int_0^\\pi \\sin^{2p}\\phi \\,\\sin\\phi\\, d\\phi + \\sigma^3_2 \\int_0^\\pi\\cos^{2p}\\phi \\,\\sin\\phi\\, d\\phi \\right)\n",
    "$$"
   ]
  },
  {
   "cell_type": "markdown",
   "id": "5cfe422f-8f75-4d26-b28a-6f0008f3c10c",
   "metadata": {},
   "source": [
    "So it looks like the pattern for the first term is pretty easy to see:\n",
    "$$\n",
    "\\int_0^\\pi\\cos^{2p}\\phi  \\,\\sin\\phi\\, d\\phi = \\frac{2}{2p + 1}\n",
    "$$"
   ]
  },
  {
   "cell_type": "markdown",
   "id": "14e9592c-f9e8-44a9-8778-fc0b1ecf58be",
   "metadata": {},
   "source": [
    "This looks like the harder one:\n",
    "$$\n",
    "\\int_0^\\pi\\sin^{2p}\\phi  \\,\\sin\\phi\\, d\\phi = \\frac{2^{2p+1} \\times (p!)^2}{(2p + 1)!}\n",
    "$$"
   ]
  },
  {
   "cell_type": "markdown",
   "id": "b2a9db1f-2886-4754-89c9-ccf3df30a90b",
   "metadata": {},
   "source": [
    "Final normalization factor $\\eta$ is:\n",
    "$$\n",
    "\\eta^{-1}(\\sigma_1, \\sigma_2, p) = \\frac{\\pi\\sqrt{\\pi}}{2} \\left(\\sigma^3_1  \\frac{2^{2p+1} \\times (p!)^2}{(2p + 1)!} + \\sigma^3_2 \\frac{2}{2p + 1} \\right)\n",
    "$$"
   ]
  },
  {
   "cell_type": "markdown",
   "id": "03df5890-c96a-4c40-9b0f-1d3a2f8cb13b",
   "metadata": {},
   "source": [
    "---"
   ]
  },
  {
   "cell_type": "markdown",
   "id": "7b44cf04-1238-4635-91f2-63fd348a692c",
   "metadata": {},
   "source": [
    "## Plate Tensor Derivation\n",
    "\n",
    "The integral for a plate tensor is given by:\n",
    "$$\n",
    "\\mathbf{P}(\\mathbf{v}, \\mathbf{r}, \\sigma) = \\int_{0}^\\pi \\mathbf{S}(\\mathbf{v}, \\mathbf{r}, \\mathbf{q}, \\sigma) \\,d\\beta=  \\eta(\\sigma_1, \\sigma_2, p) \\int_{0}^\\pi D(\\mathbf{v}, \\mathbf{r}, \\mathbf{q}, \\sigma_1, \\sigma_2, p) (\\mathbf{R}\\mathbf{q})(\\mathbf{R}\\mathbf{q})^T \\, d\\beta\n",
    "$$\n",
    "\n",
    "where\n",
    "\n",
    "$$\n",
    "\\mathbf{d}=\n",
    "\\begin{bmatrix}\n",
    "d_x \\\\\n",
    "d_y \\\\\n",
    "d_z\n",
    "\\end{bmatrix},\n",
    "\\quad\n",
    "\\quad\n",
    "\\mathbf{q}=\n",
    "\\begin{bmatrix}\n",
    "\\cos\\beta \\\\\n",
    "\\sin\\beta \\\\\n",
    "0\n",
    "\\end{bmatrix},\n",
    "\\quad\n",
    "\\quad\n",
    "\\mathbf{R}=\\mathbf{I}-2\\mathbf{d}\\mathbf{d}^T\n",
    "$$\n",
    "For now, we focus on the integral and ignore the normalization term:\n",
    "$$\n",
    "\\int_{0}^\\pi D(\\mathbf{v}, \\mathbf{r}, \\mathbf{q}, \\sigma_1, \\sigma_2, p) (\\mathbf{R}\\mathbf{q})(\\mathbf{R}\\mathbf{q})^T \\, d\\beta= e^{-\\frac{\\ell^2}{\\sigma_1^2}}\\int_0^\\pi  \\left(1 - \\left(\\mathbf{q}^T\\mathbf{d}\\right)^2\\right)^p (\\mathbf{R}\\mathbf{q})(\\mathbf{R}\\mathbf{q})^T \\, d\\beta + e^{-\\frac{\\ell^2}{\\sigma_2^2}}\\int_0^\\pi \\left(\\mathbf{q}^T\\mathbf{d}\\right)^{2p}(\\mathbf{R}\\mathbf{q})(\\mathbf{R}\\mathbf{q})^T \\, d\\beta\n",
    "$$"
   ]
  },
  {
   "cell_type": "markdown",
   "id": "2b09536a-69d9-41c6-b7bc-2101dacc920d",
   "metadata": {},
   "source": [
    "### Global to local rotation\n",
    "To be able to compute the integral with the refinement term *p*, I decided to remove another part of the calculations by rotating the coordinates so that $\\mathbf{d}$ lies entirely in the $\\mathbf{x}$-axis. To do so, I found the projection of $\\mathbf{d}$ in the $\\mathbf{xy}$-plane (including length and angle). In case of rotatation around the $\\mathbf{z}$-axis by $\\mathbf{-\\phi}$ degree, we need to apply $\\mathbf{R_z(-\\phi)}$:\n",
    "\n",
    "$$\n",
    "\\alpha = \\sqrt{d_x^2+d_y^2},\n",
    "\\quad\n",
    "\\quad\n",
    "\\phi = \\arctan(d_y, d_x), \n",
    "\\quad\n",
    "\\quad\n",
    "\\mathbf{R_z(-\\phi)} = \n",
    "\\begin{bmatrix}\n",
    "\\cos{\\phi} & \\sin{\\phi} & 0 \\\\\n",
    "-\\sin{\\phi} & \\cos{\\phi} & 0 \\\\\n",
    "0 & 0 & 1\n",
    "\\end{bmatrix}\n",
    "$$\n",
    "\n",
    "This will create a new set of variables that have been rotated by $\\mathbf{-\\phi}$ around the $\\mathbf{z}$-axis:\n",
    "\n",
    "$$\n",
    "\\beta \\mapsto \\beta' = \\beta - \\phi\n",
    "\\quad\n",
    "\\quad\n",
    "d \\mapsto d' = \\mathbf{R_z(-\\phi)}d = \\begin{bmatrix}\n",
    "\\alpha \\\\\n",
    "0 \\\\\n",
    "d_z\n",
    "\\end{bmatrix},\n",
    "\\quad\n",
    "\\quad\n",
    "q \\mapsto q' = \\mathbf{R_z(-\\phi)}q = \\begin{bmatrix}\n",
    "\\cos{\\beta'} \\\\\n",
    "\\sin{\\beta'} \\\\\n",
    "0\n",
    "\\end{bmatrix}\n",
    "$$\n",
    "\n",
    "where $\\alpha$ is $\\sqrt{d_x^2+d_y^2}$."
   ]
  },
  {
   "cell_type": "markdown",
   "id": "77a91679-a830-44fb-af03-781954518818",
   "metadata": {},
   "source": [
    "Now, based on these variables, we can calculate the new ones from the previous notebook:\n",
    "\n",
    "$$\n",
    "\\mathbf{q'}^T\\mathbf{d'} = \\alpha\\cos{\\beta'},\n",
    "\\quad\n",
    "\\quad\n",
    "\\mathbf{D'}=\n",
    "\\begin{bmatrix}\n",
    "\\alpha^2 & 0 & \\alpha d_z \\\\\n",
    "0 & 0 & 0 \\\\\n",
    "\\alpha d_z & 0 & d_z^2\n",
    "\\end{bmatrix}\n",
    "\\quad\n",
    "\\quad\n",
    "\\mathbf{Q'}=\n",
    "\\begin{bmatrix}\n",
    "\\cos^2(\\beta') & \\cos(\\beta')\\sin(\\beta') & 0\\\\\n",
    "\\cos(\\beta')\\sin(\\beta') & \\sin^2(\\beta') & 0\\\\\n",
    "0 & 0 & 0\n",
    "\\end{bmatrix}\n",
    "$$"
   ]
  },
  {
   "cell_type": "markdown",
   "id": "59933602-f045-4904-9ad7-9371d3098006",
   "metadata": {},
   "source": [
    "We can see that the mutual rotation matrix term will become:\n",
    "\n",
    "$$\n",
    "\\mathbf{R'}\\mathbf{q'} = q' - 2D'q' = \\begin{bmatrix}\n",
    "(1-2\\alpha^2)\\cos{\\beta'} \\\\ \\sin{\\beta'} \\\\ -2 \\alpha d_z \\cos{\\beta'}\n",
    "\\end{bmatrix} \\longrightarrow (\\mathbf{R'}\\mathbf{q'})(\\mathbf{R'}\\mathbf{q'})^T = \\left[(I-2d'd'^T)q'\\right]\\left[(I-2d'd'^T)q'\\right]^T \n",
    "$$\n",
    "\n",
    "$$\n",
    "\\Rightarrow (\\mathbf{R'}\\mathbf{q'})(\\mathbf{R'}\\mathbf{q'})^T = \\mathbf{R'} = \n",
    "\\begin{bmatrix}\n",
    "\\textcolor{green}{(1-2\\alpha^2)^2\\cos^2{\\beta'}} & \\textcolor{brown}{(1-2\\alpha^2)\\cos{\\beta'}\\sin{\\beta'}} & \\textcolor{green}{-(1-2\\alpha^2)2\\alpha d_z \\cos^2{\\beta'}}\\\\ \n",
    "\\textcolor{brown}{(1-2\\alpha^2)\\cos{\\beta'}\\sin{\\beta'}} & \\textcolor{green}{\\sin^2{\\beta'}} & \\textcolor{brown}{-2\\alpha d_z \\cos{\\beta'}\\sin{\\beta'}}\\\\ \n",
    "\\textcolor{green}{-(1-2\\alpha^2)2\\alpha d_z \\cos^2{\\beta'}} & \\textcolor{brown}{-2\\alpha d_z \\cos{\\beta'}\\sin{\\beta'}} & \\textcolor{green}{4\\alpha^2 d_z^2 \\cos^2{\\beta'}}\n",
    "\\end{bmatrix}\n",
    "$$"
   ]
  },
  {
   "cell_type": "markdown",
   "id": "d093b173-8eb2-4db3-83ac-0a9034cace34",
   "metadata": {},
   "source": [
    "Since our integral goes from zero to $\\pi$, we can tell that any term with an odd factor of $\\cos{\\beta'}$ will integrate to zero if the other factors are symmetric about $\\pi$ as well. \n",
    "\n",
    "We prove in the Sympy section that <font color=\"brown\">**these components**</font> yield zero after integration. The only components we need to calculate are: $\\mathbf{R'_xx}$, $\\mathbf{R'_yy}$, $\\mathbf{R'_zz}$, and $\\mathbf{R'_xz}/\\mathbf{R'_zx}$.\n",
    "\n",
    "For now, we have the plate tensor as below:\n",
    "\n",
    "$$\n",
    "\\mathbf{P}(\\mathbf{v}, \\mathbf{r}, \\sigma) = e^{-\\frac{\\ell^2}{\\sigma_1^2}}\\textcolor{red}{\\int_0^\\pi  \\left(1 - \\alpha^2\\cos^2{\\beta'}\\right)^p (\\mathbf{R'})\\, d\\beta'} + e^{-\\frac{\\ell^2}{\\sigma_2^2}} \\textcolor{blue}{\\int_0^\\pi \\alpha^{2p} \\cos^{2p}{\\beta'}(\\mathbf{R'}) \\, d\\beta'}\n",
    "$$"
   ]
  },
  {
   "cell_type": "markdown",
   "id": "56705abe-060e-475f-870e-8ae3503e0e0f",
   "metadata": {},
   "source": [
    "###  <font color=\"red\">First Integral </font> = $\\textcolor{red}{\\int_0^\\pi  \\left(1 - m\\cos^2{\\beta'}\\right)^p (\\mathbf{R'})\\, d\\beta'}$"
   ]
  },
  {
   "cell_type": "markdown",
   "id": "62c2d2c9-71c1-4539-bed1-ea75b60e7469",
   "metadata": {},
   "source": [
    "The four rotation components after multiplication by the term will be:\n",
    "\n",
    "$$\\begin{aligned}\n",
    "\\mathbf{R'_xx} &= \\int_0^\\pi  \\left(1 - \\alpha^2\\cos^2{\\beta'}\\right)^p \\times  (1 - 2\\alpha^2)^2 \\cos^2{\\beta'} \\, d\\beta' \\\\\n",
    "\\mathbf{R'_yy} &= \\int_0^\\pi  \\left(1 - \\alpha^2\\cos^2{\\beta'}\\right)^p \\times  \\sin^2{\\beta'} \\, d\\beta' \\\\\n",
    "\\mathbf{R'_zz} &= \\int_0^\\pi  \\left(1 - \\alpha^2\\cos^2{\\beta'}\\right)^p \\times  4\\alpha^2 d_z^2 \\cos^2{\\beta'} \\, d\\beta' \\\\\n",
    "\\mathbf{R'_zx} &= \\mathbf{R'_xz} = -2\\alpha d_z (1-2\\alpha^2) \\int_0^\\pi  \\left(1 - \\alpha^2\\cos^2{\\beta'}\\right)^p \\times \\cos^2{\\beta'} \\, d\\beta'\n",
    "\\end{aligned}$$\n",
    "\n",
    "If we define two sets of integrals, we can simplify the above terms:\n",
    "$$\n",
    "\\mathbf{J_0} = \\int_0^\\pi  \\left(1 - \\alpha^2\\cos^2{\\beta'}\\right)^p \\cos^2{\\beta'} \\, d\\beta,\n",
    "\\quad\n",
    "\\quad\n",
    "\\mathbf{J_1} = \\int_0^\\pi  \\left(1 - \\alpha^2\\cos^2{\\beta'}\\right)^p \\, d\\beta\n",
    "$$"
   ]
  },
  {
   "cell_type": "markdown",
   "id": "1f38952a-feea-4dc5-92a3-e00482c641ae",
   "metadata": {},
   "source": [
    "The simplified term would become:\n",
    "$$\\begin{aligned}\n",
    "\\mathbf{R'_xx} &= (1 - 2\\alpha^2)^2 \\mathbf{J_0} \\\\\n",
    "\\mathbf{R'_yy} &= \\mathbf{J_1} - \\mathbf{J_0} \\\\\n",
    "\\mathbf{R'_zz} &= 4\\alpha^2 d_z^2 \\mathbf{J_0} \\\\\n",
    "\\mathbf{R'_zx} &= \\mathbf{R'_xz} = -2\\alpha d_z (1-2\\alpha^2) \\mathbf{J_0} = \\frac{-2\\alpha d_z}{1-2\\alpha^2} \\mathbf{R'_xx}\n",
    "\\end{aligned}$$"
   ]
  },
  {
   "cell_type": "markdown",
   "id": "3d241851-a5f5-424c-a964-c71346358cd6",
   "metadata": {},
   "source": [
    "Calculating $\\mathbf{J_0}$ and $\\mathbf{J_1}$ is the tricky part. I found that with a small modification, this integral is similar to the **Gauss's Hypergeometric function** depicted below:\n",
    "$$\n",
    "_2F_1(a, b;c;z) = \\frac{1}{B(b, c-b)} \\int_0^1  x^{b-1}(1-x)^{c-b-1}(1-zx)^{-a}\\, dx\n",
    "$$\n",
    "\n",
    "where $B(x, y)$ is the **Beta function** and $\\Gamma(x)$ is the **Gamma function**.\n",
    "$$\n",
    "B(x, y) = \\int_0^1  t^{x-1}(1-t)^{y-1}\\, dt = \\frac{\\Gamma(x)\\Gamma(y)}{\\Gamma(x+y)},\n",
    "\\quad\n",
    "\\quad\n",
    "\\Gamma(x) = \\int_0^\\inf  t^{x-1}e^{-t}\\, dt\n",
    "$$"
   ]
  },
  {
   "cell_type": "markdown",
   "id": "22f7f21e-47f5-4d20-8137-260b5cbbea14",
   "metadata": {},
   "source": [
    "**Converting to Hypergeometric Function**\n",
    "\n",
    "Since both $\\mathbf{J_0}$ and $\\mathbf{J_1}$ are symmetrical, we can fold them so the integral goes from zero to $\\frac{\\pi}{2}$. I then used a simple substitution to make the integral go from zero to one.\n",
    "$$\\begin{aligned}\n",
    "u &= \\sin^2{\\beta'} \\quad \\Rightarrow \\quad \\cos^2{\\beta'} = 1 - u\n",
    "\\\\\n",
    "d\\beta' &= \\frac{du}{2\\sqrt{u(1-u)}}\\end{aligned}\n",
    "$$\n",
    "\n",
    "The new $\\mathbf{J_0}$ and $\\mathbf{J_1}$ integrals are:\n",
    "$$\\begin{aligned}\n",
    "\\mathbf{J_0} &= \\int_0^1  u^{-0.5}(1-u)^{0.5}(1-\\alpha^2(1-u))^p\\, du\n",
    "\\quad \\longrightarrow \\quad\n",
    "B(1.5, 0.5) _2F_1(-p, 1.5; 2; \\alpha^2)\n",
    "\\\\\n",
    "\\mathbf{J_1} &= \\int_0^1  u^{-0.5}(1-u)^{-0.5}(1-\\alpha^2(1-u))^p\\, du\n",
    "\\quad \\longrightarrow \\quad\n",
    "B(0.5, 0.5) _2F_1(-p, 0.5; 1; \\alpha^2)\n",
    "\\end{aligned}$$\n",
    "\n",
    "Which is\n",
    "$$\\begin{aligned}\n",
    "\\mathbf{J_0} &= \\frac{\\pi}{2} {_2F_1(-p, 1.5; 2; \\alpha^2)}\n",
    "\\\\\n",
    "\\mathbf{J_1} &= \\pi {_2F_1(-p, 0.5; 1; \\alpha^2)}\n",
    "\\end{aligned}$$"
   ]
  },
  {
   "cell_type": "markdown",
   "id": "b7972fdf-0530-4984-9997-555d1da96f03",
   "metadata": {},
   "source": [
    "###  <font color=\"blue\">Second Integral </font> = $\\textcolor{blue}{\\int_0^\\pi \\alpha^{2p} \\cos^{2p}{\\beta'}(\\mathbf{R'}) \\, d\\beta'}$"
   ]
  },
  {
   "cell_type": "markdown",
   "id": "b4c511ec-9862-45eb-8043-1e325ba82aa0",
   "metadata": {},
   "source": [
    "So the four rotation components after multiplication with the term will be:\n",
    "\n",
    "$$\\begin{aligned}\n",
    "\\mathbf{R'_xx} &= \\int_0^\\pi  \\alpha^{2p} \\cos^{2p}{\\beta'} \\times  (1 - 2\\alpha^2)^2 \\cos^2{\\beta'} \\, d\\beta' \\\\\n",
    "\\mathbf{R'_yy} &= \\int_0^\\pi  \\alpha^{2p} \\cos^{2p}{\\beta'} \\times  \\sin^2{\\beta'} \\, d\\beta' \\\\\n",
    "\\mathbf{R'_zz} &= \\int_0^\\pi  \\alpha^{2p} \\cos^{2p}{\\beta'} \\times  4\\alpha^2 d_z^2 \\cos^2{\\beta'} \\, d\\beta' \\\\\n",
    "\\mathbf{R'_zx} &= \\mathbf{R'_xz} = -2\\alpha d_z (1-2\\alpha^2) \\int_0^\\pi \\alpha^{2p} \\cos^{2p}{\\beta'} \\times \\cos^2{\\beta'} \\, d\\beta'\n",
    "\\end{aligned}$$\n",
    "\n",
    "If we define two sets of integrals, we can simplify the above terms:\n",
    "$$\n",
    "\\mathbf{K_0} = \\int_0^\\pi  \\cos^{2(p+1)}{\\beta'}\\, d\\beta,\n",
    "\\quad\n",
    "\\quad\n",
    "\\mathbf{K_1} = \\int_0^\\pi  \\cos^{2p}{\\beta'} \\, d\\beta\n",
    "$$"
   ]
  },
  {
   "cell_type": "markdown",
   "id": "3be132b9-2a08-428d-8001-a8a00a888a02",
   "metadata": {},
   "source": [
    "Therefore, we have:\n",
    "$$\\begin{aligned}\n",
    "\\mathbf{R'_xx} &= \\alpha^{2p} (1 - 2\\alpha^2)^2 \\mathbf{K_0} \\\\\n",
    "\\mathbf{R'_yy} &= \\alpha^{2p} \\left(\\mathbf{K_1} - \\mathbf{K_0}\\right) \\\\\n",
    "\\mathbf{R'_zz} &= 4\\alpha^{2(p+1)} d_z^2 \\mathbf{K_0} \\\\\n",
    "\\mathbf{R'_zx} &= \\mathbf{R'_xz} = -2\\alpha^{2p+1} d_z (1-2\\alpha^2) \\mathbf{K_0} = \\frac{-2\\alpha d_z}{1-2\\alpha^2} \\mathbf{R'_xx}\n",
    "\\end{aligned}$$"
   ]
  },
  {
   "cell_type": "markdown",
   "id": "9b5f63df-5bf1-49ae-b2a8-77c2d6793b2a",
   "metadata": {},
   "source": [
    "Based on the other definition of Beta functions, we have:\n",
    "$$\n",
    "B(x, y) = 2 \\int_0^{\\frac{\\pi}{2}}  \\sin^{2x-1}{\\theta} \\cos^{2y-1}{\\theta} \\, d\\theta\n",
    "$$\n",
    "\n",
    "Therefore, \n",
    "\n",
    "$$\\begin{aligned}\n",
    "\\mathbf{K_0} = B(\\frac{1}{2}, p+\\frac{3}{2}),\n",
    "\\quad\\quad\n",
    "\\mathbf{K_1} = B(\\frac{1}{2}, p+\\frac{1}{2})\n",
    "\\end{aligned}$$"
   ]
  },
  {
   "cell_type": "markdown",
   "id": "e79c860b-d373-4245-b1b7-0f23832fb466",
   "metadata": {},
   "source": [
    "### Final Integrals"
   ]
  },
  {
   "cell_type": "markdown",
   "id": "c47f6b71-cd0d-40b7-81e2-2c728a19c2c0",
   "metadata": {},
   "source": [
    "So, the final integrals are:\n",
    "\n",
    "$$\n",
    "\\textcolor{red}{\\mathbf{A}} = \n",
    "\\begin{bmatrix}\n",
    "(1 - 2\\alpha^2)^2 \\mathbf{J_0} & 0 & -2\\alpha d_z (1-2\\alpha^2) \\mathbf{J_0} \\\\\n",
    "0 & \\mathbf{J_1} - \\mathbf{J_0} & 0 \\\\\n",
    "-2\\alpha d_z (1-2\\alpha^2) \\mathbf{J_0} & 0 & 4\\alpha^2 d_z^2 \\mathbf{J_0} \\\\\n",
    "\\end{bmatrix},\n",
    "$$\n",
    "\n",
    "$$\n",
    "\\textcolor{blue}{\\mathbf{B}} = \n",
    "\\begin{bmatrix}\n",
    "\\alpha^{2p}(1 - 2\\alpha^2)^2 \\mathbf{K_0} & 0 & -2\\alpha^{2p+1} d_z (1-2\\alpha^2) \\mathbf{K_0} \\\\\n",
    "0 & \\alpha^{2p} \\left(\\mathbf{K_1} - \\mathbf{K_0}\\right) & 0 \\\\\n",
    "-2\\alpha^{2p+1} d_z (1-2\\alpha^2) \\mathbf{K_0} & 0 & 4\\alpha^{2(p+1)} d_z^2 \\mathbf{K_0} \\\\\n",
    "\\end{bmatrix}\n",
    "$$\n",
    "\n",
    "where **J** and **K** values are:\n",
    "$$\n",
    "\\mathbf{J_0} = \\frac{\\pi}{2} {_2F_1(-p, 1.5; 2; m)}\n",
    "\\quad \\quad\n",
    "\\mathbf{J_1} = \\pi {_2F_1(-p, 0.5; 1; m)}\n",
    "$$\n",
    "$$\n",
    "\\mathbf{K_0} = B(\\frac{1}{2}, p+\\frac{3}{2}),\n",
    "\\quad\\quad\n",
    "\\mathbf{K_1} = B(\\frac{1}{2}, p+\\frac{1}{2})\n",
    "$$"
   ]
  },
  {
   "cell_type": "markdown",
   "id": "6862abeb-0924-4fe0-96d7-9aac93963437",
   "metadata": {},
   "source": [
    "The final step is to map the integrals back to their original axes.\n",
    "\n",
    "$$\n",
    "\\mathbf{P}(\\mathbf{v}, \\mathbf{r}, \\sigma) = e^{-\\frac{\\ell^2}{\\sigma_1^2}}\\textcolor{green}{R_z(\\phi)}\\textcolor{red}{A}\\textcolor{green}{R_z(-\\phi)} + e^{-\\frac{\\ell^2}{\\sigma_2^2}} \\textcolor{green}{R_z(\\phi)}\\textcolor{blue}{B}\\textcolor{green}{R_z(-\\phi)}\n",
    "$$"
   ]
  },
  {
   "cell_type": "markdown",
   "id": "1f9e57ec-0bf4-4457-ba20-66a79018796d",
   "metadata": {},
   "source": [
    "It is important to note that we have transformed the global coordinate system into a local one for our calculations. After completing all computations, we have to revert the final results back to the original global coordinate system."
   ]
  },
  {
   "cell_type": "markdown",
   "id": "038225d0-a16b-4458-9f0c-a25a58320665",
   "metadata": {},
   "source": [
    "---\n",
    "## 3D Math"
   ]
  },
  {
   "cell_type": "code",
   "execution_count": 16,
   "id": "1975a76a-cf19-4140-be0c-e125556ee919",
   "metadata": {},
   "outputs": [
    {
     "data": {
      "text/latex": [
       "$\\displaystyle \\left[\\begin{matrix}d_{x}\\\\d_{y}\\\\d_{z}\\end{matrix}\\right]$"
      ],
      "text/plain": [
       "Matrix([\n",
       "[d_x],\n",
       "[d_y],\n",
       "[d_z]])"
      ]
     },
     "execution_count": 16,
     "metadata": {},
     "output_type": "execute_result"
    }
   ],
   "source": [
    "import sympy as sp\n",
    "\n",
    "beta = sp.symbols(\"beta\")\n",
    "dx, dy, dz = sp.symbols(\"d_x d_y d_z\")\n",
    "\n",
    "sin_beta = sp.sin(beta)\n",
    "cos_beta = sp.cos(beta)\n",
    "\n",
    "# 3D implementation\n",
    "q = sp.Matrix([cos_beta, sin_beta, 0])\n",
    "d = sp.Matrix([dx, dy, dz])\n",
    "\n",
    "d"
   ]
  },
  {
   "cell_type": "code",
   "execution_count": 17,
   "id": "65e25c78-aeeb-47e8-adc6-ab3d3f3708b6",
   "metadata": {},
   "outputs": [
    {
     "data": {
      "text/latex": [
       "$\\displaystyle \\left[\\begin{matrix}\\cos{\\left(\\beta \\right)}\\\\\\sin{\\left(\\beta \\right)}\\\\0\\end{matrix}\\right]$"
      ],
      "text/plain": [
       "Matrix([\n",
       "[cos(beta)],\n",
       "[sin(beta)],\n",
       "[        0]])"
      ]
     },
     "execution_count": 17,
     "metadata": {},
     "output_type": "execute_result"
    }
   ],
   "source": [
    "q"
   ]
  },
  {
   "cell_type": "code",
   "execution_count": 18,
   "id": "b6e932bf-6ca9-4e43-985d-7915d85e6d83",
   "metadata": {},
   "outputs": [
    {
     "data": {
      "text/latex": [
       "$\\displaystyle \\left[\\begin{matrix}\\frac{d_{x}}{\\sqrt{d_{x}^{2} + d_{y}^{2}}} & \\frac{d_{y}}{\\sqrt{d_{x}^{2} + d_{y}^{2}}} & 0\\\\- \\frac{d_{y}}{\\sqrt{d_{x}^{2} + d_{y}^{2}}} & \\frac{d_{x}}{\\sqrt{d_{x}^{2} + d_{y}^{2}}} & 0\\\\0 & 0 & 1\\end{matrix}\\right]$"
      ],
      "text/plain": [
       "Matrix([\n",
       "[ d_x/sqrt(d_x**2 + d_y**2), d_y/sqrt(d_x**2 + d_y**2), 0],\n",
       "[-d_y/sqrt(d_x**2 + d_y**2), d_x/sqrt(d_x**2 + d_y**2), 0],\n",
       "[                         0,                         0, 1]])"
      ]
     },
     "execution_count": 18,
     "metadata": {},
     "output_type": "execute_result"
    }
   ],
   "source": [
    "# alpha is the length of the project of d in the XY-axis\n",
    "alpha = sp.sqrt(dx**2 + dy**2)\n",
    "\n",
    "cos_phi = dx / alpha\n",
    "sin_phi = dy / alpha\n",
    "\n",
    "# rotation matrix Rz(-phi)\n",
    "Rz_neg_phi = sp.Matrix([[cos_phi, sin_phi, 0],\n",
    "                        [-sin_phi, cos_phi, 0],\n",
    "                        [0, 0, 1] ])\n",
    "Rz_neg_phi"
   ]
  },
  {
   "cell_type": "code",
   "execution_count": 19,
   "id": "cac762f3-158f-4bb0-b741-c84568d41788",
   "metadata": {},
   "outputs": [
    {
     "data": {
      "text/latex": [
       "$\\displaystyle \\left[\\begin{matrix}\\sqrt{d_{x}^{2} + d_{y}^{2}}\\\\0\\\\d_{z}\\end{matrix}\\right]$"
      ],
      "text/plain": [
       "Matrix([\n",
       "[sqrt(d_x**2 + d_y**2)],\n",
       "[                    0],\n",
       "[                  d_z]])"
      ]
     },
     "execution_count": 19,
     "metadata": {},
     "output_type": "execute_result"
    }
   ],
   "source": [
    "# calculate the d prime\n",
    "d_local = Rz_neg_phi * d\n",
    "sp.simplify(d_local)"
   ]
  },
  {
   "cell_type": "code",
   "execution_count": 23,
   "id": "624b9df7-88c3-4e1e-9f0a-1c42a1f28313",
   "metadata": {},
   "outputs": [
    {
     "data": {
      "text/latex": [
       "$\\displaystyle \\left[\\begin{matrix}\\frac{d_{x} \\cos{\\left(\\beta \\right)} + d_{y} \\sin{\\left(\\beta \\right)}}{\\sqrt{d_{x}^{2} + d_{y}^{2}}}\\\\\\frac{d_{x} \\sin{\\left(\\beta \\right)} - d_{y} \\cos{\\left(\\beta \\right)}}{\\sqrt{d_{x}^{2} + d_{y}^{2}}}\\\\0\\end{matrix}\\right]$"
      ],
      "text/plain": [
       "Matrix([\n",
       "[(d_x*cos(beta) + d_y*sin(beta))/sqrt(d_x**2 + d_y**2)],\n",
       "[(d_x*sin(beta) - d_y*cos(beta))/sqrt(d_x**2 + d_y**2)],\n",
       "[                                                    0]])"
      ]
     },
     "execution_count": 23,
     "metadata": {},
     "output_type": "execute_result"
    }
   ],
   "source": [
    "# calculate q prime\n",
    "q_local = Rz_neg_phi * q\n",
    "q_local = sp.simplify(q_local)\n",
    "q_local"
   ]
  },
  {
   "cell_type": "code",
   "execution_count": 25,
   "id": "e75e0971-8862-4ce3-9165-cde0c5a2f3f3",
   "metadata": {},
   "outputs": [
    {
     "data": {
      "text/latex": [
       "$\\displaystyle \\left[\\begin{matrix}\\alpha^{2} & 0 & \\alpha d_{z}\\\\0 & 0 & 0\\\\\\alpha d_{z} & 0 & d_{z}^{2}\\end{matrix}\\right]$"
      ],
      "text/plain": [
       "Matrix([\n",
       "[ alpha**2, 0, alpha*d_z],\n",
       "[        0, 0,         0],\n",
       "[alpha*d_z, 0,    d_z**2]])"
      ]
     },
     "execution_count": 25,
     "metadata": {},
     "output_type": "execute_result"
    }
   ],
   "source": [
    "# From now on, everything is in the primed frame\n",
    "alpha = sp.symbols('alpha')\n",
    "beta_p = sp.symbols('beta')\n",
    "dz = sp.symbols('d_z')\n",
    "p = sp.symbols('p', nonnegative=True)\n",
    "\n",
    "cos_beta = sp.cos(beta_p)\n",
    "sin_beta = sp.sin(beta_p)\n",
    "\n",
    "# d' and q'\n",
    "d = sp.Matrix([alpha, 0, dz])\n",
    "q = sp.Matrix([[cos_beta], [sin_beta], [0]])\n",
    "\n",
    "D = d * d.transpose()\n",
    "D"
   ]
  },
  {
   "cell_type": "code",
   "execution_count": 26,
   "id": "e05e66f9-c385-406b-8c89-58e1744b11a0",
   "metadata": {},
   "outputs": [
    {
     "data": {
      "text/latex": [
       "$\\displaystyle \\left[\\begin{matrix}\\cos^{2}{\\left(\\beta \\right)} & \\sin{\\left(\\beta \\right)} \\cos{\\left(\\beta \\right)} & 0\\\\\\sin{\\left(\\beta \\right)} \\cos{\\left(\\beta \\right)} & \\sin^{2}{\\left(\\beta \\right)} & 0\\\\0 & 0 & 0\\end{matrix}\\right]$"
      ],
      "text/plain": [
       "Matrix([\n",
       "[       cos(beta)**2, sin(beta)*cos(beta), 0],\n",
       "[sin(beta)*cos(beta),        sin(beta)**2, 0],\n",
       "[                  0,                   0, 0]])"
      ]
     },
     "execution_count": 26,
     "metadata": {},
     "output_type": "execute_result"
    }
   ],
   "source": [
    "Q = q * q.transpose()\n",
    "Q"
   ]
  },
  {
   "cell_type": "code",
   "execution_count": 27,
   "id": "72794b5c-928c-46a1-843e-d4d736f0b0e1",
   "metadata": {},
   "outputs": [
    {
     "data": {
      "text/latex": [
       "$\\displaystyle \\left[\\begin{matrix}1 - 2 \\alpha^{2} & 0 & - 2 \\alpha d_{z}\\\\0 & 1 & 0\\\\- 2 \\alpha d_{z} & 0 & 1 - 2 d_{z}^{2}\\end{matrix}\\right]$"
      ],
      "text/plain": [
       "Matrix([\n",
       "[1 - 2*alpha**2, 0, -2*alpha*d_z],\n",
       "[             0, 1,            0],\n",
       "[  -2*alpha*d_z, 0, 1 - 2*d_z**2]])"
      ]
     },
     "execution_count": 27,
     "metadata": {},
     "output_type": "execute_result"
    }
   ],
   "source": [
    "R = sp.eye(3) - 2 * D\n",
    "R"
   ]
  },
  {
   "cell_type": "code",
   "execution_count": 28,
   "id": "b6207bf7-8f02-4124-9ead-498994d5abbf",
   "metadata": {},
   "outputs": [
    {
     "data": {
      "text/latex": [
       "$\\displaystyle \\left[\\begin{matrix}\\left(1 - 2 \\alpha^{2}\\right) \\cos{\\left(\\beta \\right)}\\\\\\sin{\\left(\\beta \\right)}\\\\- 2 \\alpha d_{z} \\cos{\\left(\\beta \\right)}\\end{matrix}\\right]$"
      ],
      "text/plain": [
       "Matrix([\n",
       "[(1 - 2*alpha**2)*cos(beta)],\n",
       "[                 sin(beta)],\n",
       "[    -2*alpha*d_z*cos(beta)]])"
      ]
     },
     "execution_count": 28,
     "metadata": {},
     "output_type": "execute_result"
    }
   ],
   "source": [
    "R_q = R * q\n",
    "R_q"
   ]
  },
  {
   "cell_type": "code",
   "execution_count": 29,
   "id": "1c2eb967-b131-4975-b3cd-e97d4e19006b",
   "metadata": {},
   "outputs": [
    {
     "data": {
      "text/latex": [
       "$\\displaystyle \\left[\\begin{matrix}\\left(1 - 2 \\alpha^{2}\\right)^{2} \\cos^{2}{\\left(\\beta \\right)} & \\left(1 - 2 \\alpha^{2}\\right) \\sin{\\left(\\beta \\right)} \\cos{\\left(\\beta \\right)} & - 2 \\alpha d_{z} \\left(1 - 2 \\alpha^{2}\\right) \\cos^{2}{\\left(\\beta \\right)}\\\\\\left(1 - 2 \\alpha^{2}\\right) \\sin{\\left(\\beta \\right)} \\cos{\\left(\\beta \\right)} & \\sin^{2}{\\left(\\beta \\right)} & - 2 \\alpha d_{z} \\sin{\\left(\\beta \\right)} \\cos{\\left(\\beta \\right)}\\\\- 2 \\alpha d_{z} \\left(1 - 2 \\alpha^{2}\\right) \\cos^{2}{\\left(\\beta \\right)} & - 2 \\alpha d_{z} \\sin{\\left(\\beta \\right)} \\cos{\\left(\\beta \\right)} & 4 \\alpha^{2} d_{z}^{2} \\cos^{2}{\\left(\\beta \\right)}\\end{matrix}\\right]$"
      ],
      "text/plain": [
       "Matrix([\n",
       "[          (1 - 2*alpha**2)**2*cos(beta)**2, (1 - 2*alpha**2)*sin(beta)*cos(beta), -2*alpha*d_z*(1 - 2*alpha**2)*cos(beta)**2],\n",
       "[      (1 - 2*alpha**2)*sin(beta)*cos(beta),                         sin(beta)**2,           -2*alpha*d_z*sin(beta)*cos(beta)],\n",
       "[-2*alpha*d_z*(1 - 2*alpha**2)*cos(beta)**2,     -2*alpha*d_z*sin(beta)*cos(beta),             4*alpha**2*d_z**2*cos(beta)**2]])"
      ]
     },
     "execution_count": 29,
     "metadata": {},
     "output_type": "execute_result"
    }
   ],
   "source": [
    "Rq_Rq = R_q * R_q.transpose()\n",
    "Rq_Rq"
   ]
  },
  {
   "cell_type": "code",
   "execution_count": 30,
   "id": "6670929e-add3-42f1-b902-8dc530e4f2b5",
   "metadata": {},
   "outputs": [
    {
     "data": {
      "text/latex": [
       "$\\displaystyle \\left[\\begin{matrix}\\left(2 \\alpha^{2} - 1\\right)^{2} \\left(- \\alpha^{2} \\cos^{2}{\\left(\\beta \\right)} + 1\\right)^{p} \\cos^{2}{\\left(\\beta \\right)} & 2^{- p - 1} \\left(1 - 2 \\alpha^{2}\\right) \\left(- \\alpha^{2} \\cos{\\left(2 \\beta \\right)} - \\alpha^{2} + 2\\right)^{p} \\sin{\\left(2 \\beta \\right)} & 2 \\alpha d_{z} \\left(2 \\alpha^{2} - 1\\right) \\left(- \\alpha^{2} \\cos^{2}{\\left(\\beta \\right)} + 1\\right)^{p} \\cos^{2}{\\left(\\beta \\right)}\\\\2^{- p - 1} \\left(1 - 2 \\alpha^{2}\\right) \\left(- \\alpha^{2} \\cos{\\left(2 \\beta \\right)} - \\alpha^{2} + 2\\right)^{p} \\sin{\\left(2 \\beta \\right)} & \\left(- \\alpha^{2} \\cos^{2}{\\left(\\beta \\right)} + 1\\right)^{p} \\sin^{2}{\\left(\\beta \\right)} & - 2^{- p} \\alpha d_{z} \\left(- \\alpha^{2} \\cos{\\left(2 \\beta \\right)} - \\alpha^{2} + 2\\right)^{p} \\sin{\\left(2 \\beta \\right)}\\\\2 \\alpha d_{z} \\left(2 \\alpha^{2} - 1\\right) \\left(- \\alpha^{2} \\cos^{2}{\\left(\\beta \\right)} + 1\\right)^{p} \\cos^{2}{\\left(\\beta \\right)} & - 2^{- p} \\alpha d_{z} \\left(- \\alpha^{2} \\cos{\\left(2 \\beta \\right)} - \\alpha^{2} + 2\\right)^{p} \\sin{\\left(2 \\beta \\right)} & 4 \\alpha^{2} d_{z}^{2} \\left(- \\alpha^{2} \\cos^{2}{\\left(\\beta \\right)} + 1\\right)^{p} \\cos^{2}{\\left(\\beta \\right)}\\end{matrix}\\right]$"
      ],
      "text/plain": [
       "Matrix([\n",
       "[                  (2*alpha**2 - 1)**2*(-alpha**2*cos(beta)**2 + 1)**p*cos(beta)**2, 2**(-p - 1)*(1 - 2*alpha**2)*(-alpha**2*cos(2*beta) - alpha**2 + 2)**p*sin(2*beta), 2*alpha*d_z*(2*alpha**2 - 1)*(-alpha**2*cos(beta)**2 + 1)**p*cos(beta)**2],\n",
       "[2**(-p - 1)*(1 - 2*alpha**2)*(-alpha**2*cos(2*beta) - alpha**2 + 2)**p*sin(2*beta),                                       (-alpha**2*cos(beta)**2 + 1)**p*sin(beta)**2,     -alpha*d_z*(-alpha**2*cos(2*beta) - alpha**2 + 2)**p*sin(2*beta)/2**p],\n",
       "[         2*alpha*d_z*(2*alpha**2 - 1)*(-alpha**2*cos(beta)**2 + 1)**p*cos(beta)**2,              -alpha*d_z*(-alpha**2*cos(2*beta) - alpha**2 + 2)**p*sin(2*beta)/2**p,            4*alpha**2*d_z**2*(-alpha**2*cos(beta)**2 + 1)**p*cos(beta)**2]])"
      ]
     },
     "execution_count": 30,
     "metadata": {},
     "output_type": "execute_result"
    }
   ],
   "source": [
    "# First integral terms (term A)\n",
    "termA_integ = sp.Pow(1 - sp.Pow(alpha*cos_beta, 2), p) * Rq_Rq\n",
    "termA_integ = sp.simplify(termA_integ)\n",
    "termA_integ"
   ]
  },
  {
   "cell_type": "code",
   "execution_count": 32,
   "id": "7a6c8131-604f-4a44-8122-09c5ddf6c26b",
   "metadata": {},
   "outputs": [
    {
     "data": {
      "text/latex": [
       "$\\displaystyle \\left[\\begin{matrix}\\alpha^{2 p} \\left(2 \\alpha^{2} - 1\\right)^{2} \\cos^{2 p + 2}{\\left(\\beta \\right)} & - \\alpha^{2 p} \\left(2 \\alpha^{2} - 1\\right) \\sin{\\left(\\beta \\right)} \\cos^{2 p + 1}{\\left(\\beta \\right)} & 2 \\alpha^{2 p + 1} d_{z} \\left(2 \\alpha^{2} - 1\\right) \\cos^{2 p + 2}{\\left(\\beta \\right)}\\\\- \\alpha^{2 p} \\left(2 \\alpha^{2} - 1\\right) \\sin{\\left(\\beta \\right)} \\cos^{2 p + 1}{\\left(\\beta \\right)} & \\alpha^{2 p} \\sin^{2}{\\left(\\beta \\right)} \\cos^{2 p}{\\left(\\beta \\right)} & - 2 \\alpha^{2 p + 1} d_{z} \\sin{\\left(\\beta \\right)} \\cos^{2 p + 1}{\\left(\\beta \\right)}\\\\2 \\alpha^{2 p + 1} d_{z} \\left(2 \\alpha^{2} - 1\\right) \\cos^{2 p + 2}{\\left(\\beta \\right)} & - 2 \\alpha^{2 p + 1} d_{z} \\sin{\\left(\\beta \\right)} \\cos^{2 p + 1}{\\left(\\beta \\right)} & 4 \\alpha^{2 p + 2} d_{z}^{2} \\cos^{2 p + 2}{\\left(\\beta \\right)}\\end{matrix}\\right]$"
      ],
      "text/plain": [
       "Matrix([\n",
       "[        alpha**(2*p)*(2*alpha**2 - 1)**2*cos(beta)**(2*p + 2), -alpha**(2*p)*(2*alpha**2 - 1)*sin(beta)*cos(beta)**(2*p + 1), 2*alpha**(2*p + 1)*d_z*(2*alpha**2 - 1)*cos(beta)**(2*p + 2)],\n",
       "[-alpha**(2*p)*(2*alpha**2 - 1)*sin(beta)*cos(beta)**(2*p + 1),                    alpha**(2*p)*sin(beta)**2*cos(beta)**(2*p),       -2*alpha**(2*p + 1)*d_z*sin(beta)*cos(beta)**(2*p + 1)],\n",
       "[ 2*alpha**(2*p + 1)*d_z*(2*alpha**2 - 1)*cos(beta)**(2*p + 2),        -2*alpha**(2*p + 1)*d_z*sin(beta)*cos(beta)**(2*p + 1),               4*alpha**(2*p + 2)*d_z**2*cos(beta)**(2*p + 2)]])"
      ]
     },
     "execution_count": 32,
     "metadata": {},
     "output_type": "execute_result"
    }
   ],
   "source": [
    "# Second integral terms (term B)\n",
    "termB_integ = sp.Pow(alpha, 2*p) * sp.Pow(cos_beta, 2*p) * Rq_Rq\n",
    "termB_integ = sp.simplify(termB_integ)\n",
    "termB_integ"
   ]
  },
  {
   "cell_type": "code",
   "execution_count": 33,
   "id": "de4ce5cd-fe9b-4dda-b63c-1132a93dab67",
   "metadata": {},
   "outputs": [
    {
     "data": {
      "text/latex": [
       "$\\displaystyle 0$"
      ],
      "text/plain": [
       "0"
      ]
     },
     "execution_count": 33,
     "metadata": {},
     "output_type": "execute_result"
    }
   ],
   "source": [
    "# Let's test to show that the off-diagonal terms (odd powers) integrate to zero over [0,pi]\n",
    "Rxy_A = termA_integ[0, 1]\n",
    "sp.integrate(Rxy_A, (beta_p, 0, sp.pi))"
   ]
  },
  {
   "cell_type": "code",
   "execution_count": 36,
   "id": "22b55b35-1343-4373-a480-798c4f5941ed",
   "metadata": {},
   "outputs": [
    {
     "data": {
      "text/latex": [
       "$\\displaystyle \\frac{\\alpha^{2 p} \\left(\\left(-1\\right)^{2 p} \\left(2 \\alpha^{2} - 1\\right) - 2 \\alpha^{2} + 1\\right)}{2 \\left(p + 1\\right)}$"
      ],
      "text/plain": [
       "alpha**(2*p)*((-1)**(2*p)*(2*alpha**2 - 1) - 2*alpha**2 + 1)/(2*(p + 1))"
      ]
     },
     "execution_count": 36,
     "metadata": {},
     "output_type": "execute_result"
    }
   ],
   "source": [
    "# since p is positive, the expression simplifies to zero\n",
    "Ryx_B = termB_integ[1, 0]\n",
    "sp.simplify(sp.integrate(Ryx_B, (beta_p, 0, sp.pi)))"
   ]
  },
  {
   "cell_type": "code",
   "execution_count": null,
   "id": "f7d858ce-ae74-4534-9d59-16585ff1bf61",
   "metadata": {},
   "outputs": [],
   "source": []
  }
 ],
 "metadata": {
  "kernelspec": {
   "display_name": "Python 3 (ipykernel)",
   "language": "python",
   "name": "python3"
  },
  "language_info": {
   "codemirror_mode": {
    "name": "ipython",
    "version": 3
   },
   "file_extension": ".py",
   "mimetype": "text/x-python",
   "name": "python",
   "nbconvert_exporter": "python",
   "pygments_lexer": "ipython3",
   "version": "3.9.18"
  }
 },
 "nbformat": 4,
 "nbformat_minor": 5
}
