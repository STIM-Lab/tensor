{
 "cells": [
  {
   "cell_type": "markdown",
   "id": "990435d2-b579-458e-b1d7-439dc233e8a3",
   "metadata": {},
   "source": [
    "## 3D Tensor Voting\n",
    "\n",
    "$$\n",
    "\\mathbf{V}=\\text{sign}(\\lambda_2)(\\left|\\lambda_2\\right| - \\left|\\lambda_1\\right|) \\mathbf{S}(\\mathbf{v}, \\mathbf{r}, \\mathbf{q}, \\sigma) + \\text{sign}(\\lambda_1)(\\left|\\lambda_1\\right| - \\left|\\lambda_0\\right|) \\mathbf{P}(\\mathbf{v}, \\mathbf{r}, \\sigma) + \\lambda_0 \\mathbf{B}(\\mathbf{v}, \\mathbf{r}, \\sigma)\n",
    "$$\n",
    "Where:\n",
    "* $\\mathbf{V}\\in \\mathbb{R}^{3\\times 3}$ is the tensor result after voting\n",
    "* $\\mathbf{S}\\in \\mathbb{R}^{3\\times 3}$ is the result of stick tensor voting\n",
    "* $\\mathbf{P}\\in \\mathbb{R}^{3\\times 3}$ is the result of plate tensor voting\n",
    "* $\\mathbf{q}\\in \\mathbb{R}^{3}$ is the unit vector specifying the stick tensor (voter) orientation\n",
    "* $\\mathbf{v}\\in \\mathbb{R}^{3}$ is the voter position and $\\mathbf{r}\\in \\mathbb{R}^{3}$ is the receiver\n",
    "* $\\sigma$ is the attenuation factor\n",
    "* $\\lambda_0$ is the smallest eigenvalue and $\\lambda_2$ is the largest eigenvalue of the voter tensor"
   ]
  },
  {
   "cell_type": "markdown",
   "id": "f679d464-4fa1-4950-a329-3072660c6bea",
   "metadata": {},
   "source": [
    "## Stick Tensor\n",
    "\n",
    "$$\n",
    "\\mathbf{S}(\\mathbf{v}, \\mathbf{r}, \\mathbf{q}, \\sigma) = \\eta(\\sigma_1, \\sigma_2, p) D(\\mathbf{v}, \\mathbf{r}, \\mathbf{q}, \\sigma_1, \\sigma_2, p) (\\mathbf{R}\\mathbf{q})(\\mathbf{R}\\mathbf{q})^T\n",
    "$$\n",
    "where $\\mathbf{R}$ is a rotation matrix specifying the orientation of the receiver relative to the voter:\n",
    "$$\n",
    "\\mathbf{R} = \\mathbf{I} - 2\\mathbf{d}\\mathbf{d}^T\n",
    "$$\n",
    "where $\\mathbf{d} = \\frac{\\mathbf{v} - \\mathbf{r}}{\\ell}$ is the direction from the voter to receiver and $\\ell = ||\\mathbf{v} - \\mathbf{r}||$ is the distance."
   ]
  },
  {
   "cell_type": "markdown",
   "id": "62f16926-e673-46a8-ba3e-ba8bcdbe4d10",
   "metadata": {},
   "source": [
    "### Decay Function\n",
    "The decay function describes magnitude of the vote at the receiver:\n",
    "$$\n",
    "D(\\mathbf{v}, \\mathbf{r}, \\mathbf{q}, \\sigma_1, \\sigma_2, p)=e^{-\\frac{\\ell^2}{\\sigma_1^2}}\\left[ 1 - (\\mathbf{q}^T\\mathbf{d})^2 \\right]^p + e^{-\\frac{\\ell^2}{\\sigma_2^2}}(\\mathbf{q}^T\\mathbf{d})^{2p}\n",
    "$$\n",
    "where\n",
    "* $\\sigma_1$ is the standard deviation of the decay orthogonal to $\\mathbf{q}$\n",
    "* $\\sigma_2$ is the standard deviation of the decay in the direction of $\\mathbf{q}$\n",
    "* $p$ is a refinement term that specifies the *spread* of the vote\n",
    "\n",
    "Alternatively, the decay function may be represented using trigonometric functions:\n",
    "$$\n",
    "D(\\beta, \\ell, \\sigma_1, \\sigma_2, p)=e^{-\\frac{\\ell^2}{\\sigma_1^2}} \\sin^{2p} \\beta + e^{-\\frac{\\ell^2}{\\sigma_2^{2}}}\\cos^{2p}\\beta\n",
    "$$\n",
    "where $\\beta=\\cos^{-1}\\left(\\mathbf{q}^T\\mathbf{d}\\right)$."
   ]
  },
  {
   "cell_type": "markdown",
   "id": "7534c1f5-3925-4618-a86b-c70207887c51",
   "metadata": {},
   "source": [
    "### Normalization Term\n",
    "The normalization term ensures that the integral of the plate tensor voting field is 1, and therefore no additional energy is added or taken away from the image:\n",
    "$$\n",
    "\\eta(\\sigma_1, \\sigma_2, p) = [\\sigma^2_1 \\pi \\frac{2}{2p + 1} + \\sigma^2_2 \\pi \\frac{-2^{2p+1} \\times (n!)^2}{(2p + 1)!}]^{-1}\n",
    "$$"
   ]
  },
  {
   "cell_type": "markdown",
   "id": "97ce941f-5b02-4937-b01f-1b212c016953",
   "metadata": {},
   "source": [
    "---"
   ]
  },
  {
   "cell_type": "markdown",
   "id": "de1d1c96-d896-4c38-81e4-be434edfca60",
   "metadata": {},
   "source": [
    "## Stick Normalization Derivation\n",
    "The normalization factor $\\eta$ scales the decay function by the inverse of its integral:\n",
    "$$\n",
    "\\eta(\\sigma_1, \\sigma_2, p) = \\int_0^\\infty \\int_0^{2\\pi} \\int_0^\\pi D(\\mathbf{v}, \\mathbf{r}, \\mathbf{q}, \\sigma_1, \\sigma_2, p)\\ell \\, \\sin\\phi\\,d\\phi\\, d\\theta \\, d\\ell\n",
    "$$"
   ]
  },
  {
   "cell_type": "markdown",
   "id": "3be01814-cf25-4e42-9342-08263e7fad2e",
   "metadata": {},
   "source": [
    "I think this will be easiest to do in polar coordinates:\n",
    "$$\n",
    "\\eta = \\int_0^\\infty \\int_0^{2\\pi} \\int_0^\\pi \\left[ e^{-\\frac{\\ell^2}{\\sigma_1^2}}\\left[ 1 - (\\mathbf{q}^T\\mathbf{d})^2 \\right]^p + e^{-\\frac{\\ell^2}{\\sigma_2^2}}(\\mathbf{q}^T\\mathbf{d})^{2p} \\right]\\ell\\, \\sin\\phi\\,d\\phi\\, d\\theta \\, d\\ell\n",
    "$$\n",
    "where\n",
    "$$\n",
    "\\mathbf{d} =\n",
    "\\begin{bmatrix}\n",
    "\\cos\\theta \\sin\\phi\\\\\n",
    "\\sin\\theta \\sin\\phi\\\\\n",
    "\\cos\\phi\n",
    "\\end{bmatrix}\n",
    "$$"
   ]
  },
  {
   "cell_type": "markdown",
   "id": "70335e11-d9de-4a8a-9764-93c9f4f8b935",
   "metadata": {},
   "source": [
    "Since the integral is across all space, it is independent of the direction of $\\mathbf{q}$, so I believe we can set this to some constant unit vector. The easiest seems to be $\\mathbf{q}=\\mathbf{z}$, in which case $\\mathbf{q}^T\\mathbf{d} = \\cos\\theta$:\n",
    "$$\n",
    "\\eta = \\int_0^\\infty \\int_0^{2\\pi} \\int_0^\\pi \\left[ e^{-\\frac{\\ell^2}{\\sigma_1^2}}\\left[ 1 - (\\cos\\phi)^2 \\right]^p + e^{-\\frac{\\ell^2}{\\sigma_2^2}}(\\cos\\phi)^{2p} \\right]\\ell\\, \\sin\\phi\\,d\\phi\\, d\\theta \\, d\\ell\n",
    "$$"
   ]
  },
  {
   "cell_type": "markdown",
   "id": "9992af90-6055-4cd4-bd21-dd7204149d66",
   "metadata": {},
   "source": [
    "Separating terms for integration, we get the two integrals:\n",
    "$$\n",
    "\\int_0^\\infty \\int_0^{2\\pi} \\int_0^\\pi e^{-\\frac{\\ell^2}{\\sigma_1^2}}(\\sin^{2p}\\phi)\\ell\\, \\sin\\phi\\,d\\phi\\, d\\theta \\, d\\ell\n",
    "$$\n",
    "$$\n",
    "\\int_0^\\infty \\int_0^{2\\pi} \\int_0^\\pi e^{-\\frac{\\ell^2}{\\sigma_1^2}}(\\cos^{2p}\\phi)\\ell\\, \\sin\\phi\\,d\\phi\\, d\\theta \\, d\\ell\n",
    "$$"
   ]
  },
  {
   "cell_type": "markdown",
   "id": "641e201d-98f5-44d9-9cf3-0d595a901f7d",
   "metadata": {},
   "source": [
    "Does re-arranging the terms help?\n",
    "$$\n",
    " \\int_0^\\pi\\cos^{2p}\\phi  \\, \\sin\\phi\\, \\int_0^\\infty \\ell e^{-\\frac{\\ell^2}{\\sigma_1^2}} \\int_0^{2\\pi}d\\theta \\,d\\ell \\,d\\phi\n",
    "$$"
   ]
  },
  {
   "cell_type": "markdown",
   "id": "d7d88265-ae02-49cc-a74c-9f5a7a9a044e",
   "metadata": {},
   "source": [
    "$$\n",
    "2\\pi \\int_0^\\pi\\cos^{2p}\\phi  \\,\\sin\\phi\\, \\int_0^\\infty \\ell e^{-\\frac{\\ell^2}{\\sigma_1^2}} \\,d\\ell \\,d\\phi \n",
    "$$"
   ]
  },
  {
   "cell_type": "markdown",
   "id": "065cd632-7a6b-4b66-9435-427be8035ec1",
   "metadata": {},
   "source": [
    "$$\n",
    "\\sigma^2_1 \\pi \\int_0^\\pi\\cos^{2p}\\phi  \\,\\sin\\phi\\, d\\phi \n",
    "$$"
   ]
  },
  {
   "cell_type": "markdown",
   "id": "7d6f00dd-9eb4-4fd1-9ebd-1026ba68df4b",
   "metadata": {},
   "source": [
    "This leaves us with the two integrals to sum:\n",
    "$$\n",
    "\\sigma^2_1 \\pi \\int_0^\\pi\\cos^{2p}\\phi  \\,\\sin\\phi\\, d\\phi + \\sigma^2_2 \\pi \\int_0^\\pi\\sin^{2p}\\phi  \\,\\sin\\phi\\, d\\phi\n",
    "$$"
   ]
  },
  {
   "cell_type": "markdown",
   "id": "5cfe422f-8f75-4d26-b28a-6f0008f3c10c",
   "metadata": {},
   "source": [
    "So it looks like the pattern for the first term is pretty easy to see:\n",
    "$$\n",
    "\\int_0^\\pi\\cos^{2p}\\phi  \\,\\sin\\phi\\, d\\phi = \\frac{2}{2p + 1}\n",
    "$$"
   ]
  },
  {
   "cell_type": "markdown",
   "id": "14e9592c-f9e8-44a9-8778-fc0b1ecf58be",
   "metadata": {},
   "source": [
    "This looks like the harder one:\n",
    "$$\n",
    "\\int_0^\\pi\\sin^{2p}\\phi  \\,\\sin\\phi\\, d\\phi = \\frac{-2^{2p+1} \\times (n!)^2}{(2p + 1)!}\n",
    "$$"
   ]
  },
  {
   "cell_type": "markdown",
   "id": "b2a9db1f-2886-4754-89c9-ccf3df30a90b",
   "metadata": {},
   "source": [
    "Final normalization factor $\\eta$ is:\n",
    "$$\n",
    "\\eta(\\sigma_1, \\sigma_2, p) = \\sigma^2_1 \\pi \\frac{2}{2p + 1} + \\sigma^2_2 \\pi \\frac{-2^{2p+1} \\times (p!)^2}{(2p + 1)!}\n",
    "$$"
   ]
  },
  {
   "cell_type": "markdown",
   "id": "03df5890-c96a-4c40-9b0f-1d3a2f8cb13b",
   "metadata": {},
   "source": [
    "---"
   ]
  },
  {
   "cell_type": "markdown",
   "id": "7b44cf04-1238-4635-91f2-63fd348a692c",
   "metadata": {},
   "source": [
    "## Plate Tensor Derivation\n",
    "\n",
    "The integral for a plate tensor is given by:\n",
    "$$\n",
    "\\mathbf{P}(\\mathbf{v}, \\mathbf{r}, \\sigma) = \\int_{0}^\\pi \\mathbf{S}(\\mathbf{v}, \\mathbf{r}, \\mathbf{q}, \\sigma) \\,d\\beta=  \\int_{0}^\\pi \\eta(\\sigma_1, \\sigma_2, 1) D(\\mathbf{v}, \\mathbf{r}, \\mathbf{q}, \\sigma_1, \\sigma_2, 1) (\\mathbf{R}\\mathbf{q})(\\mathbf{R}\\mathbf{q})^T \\, d\\beta\n",
    "$$\n",
    "where\n",
    "$$\n",
    "\\mathbf{d}=\n",
    "\\begin{bmatrix}\n",
    "d_x \\\\\n",
    "d_y \\\\\n",
    "d_z\n",
    "\\end{bmatrix}\n",
    "\\quad\n",
    "\\quad\n",
    "\\mathbf{q}=\n",
    "\\begin{bmatrix}\n",
    "\\cos\\beta \\\\\n",
    "\\sin\\beta \\\\\n",
    "0\n",
    "\\end{bmatrix}\n",
    "$$\n",
    "We will assume that $p=1$ for now to see if we can figure out the pattern for $p>1$:\n",
    "$$\n",
    "= \\eta(\\sigma_1, \\sigma_2, 1) \\left(e^{-\\frac{\\ell^2}{\\sigma_1^2}}\\int_0^\\pi  \\left(1 - \\left(\\mathbf{q}^T\\mathbf{d}\\right)^2\\right) (\\mathbf{R}\\mathbf{q})(\\mathbf{R}\\mathbf{q})^T \\, d\\beta + e^{-\\frac{\\ell^2}{\\sigma_2^2}}\\int_0^\\pi \\left(\\mathbf{q}^T\\mathbf{d}\\right)^2(\\mathbf{R}\\mathbf{q})(\\mathbf{R}\\mathbf{q})^T \\, d\\beta\\right)\n",
    "$$\n",
    "$$\n",
    "= \\eta(\\sigma_1, \\sigma_2, 1) \\left(e^{-\\frac{\\ell^2}{\\sigma_1^2}}\\left(\\int_0^\\pi   (\\mathbf{R}\\mathbf{q})(\\mathbf{R}\\mathbf{q})^T \\, d\\beta - \\int_0^\\pi \\left(\\mathbf{q}^T\\mathbf{d}\\right)^2 (\\mathbf{R}\\mathbf{q})(\\mathbf{R}\\mathbf{q})^T \\, d\\beta\\right) + e^{-\\frac{\\ell^2}{\\sigma_2^2}}\\int_0^\\pi \\left(\\mathbf{q}^T\\mathbf{d}\\right)^2(\\mathbf{R}\\mathbf{q})(\\mathbf{R}\\mathbf{q})^T \\, d\\beta\\right)\n",
    "$$"
   ]
  },
  {
   "cell_type": "markdown",
   "id": "77a91679-a830-44fb-af03-781954518818",
   "metadata": {},
   "source": [
    "where $\\mathbf{R}=\\mathbf{I}-2\\mathbf{d}\\mathbf{d}^T$. Combining the outer products into symmetric matrices: $\\mathbf{Q}=\\mathbf{q}\\mathbf{q}^T$ and $\\mathbf{D}=\\mathbf{d}\\mathbf{d}^T$, we can expand the term:\n",
    "$$\n",
    "(\\mathbf{R}\\mathbf{q})(\\mathbf{R}\\mathbf{q})^T = (\\mathbf{I}-2\\mathbf{D})\\mathbf{Q}(\\mathbf{I}-2\\mathbf{D})\n",
    "$$\n",
    "$$\n",
    "=(\\mathbf{I}\\mathbf{Q}-2\\mathbf{D}\\mathbf{Q})(\\mathbf{I}-2\\mathbf{D})\n",
    "$$\n",
    "$$\n",
    "=\\mathbf{I}\\mathbf{Q}\\mathbf{I}-2\\mathbf{I}\\mathbf{Q}\\mathbf{D}^T-2\\mathbf{D}\\mathbf{Q}\\mathbf{I}+4\\mathbf{D}\\mathbf{Q}\\mathbf{D}^T\n",
    "$$\n",
    "$$\n",
    "=\\mathbf{Q}-2\\mathbf{Q}\\mathbf{D}^T-2\\mathbf{D}\\mathbf{Q}+4\\mathbf{D}\\mathbf{Q}\\mathbf{D}^T\n",
    "$$\n",
    "$$\n",
    "=\\mathbf{Q}-2\\mathbf{Q}\\mathbf{D}-2\\mathbf{D}\\mathbf{Q}+4\\mathbf{D}\\mathbf{Q}\\mathbf{D}\n",
    "$$\n",
    "where\n",
    "$$\n",
    "\\mathbf{D}=\n",
    "\\begin{bmatrix}\n",
    "d_x^2 & d_x d_y & d_x d_z \\\\\n",
    "d_xd_y & d_y^2 & d_yd_z \\\\\n",
    "d_xd_z & d_yd_z & d_z^2\n",
    "\\end{bmatrix}\n",
    "\\quad\n",
    "\\quad\n",
    "\\mathbf{Q}=\n",
    "\\begin{bmatrix}\n",
    "\\cos^2(\\theta) & \\sin(\\theta) \\cos(\\theta) & 0\\\\\n",
    "\\sin(\\theta) \\cos(\\theta) & \\sin^2(\\theta) & 0\\\\\n",
    "0 & 0 & 0\n",
    "\\end{bmatrix}\n",
    "$$"
   ]
  },
  {
   "cell_type": "markdown",
   "id": "62c2d2c9-71c1-4539-bed1-ea75b60e7469",
   "metadata": {},
   "source": [
    "## First Term\n",
    "First we define\n",
    "$$\n",
    "\\mathbf{d}_\\parallel=\n",
    "\\begin{bmatrix}\n",
    "d_x\\\\\n",
    "d_y \\\\\n",
    "0\n",
    "\\end{bmatrix}\n",
    "$$\n",
    "as the sample vector parallel to the $xy$-plane and $a=||\\mathbf{d}_\\parallel||^2=\\mathbf{d}_\\parallel \\cdot \\mathbf{d}_\\parallel$ is its squared length.\n",
    "$$\n",
    "\\tilde{\\mathbf{I}}=\n",
    "\\begin{bmatrix}\n",
    "1 & 0 & 0\\\\\n",
    "0 & 1 & 0 \\\\\n",
    "0 & 0 & 0\n",
    "\\end{bmatrix}\n",
    "\\quad\n",
    "\\quad\n",
    "\\tilde{\\mathbf{D}}=\\tilde{\\mathbf{I}}\\mathbf{D}=\\mathbf{d}_\\parallel\\mathbf{d}^T = \n",
    "\\begin{bmatrix}\n",
    "d_x^2 & d_xd_y & d_x d_z \\\\\n",
    "d_xd_y & d_y^2 & d_y d_z \\\\\n",
    "0 & 0 & 0\n",
    "\\end{bmatrix}\n",
    "$$\n",
    "Therefore, we can break the equation down to:\n",
    "$$\n",
    "\\int\\mathbf{Q}= \\frac{\\pi}{2}\\tilde{\\mathbf{I}} ,\n",
    "$$\n",
    "$$\n",
    "\\int\\mathbf{QD} = \\frac{\\pi}{2}\\mathbf{d}_\\parallel\\mathbf{d}^T ,\n",
    "$$\n",
    "$$\n",
    "\\int\\mathbf{DQ} = \\frac{\\pi}{2}\\mathbf{d}\\mathbf{d}_\\parallel^T ,\n",
    "$$\n",
    "$$\n",
    "\\int\\mathbf{DQD} = \\frac{\\pi}{2}a\\mathbf{d}\\mathbf{d}^T\n",
    "$$"
   ]
  },
  {
   "cell_type": "markdown",
   "id": "1f38952a-feea-4dc5-92a3-e00482c641ae",
   "metadata": {},
   "source": [
    "which yields\n",
    "$$\n",
    "\\int_0^\\pi   (\\mathbf{R}\\mathbf{q})(\\mathbf{R}\\mathbf{q})^T \\, d\\beta = \\int \\mathbf{Q} -2\\int\\mathbf{QD} - 2\\int\\mathbf{DQ} + 4\\int\\mathbf{DQD}\n",
    "$$\n",
    "$$\n",
    " = \\frac{\\pi}{2}\\tilde{\\mathbf{I}} -2\\frac{\\pi}{2}\\mathbf{d}_\\parallel\\mathbf{d}^T - 2\\frac{\\pi}{2}\\mathbf{d}\\mathbf{d}_\\parallel^T + 4\\frac{\\pi}{2}a\\mathbf{d}\\mathbf{d}^T\n",
    "$$"
   ]
  },
  {
   "cell_type": "markdown",
   "id": "3d241851-a5f5-424c-a964-c71346358cd6",
   "metadata": {},
   "source": [
    "$$\n",
    " = \\frac{\\pi}{2}\\tilde{\\mathbf{I}} -2\\frac{\\pi}{2}\\tilde{\\mathbf{D}} - 2\\frac{\\pi}{2}\\tilde{\\mathbf{D}}^T + 4\\frac{\\pi}{2}a\\mathbf{D}\n",
    "$$"
   ]
  },
  {
   "cell_type": "markdown",
   "id": "22f7f21e-47f5-4d20-8137-260b5cbbea14",
   "metadata": {},
   "source": [
    "$$\n",
    "\\int_0^\\pi   (\\mathbf{R}\\mathbf{q})(\\mathbf{R}\\mathbf{q})^T \\, d\\beta = \\frac{\\pi}{2}\\left[\\tilde{\\mathbf{I}} - 2\\left(\\tilde{\\mathbf{D}} + \\tilde{\\mathbf{D}}^T - 2a\\mathbf{D}\\right)\\right]\n",
    "$$"
   ]
  },
  {
   "cell_type": "markdown",
   "id": "b7972fdf-0530-4984-9997-555d1da96f03",
   "metadata": {},
   "source": [
    "For reference, this is how it looks as a matrix (calculated using SymPy below):\n",
    "$$\n",
    "\\int_0^\\pi   (\\mathbf{R}\\mathbf{q})(\\mathbf{R}\\mathbf{q})^T \\, d\\beta =\n",
    "\\left[\\begin{matrix}\\frac{\\pi \\left(4 d_{x}^{2} \\left(d_{x}^{2} + d_{y}^{2}\\right) - 4 d_{x}^{2} + 1\\right)}{2} & 2 \\pi d_{x} d_{y} \\left(d_{x}^{2} + d_{y}^{2} - 1\\right) & \\pi d_{x} d_{z} \\left(2 d_{x}^{2} + 2 d_{y}^{2} - 1\\right)\\\\2 \\pi d_{x} d_{y} \\left(d_{x}^{2} + d_{y}^{2} - 1\\right) & \\frac{\\pi \\left(4 d_{y}^{2} \\left(d_{x}^{2} + d_{y}^{2}\\right) - 4 d_{y}^{2} + 1\\right)}{2} & \\pi d_{y} d_{z} \\left(2 d_{x}^{2} + 2 d_{y}^{2} - 1\\right)\\\\\\pi d_{x} d_{z} \\left(2 d_{x}^{2} + 2 d_{y}^{2} - 1\\right) & \\pi d_{y} d_{z} \\left(2 d_{x}^{2} + 2 d_{y}^{2} - 1\\right) & 2 \\pi d_{z}^{2} \\left(d_{x}^{2} + d_{y}^{2}\\right)\\end{matrix}\\right]\n",
    "$$"
   ]
  },
  {
   "cell_type": "markdown",
   "id": "b4c511ec-9862-45eb-8043-1e325ba82aa0",
   "metadata": {},
   "source": [
    "### Second Term\n",
    "Let's define \n",
    "$$\n",
    "\\mathbf{\\tilde{1}} = \n",
    "\\begin{bmatrix}\n",
    "1 & 1 & 0\\\\\n",
    "1 & 1 & 0 \\\\\n",
    "0 & 0 & 0\n",
    "\\end{bmatrix}\n",
    "$$\n",
    "$$\n",
    "\\int\\left(\\mathbf{q}^T\\mathbf{d}\\right)^2\\mathbf{Q}= \\frac{\\pi}{8}\\left[a\\tilde{\\mathbf{I}} + 2\\mathbf{d}\\mathbf{d}^T\\tilde{\\mathbf{1}}\\right] ,\n",
    "$$\n",
    "$$\n",
    "\\int\\left(\\mathbf{q}^T\\mathbf{d}\\right)^2\\mathbf{QD} = \\frac{3\\pi a}{8}\\tilde{\\mathbf{I}}\\mathbf{d}\\mathbf{d}^T ,\n",
    "$$\n",
    "$$\n",
    "\\int\\left(\\mathbf{q}^T\\mathbf{d}\\right)^2\\mathbf{DQ} = \\frac{3\\pi a}{8}\\mathbf{d}\\mathbf{d}^T\\tilde{\\mathbf{I}} ,\n",
    "$$\n",
    "$$\n",
    "\\int\\left(\\mathbf{q}^T\\mathbf{d}\\right)^2\\mathbf{DQD} = \\frac{3\\pi a^2}{8}\\mathbf{d}\\mathbf{d}^T\n",
    "$$"
   ]
  },
  {
   "cell_type": "markdown",
   "id": "3be132b9-2a08-428d-8001-a8a00a888a02",
   "metadata": {},
   "source": [
    "$$\n",
    "\\int_0^\\pi   \\left(\\mathbf{q}^T\\mathbf{d}\\right)^2(\\mathbf{R}\\mathbf{q})(\\mathbf{R}\\mathbf{q})^T \\, d\\beta = \\int \\left(\\mathbf{q}^T\\mathbf{d}\\right)^2\\mathbf{Q} -2\\int\\left(\\mathbf{q}^T\\mathbf{d}\\right)^2\\mathbf{QD} - 2\\int\\left(\\mathbf{q}^T\\mathbf{d}\\right)^2\\mathbf{DQ} + 4\\int\\left(\\mathbf{q}^T\\mathbf{d}\\right)^2\\mathbf{DQD}\n",
    "$$"
   ]
  },
  {
   "cell_type": "markdown",
   "id": "9b5f63df-5bf1-49ae-b2a8-77c2d6793b2a",
   "metadata": {},
   "source": [
    "$$\n",
    "= \\frac{\\pi}{8}\\left[a\\tilde{I} + 2\\mathbf{d}\\mathbf{d}^T\\tilde{\\mathbf{1}}\\right] \n",
    "-2\\frac{3\\pi}{8}a\\tilde{\\mathbf{I}}\\mathbf{d}\\mathbf{d}^T - 2\\frac{3\\pi}{8}a\\mathbf{d}\\mathbf{d}^T\\tilde{\\mathbf{I}} + 4\\frac{3\\pi}{8}a^2\\mathbf{d}\\mathbf{d}^T\n",
    "$$"
   ]
  },
  {
   "cell_type": "markdown",
   "id": "e79c860b-d373-4245-b1b7-0f23832fb466",
   "metadata": {},
   "source": [
    "$$\n",
    "=\\frac{\\pi}{8} \\left[ a\\tilde{\\mathbf{I}} + 2\\mathbf{d}\\mathbf{d}^T\\tilde{\\mathbf{1}} \n",
    "-6a\\tilde{\\mathbf{I}}\\mathbf{d}\\mathbf{d}^T - 6a\\mathbf{d}\\mathbf{d}^T\\tilde{\\mathbf{I}} + 12a^2\\mathbf{d}\\mathbf{d}^T  \\right]\n",
    "$$"
   ]
  },
  {
   "cell_type": "markdown",
   "id": "c47f6b71-cd0d-40b7-81e2-2c728a19c2c0",
   "metadata": {},
   "source": [
    "$$\n",
    "=\\frac{\\pi}{8} \\left[ a\\tilde{\\mathbf{I}} + 2\\mathbf{d}\\mathbf{d}^T\\tilde{\\mathbf{1}} \n",
    "-6\\left(a\\tilde{\\mathbf{I}}\\mathbf{d}\\mathbf{d}^T + a\\mathbf{d}\\mathbf{d}^T\\tilde{\\mathbf{I}} - 2a^2\\mathbf{d}\\mathbf{d}^T\\right)  \\right]\n",
    "$$"
   ]
  },
  {
   "cell_type": "markdown",
   "id": "6862abeb-0924-4fe0-96d7-9aac93963437",
   "metadata": {},
   "source": [
    "$$\n",
    "=\\frac{\\pi}{8} \\left[ a\\tilde{I} + 2\\mathbf{D}\\tilde{\\mathbf{1}} \n",
    "-6\\left(a\\tilde{\\mathbf{I}}\\mathbf{D} + a\\mathbf{D}\\tilde{\\mathbf{I}} - 2a^2\\mathbf{D}\\right)  \\right]\n",
    "$$"
   ]
  },
  {
   "cell_type": "markdown",
   "id": "1f9e57ec-0bf4-4457-ba20-66a79018796d",
   "metadata": {},
   "source": [
    "$$\n",
    "\\int_0^\\pi \\left(\\mathbf{q}^T\\mathbf{d}\\right)^2(\\mathbf{R}\\mathbf{q})(\\mathbf{R}\\mathbf{q})^T \\, d\\beta=\\frac{\\pi}{8} \\left[ a\\tilde{\\mathbf{I}} + 2\\mathbf{D}\\tilde{\\mathbf{1}} \n",
    "-6a\\left(\\tilde{\\mathbf{D}} + \\tilde{\\mathbf{D}}^T - 2a\\mathbf{D}\\right)  \\right]\n",
    "$$"
   ]
  },
  {
   "cell_type": "markdown",
   "id": "ee67571a-2a64-470c-ba0c-a5fae294cb0c",
   "metadata": {},
   "source": [
    "---"
   ]
  },
  {
   "cell_type": "markdown",
   "id": "0010731b-3cea-41f4-b84b-e6040a0c68f4",
   "metadata": {},
   "source": [
    "This is what Helia had - looks like one of us is off by a constant.\n",
    "\n",
    "$$\n",
    "\\int_0^\\pi \\left(\\mathbf{q}^T\\mathbf{d}\\right)^2(\\mathbf{R}\\mathbf{q})(\\mathbf{R}\\mathbf{q})^T \\, d\\beta = \n",
    "\\frac{\\pi}{8} \\left(\\alpha \\tilde{I} + 2D\\hat{I} + 3\\alpha\\left(\\tilde{I}D + D\\tilde{I}\\right) + 3\\alpha^2D \\right)\n",
    "$$\n",
    "\n",
    "where  $\\alpha = (dx^2 + dy^2) $"
   ]
  },
  {
   "cell_type": "markdown",
   "id": "b59383e3-48b2-461a-8b2c-241724862e58",
   "metadata": {},
   "source": [
    "## Final Integral\n",
    "It may help to think about what some of these terms mean. For example, $a=d_x^2 + d_y^2$ is the squared distance from the $z$-axis. In the general case, this will be the squared distance from the axis defined by the smallest eigenvector."
   ]
  },
  {
   "cell_type": "markdown",
   "id": "038225d0-a16b-4458-9f0c-a25a58320665",
   "metadata": {},
   "source": [
    "---\n",
    "## 3D Math"
   ]
  },
  {
   "cell_type": "code",
   "execution_count": 4,
   "id": "1975a76a-cf19-4140-be0c-e125556ee919",
   "metadata": {},
   "outputs": [],
   "source": [
    "import matplotlib.pyplot as plt\n",
    "import numpy as np\n",
    "import sympy as sym\n",
    "\n",
    "theta = sym.symbols(\"theta\")\n",
    "phi = sym.symbols(\"phi\")\n",
    "\n",
    "alpha = sym.symbols(\"alpha\")\n",
    "beta = sym.symbols(\"beta\")\n",
    "\n",
    "dx = sym.symbols(\"d_x\")\n",
    "dy = sym.symbols(\"d_y\")\n",
    "dz = sym.symbols(\"d_z\")\n",
    "\n",
    "sin_theta = sym.sin(theta) #sympify(\"(exp(I*theta)-exp(-I*theta))/(2*I)\")\n",
    "cos_theta = sym.cos(theta) #sympify(\"(exp(I*theta)+exp(-I*theta))/(2)\")\n",
    "\n",
    "sin_phi = sym.sin(phi) #sympify(\"(exp(I*phi)-exp(-I*phi))/(2*I)\")\n",
    "cos_phi = sym.cos(phi) #sympify(\"(exp(I*phi)+exp(-I*phi))/(2)\")\n",
    "\n",
    "sin_alpha = sym.sin(alpha) #sympify(\"(exp(I*alpha)-exp(-I*alpha))/(2*I)\")\n",
    "cos_alpha = sym.cos(alpha) #sympify(\"(exp(I*alpha)+exp(-I*alpha))/(2)\")\n",
    "\n",
    "sin_beta = sym.sin(beta) #sympify(\"(exp(I*beta)-exp(-I*beta))/(2*I)\")\n",
    "cos_beta = sym.cos(beta) #sympify(\"(exp(I*beta)+exp(-I*beta))/(2)\")\n",
    "\n",
    "sigma1, sigma2, l = sym.symbols(\"sigma_1, sigma_2, l\")\n",
    "n = sym.symbols(\"n\")\n",
    "\n",
    "# 2D implementation\n",
    "q = sym.Matrix([[cos_theta], [sin_theta], [0]])\n",
    "d = sym.Matrix([dx, dy, dz])\n",
    "\n",
    "# define the D and Q matrices\n",
    "D = d * d.transpose()\n",
    "Q = q * q.transpose()"
   ]
  },
  {
   "cell_type": "code",
   "execution_count": 6,
   "id": "65e25c78-aeeb-47e8-adc6-ab3d3f3708b6",
   "metadata": {},
   "outputs": [
    {
     "data": {
      "text/latex": [
       "$\\displaystyle \\left[\\begin{matrix}\\cos^{2}{\\left(\\theta \\right)} & \\sin{\\left(\\theta \\right)} \\cos{\\left(\\theta \\right)} & 0\\\\\\sin{\\left(\\theta \\right)} \\cos{\\left(\\theta \\right)} & \\sin^{2}{\\left(\\theta \\right)} & 0\\\\0 & 0 & 0\\end{matrix}\\right]$"
      ],
      "text/plain": [
       "Matrix([\n",
       "[        cos(theta)**2, sin(theta)*cos(theta), 0],\n",
       "[sin(theta)*cos(theta),         sin(theta)**2, 0],\n",
       "[                    0,                     0, 0]])"
      ]
     },
     "execution_count": 6,
     "metadata": {},
     "output_type": "execute_result"
    }
   ],
   "source": [
    "Q"
   ]
  },
  {
   "cell_type": "code",
   "execution_count": 7,
   "id": "b6e932bf-6ca9-4e43-985d-7915d85e6d83",
   "metadata": {},
   "outputs": [
    {
     "data": {
      "text/latex": [
       "$\\displaystyle \\left[\\begin{matrix}d_{x}^{2} & d_{x} d_{y} & d_{x} d_{z}\\\\d_{x} d_{y} & d_{y}^{2} & d_{y} d_{z}\\\\d_{x} d_{z} & d_{y} d_{z} & d_{z}^{2}\\end{matrix}\\right]$"
      ],
      "text/plain": [
       "Matrix([\n",
       "[ d_x**2, d_x*d_y, d_x*d_z],\n",
       "[d_x*d_y,  d_y**2, d_y*d_z],\n",
       "[d_x*d_z, d_y*d_z,  d_z**2]])"
      ]
     },
     "execution_count": 7,
     "metadata": {},
     "output_type": "execute_result"
    }
   ],
   "source": [
    "D"
   ]
  },
  {
   "cell_type": "code",
   "execution_count": 16,
   "id": "cac762f3-158f-4bb0-b741-c84568d41788",
   "metadata": {},
   "outputs": [
    {
     "data": {
      "text/latex": [
       "$\\displaystyle \\left[\\begin{matrix}\\frac{\\pi}{2} & 0 & 0\\\\0 & \\frac{\\pi}{2} & 0\\\\0 & 0 & 0\\end{matrix}\\right]$"
      ],
      "text/plain": [
       "Matrix([\n",
       "[pi/2,    0, 0],\n",
       "[   0, pi/2, 0],\n",
       "[   0,    0, 0]])"
      ]
     },
     "execution_count": 16,
     "metadata": {},
     "output_type": "execute_result"
    }
   ],
   "source": [
    "# integrate each term\n",
    "iQ = sym.integrate(Q, (theta, 0, sym.pi))\n",
    "iQ = sym.simplify(iQ)\n",
    "iQ"
   ]
  },
  {
   "cell_type": "code",
   "execution_count": 17,
   "id": "624b9df7-88c3-4e1e-9f0a-1c42a1f28313",
   "metadata": {},
   "outputs": [
    {
     "data": {
      "text/latex": [
       "$\\displaystyle \\left[\\begin{matrix}\\frac{\\pi d_{x}^{2}}{2} & \\frac{\\pi d_{x} d_{y}}{2} & \\frac{\\pi d_{x} d_{z}}{2}\\\\\\frac{\\pi d_{x} d_{y}}{2} & \\frac{\\pi d_{y}^{2}}{2} & \\frac{\\pi d_{y} d_{z}}{2}\\\\0 & 0 & 0\\end{matrix}\\right]$"
      ],
      "text/plain": [
       "Matrix([\n",
       "[ pi*d_x**2/2, pi*d_x*d_y/2, pi*d_x*d_z/2],\n",
       "[pi*d_x*d_y/2,  pi*d_y**2/2, pi*d_y*d_z/2],\n",
       "[           0,            0,            0]])"
      ]
     },
     "execution_count": 17,
     "metadata": {},
     "output_type": "execute_result"
    }
   ],
   "source": [
    "iQD = sym.integrate(Q*D.transpose(), (theta, 0, sym.pi))\n",
    "iQD = sym.simplify(iQD)\n",
    "iQD"
   ]
  },
  {
   "cell_type": "code",
   "execution_count": 18,
   "id": "e75e0971-8862-4ce3-9165-cde0c5a2f3f3",
   "metadata": {},
   "outputs": [
    {
     "data": {
      "text/latex": [
       "$\\displaystyle \\left[\\begin{matrix}\\frac{\\pi d_{x}^{2}}{2} & \\frac{\\pi d_{x} d_{y}}{2} & 0\\\\\\frac{\\pi d_{x} d_{y}}{2} & \\frac{\\pi d_{y}^{2}}{2} & 0\\\\\\frac{\\pi d_{x} d_{z}}{2} & \\frac{\\pi d_{y} d_{z}}{2} & 0\\end{matrix}\\right]$"
      ],
      "text/plain": [
       "Matrix([\n",
       "[ pi*d_x**2/2, pi*d_x*d_y/2, 0],\n",
       "[pi*d_x*d_y/2,  pi*d_y**2/2, 0],\n",
       "[pi*d_x*d_z/2, pi*d_y*d_z/2, 0]])"
      ]
     },
     "execution_count": 18,
     "metadata": {},
     "output_type": "execute_result"
    }
   ],
   "source": [
    "iDQ = sym.integrate(D*Q, (theta, 0, sym.pi))\n",
    "iDQ = sym.simplify(iDQ)\n",
    "iDQ"
   ]
  },
  {
   "cell_type": "code",
   "execution_count": 19,
   "id": "e05e66f9-c385-406b-8c89-58e1744b11a0",
   "metadata": {},
   "outputs": [
    {
     "data": {
      "text/latex": [
       "$\\displaystyle \\left[\\begin{matrix}\\frac{\\pi d_{x}^{2} \\left(d_{x}^{2} + d_{y}^{2}\\right)}{2} & \\frac{\\pi d_{x} d_{y} \\left(d_{x}^{2} + d_{y}^{2}\\right)}{2} & \\frac{\\pi d_{x} d_{z} \\left(d_{x}^{2} + d_{y}^{2}\\right)}{2}\\\\\\frac{\\pi d_{x} d_{y} \\left(d_{x}^{2} + d_{y}^{2}\\right)}{2} & \\frac{\\pi d_{y}^{2} \\left(d_{x}^{2} + d_{y}^{2}\\right)}{2} & \\frac{\\pi d_{y} d_{z} \\left(d_{x}^{2} + d_{y}^{2}\\right)}{2}\\\\\\frac{\\pi d_{x} d_{z} \\left(d_{x}^{2} + d_{y}^{2}\\right)}{2} & \\frac{\\pi d_{y} d_{z} \\left(d_{x}^{2} + d_{y}^{2}\\right)}{2} & \\frac{\\pi d_{z}^{2} \\left(d_{x}^{2} + d_{y}^{2}\\right)}{2}\\end{matrix}\\right]$"
      ],
      "text/plain": [
       "Matrix([\n",
       "[ pi*d_x**2*(d_x**2 + d_y**2)/2, pi*d_x*d_y*(d_x**2 + d_y**2)/2, pi*d_x*d_z*(d_x**2 + d_y**2)/2],\n",
       "[pi*d_x*d_y*(d_x**2 + d_y**2)/2,  pi*d_y**2*(d_x**2 + d_y**2)/2, pi*d_y*d_z*(d_x**2 + d_y**2)/2],\n",
       "[pi*d_x*d_z*(d_x**2 + d_y**2)/2, pi*d_y*d_z*(d_x**2 + d_y**2)/2,  pi*d_z**2*(d_x**2 + d_y**2)/2]])"
      ]
     },
     "execution_count": 19,
     "metadata": {},
     "output_type": "execute_result"
    }
   ],
   "source": [
    "iDQD = sym.integrate(D*Q*D.transpose(), (theta, 0, sym.pi))\n",
    "iDQD = sym.simplify(iDQD)\n",
    "iDQD"
   ]
  },
  {
   "cell_type": "code",
   "execution_count": 15,
   "id": "72794b5c-928c-46a1-843e-d4d736f0b0e1",
   "metadata": {},
   "outputs": [
    {
     "name": "stdout",
     "output_type": "stream",
     "text": [
      "\\left[\\begin{matrix}\\frac{\\pi \\left(4 d_{x}^{2} \\left(d_{x}^{2} + d_{y}^{2}\\right) - 4 d_{x}^{2} + 1\\right)}{2} & 2 \\pi d_{x} d_{y} \\left(d_{x}^{2} + d_{y}^{2} - 1\\right) & \\pi d_{x} d_{z} \\left(2 d_{x}^{2} + 2 d_{y}^{2} - 1\\right)\\\\2 \\pi d_{x} d_{y} \\left(d_{x}^{2} + d_{y}^{2} - 1\\right) & \\frac{\\pi \\left(4 d_{y}^{2} \\left(d_{x}^{2} + d_{y}^{2}\\right) - 4 d_{y}^{2} + 1\\right)}{2} & \\pi d_{y} d_{z} \\left(2 d_{x}^{2} + 2 d_{y}^{2} - 1\\right)\\\\\\pi d_{x} d_{z} \\left(2 d_{x}^{2} + 2 d_{y}^{2} - 1\\right) & \\pi d_{y} d_{z} \\left(2 d_{x}^{2} + 2 d_{y}^{2} - 1\\right) & 2 \\pi d_{z}^{2} \\left(d_{x}^{2} + d_{y}^{2}\\right)\\end{matrix}\\right]\n"
     ]
    }
   ],
   "source": [
    "# calculate the first integral\n",
    "iRqRq = iQ - 2*iQD - 2*iDQ + 4 * iDQD\n",
    "iRqRq = sym.simplify(iRqRq)\n",
    "print(sym.latex(iRqRq))"
   ]
  },
  {
   "cell_type": "code",
   "execution_count": 4,
   "id": "b6207bf7-8f02-4124-9ead-498994d5abbf",
   "metadata": {},
   "outputs": [
    {
     "data": {
      "text/latex": [
       "$\\displaystyle \\left[\\begin{matrix}\\frac{\\pi \\left(3 dx^{2} + dy^{2}\\right)}{8} & \\frac{\\pi dx dy}{4} & 0\\\\\\frac{\\pi dx dy}{4} & \\frac{\\pi \\left(dx^{2} + 3 dy^{2}\\right)}{8} & 0\\\\0 & 0 & 0\\end{matrix}\\right]$"
      ],
      "text/plain": [
       "Matrix([\n",
       "[pi*(3*dx**2 + dy**2)/8,             pi*dx*dy/4, 0],\n",
       "[            pi*dx*dy/4, pi*(dx**2 + 3*dy**2)/8, 0],\n",
       "[                     0,                      0, 0]])"
      ]
     },
     "execution_count": 4,
     "metadata": {},
     "output_type": "execute_result"
    }
   ],
   "source": [
    "# second integral\n",
    "qd2 = ((q.transpose() * d) **2)[0]\n",
    "\n",
    "qd2_Q = qd2 * Q\n",
    "iqd2_Q = sym.integrate(qd2_Q, (theta, 0, sym.pi))\n",
    "iqd2_Q = sym.simplify(iqd2_Q)\n",
    "iqd2_Q"
   ]
  },
  {
   "cell_type": "code",
   "execution_count": 10,
   "id": "1c2eb967-b131-4975-b3cd-e97d4e19006b",
   "metadata": {},
   "outputs": [
    {
     "data": {
      "text/latex": [
       "$\\displaystyle \\left[\\begin{matrix}\\frac{3 \\pi dx^{2} \\left(dx^{2} + dy^{2}\\right)}{8} & \\frac{3 \\pi dx dy \\left(dx^{2} + dy^{2}\\right)}{8} & \\frac{3 \\pi dx dz \\left(dx^{2} + dy^{2}\\right)}{8}\\\\\\frac{3 \\pi dx dy \\left(dx^{2} + dy^{2}\\right)}{8} & \\frac{3 \\pi dy^{2} \\left(dx^{2} + dy^{2}\\right)}{8} & \\frac{3 \\pi dy dz \\left(dx^{2} + dy^{2}\\right)}{8}\\\\0 & 0 & 0\\end{matrix}\\right]$"
      ],
      "text/plain": [
       "Matrix([\n",
       "[3*pi*dx**2*(dx**2 + dy**2)/8, 3*pi*dx*dy*(dx**2 + dy**2)/8, 3*pi*dx*dz*(dx**2 + dy**2)/8],\n",
       "[3*pi*dx*dy*(dx**2 + dy**2)/8, 3*pi*dy**2*(dx**2 + dy**2)/8, 3*pi*dy*dz*(dx**2 + dy**2)/8],\n",
       "[                           0,                            0,                            0]])"
      ]
     },
     "execution_count": 10,
     "metadata": {},
     "output_type": "execute_result"
    }
   ],
   "source": [
    "qd2_QD = qd2 * Q * D\n",
    "iqd2_QD = sym.integrate(qd2_QD, (theta, 0, sym.pi))\n",
    "iqd2_QD = sym.simplify(iqd2_QD)\n",
    "iqd2_QD"
   ]
  },
  {
   "cell_type": "code",
   "execution_count": 11,
   "id": "6670929e-add3-42f1-b902-8dc530e4f2b5",
   "metadata": {},
   "outputs": [
    {
     "data": {
      "text/latex": [
       "$\\displaystyle \\left[\\begin{matrix}\\frac{3 \\pi dx^{2} \\left(dx^{2} + dy^{2}\\right)}{8} & \\frac{3 \\pi dx dy \\left(dx^{2} + dy^{2}\\right)}{8} & 0\\\\\\frac{3 \\pi dx dy \\left(dx^{2} + dy^{2}\\right)}{8} & \\frac{3 \\pi dy^{2} \\left(dx^{2} + dy^{2}\\right)}{8} & 0\\\\\\frac{3 \\pi dx dz \\left(dx^{2} + dy^{2}\\right)}{8} & \\frac{3 \\pi dy dz \\left(dx^{2} + dy^{2}\\right)}{8} & 0\\end{matrix}\\right]$"
      ],
      "text/plain": [
       "Matrix([\n",
       "[3*pi*dx**2*(dx**2 + dy**2)/8, 3*pi*dx*dy*(dx**2 + dy**2)/8, 0],\n",
       "[3*pi*dx*dy*(dx**2 + dy**2)/8, 3*pi*dy**2*(dx**2 + dy**2)/8, 0],\n",
       "[3*pi*dx*dz*(dx**2 + dy**2)/8, 3*pi*dy*dz*(dx**2 + dy**2)/8, 0]])"
      ]
     },
     "execution_count": 11,
     "metadata": {},
     "output_type": "execute_result"
    }
   ],
   "source": [
    "qd2_DQ = qd2 * D * Q\n",
    "iqd2_DQ = sym.integrate(qd2_DQ, (theta, 0, sym.pi))\n",
    "iqd2_DQ = sym.simplify(iqd2_DQ)\n",
    "iqd2_DQ"
   ]
  },
  {
   "cell_type": "code",
   "execution_count": 12,
   "id": "7a6c8131-604f-4a44-8122-09c5ddf6c26b",
   "metadata": {},
   "outputs": [
    {
     "data": {
      "text/latex": [
       "$\\displaystyle \\left[\\begin{matrix}\\frac{3 \\pi dx^{2} \\left(dx^{4} + 2 dx^{2} dy^{2} + dy^{4}\\right)}{8} & \\frac{3 \\pi dx dy \\left(dx^{4} + 2 dx^{2} dy^{2} + dy^{4}\\right)}{8} & \\frac{3 \\pi dx dz \\left(dx^{4} + 2 dx^{2} dy^{2} + dy^{4}\\right)}{8}\\\\\\frac{3 \\pi dx dy \\left(dx^{4} + 2 dx^{2} dy^{2} + dy^{4}\\right)}{8} & \\frac{3 \\pi dy^{2} \\left(dx^{4} + 2 dx^{2} dy^{2} + dy^{4}\\right)}{8} & \\frac{3 \\pi dy dz \\left(dx^{4} + 2 dx^{2} dy^{2} + dy^{4}\\right)}{8}\\\\\\frac{3 \\pi dx dz \\left(dx^{4} + 2 dx^{2} dy^{2} + dy^{4}\\right)}{8} & \\frac{3 \\pi dy dz \\left(dx^{4} + 2 dx^{2} dy^{2} + dy^{4}\\right)}{8} & \\frac{3 \\pi dz^{2} \\left(dx^{4} + 2 dx^{2} dy^{2} + dy^{4}\\right)}{8}\\end{matrix}\\right]$"
      ],
      "text/plain": [
       "Matrix([\n",
       "[3*pi*dx**2*(dx**4 + 2*dx**2*dy**2 + dy**4)/8, 3*pi*dx*dy*(dx**4 + 2*dx**2*dy**2 + dy**4)/8, 3*pi*dx*dz*(dx**4 + 2*dx**2*dy**2 + dy**4)/8],\n",
       "[3*pi*dx*dy*(dx**4 + 2*dx**2*dy**2 + dy**4)/8, 3*pi*dy**2*(dx**4 + 2*dx**2*dy**2 + dy**4)/8, 3*pi*dy*dz*(dx**4 + 2*dx**2*dy**2 + dy**4)/8],\n",
       "[3*pi*dx*dz*(dx**4 + 2*dx**2*dy**2 + dy**4)/8, 3*pi*dy*dz*(dx**4 + 2*dx**2*dy**2 + dy**4)/8, 3*pi*dz**2*(dx**4 + 2*dx**2*dy**2 + dy**4)/8]])"
      ]
     },
     "execution_count": 12,
     "metadata": {},
     "output_type": "execute_result"
    }
   ],
   "source": [
    "qd2_DQD = qd2 * D * Q * D\n",
    "iqd2_DQD = sym.integrate(qd2_DQD, (theta, 0, sym.pi))\n",
    "iqd2_DQD = sym.simplify(iqd2_DQD)\n",
    "iqd2_DQD"
   ]
  },
  {
   "cell_type": "code",
   "execution_count": 13,
   "id": "de4ce5cd-fe9b-4dda-b63c-1132a93dab67",
   "metadata": {},
   "outputs": [
    {
     "data": {
      "text/latex": [
       "$\\displaystyle \\left[\\begin{matrix}\\frac{\\pi \\left(- 12 dx^{2} \\left(dx^{2} + dy^{2}\\right) + 12 dx^{2} \\left(dx^{4} + 2 dx^{2} dy^{2} + dy^{4}\\right) + 3 dx^{2} + dy^{2}\\right)}{8} & \\frac{\\pi dx dy \\left(6 dx^{4} + 12 dx^{2} dy^{2} - 6 dx^{2} + 6 dy^{4} - 6 dy^{2} + 1\\right)}{4} & \\frac{3 \\pi dx dz \\left(2 dx^{4} + 4 dx^{2} dy^{2} - dx^{2} + 2 dy^{4} - dy^{2}\\right)}{4}\\\\\\frac{\\pi dx dy \\left(6 dx^{4} + 12 dx^{2} dy^{2} - 6 dx^{2} + 6 dy^{4} - 6 dy^{2} + 1\\right)}{4} & \\frac{\\pi \\left(dx^{2} - 12 dy^{2} \\left(dx^{2} + dy^{2}\\right) + 12 dy^{2} \\left(dx^{4} + 2 dx^{2} dy^{2} + dy^{4}\\right) + 3 dy^{2}\\right)}{8} & \\frac{3 \\pi dy dz \\left(2 dx^{4} + 4 dx^{2} dy^{2} - dx^{2} + 2 dy^{4} - dy^{2}\\right)}{4}\\\\\\frac{3 \\pi dx dz \\left(2 dx^{4} + 4 dx^{2} dy^{2} - dx^{2} + 2 dy^{4} - dy^{2}\\right)}{4} & \\frac{3 \\pi dy dz \\left(2 dx^{4} + 4 dx^{2} dy^{2} - dx^{2} + 2 dy^{4} - dy^{2}\\right)}{4} & \\frac{3 \\pi dz^{2} \\left(dx^{4} + 2 dx^{2} dy^{2} + dy^{4}\\right)}{2}\\end{matrix}\\right]$"
      ],
      "text/plain": [
       "Matrix([\n",
       "[pi*(-12*dx**2*(dx**2 + dy**2) + 12*dx**2*(dx**4 + 2*dx**2*dy**2 + dy**4) + 3*dx**2 + dy**2)/8,                      pi*dx*dy*(6*dx**4 + 12*dx**2*dy**2 - 6*dx**2 + 6*dy**4 - 6*dy**2 + 1)/4, 3*pi*dx*dz*(2*dx**4 + 4*dx**2*dy**2 - dx**2 + 2*dy**4 - dy**2)/4],\n",
       "[                      pi*dx*dy*(6*dx**4 + 12*dx**2*dy**2 - 6*dx**2 + 6*dy**4 - 6*dy**2 + 1)/4, pi*(dx**2 - 12*dy**2*(dx**2 + dy**2) + 12*dy**2*(dx**4 + 2*dx**2*dy**2 + dy**4) + 3*dy**2)/8, 3*pi*dy*dz*(2*dx**4 + 4*dx**2*dy**2 - dx**2 + 2*dy**4 - dy**2)/4],\n",
       "[                             3*pi*dx*dz*(2*dx**4 + 4*dx**2*dy**2 - dx**2 + 2*dy**4 - dy**2)/4,                             3*pi*dy*dz*(2*dx**4 + 4*dx**2*dy**2 - dx**2 + 2*dy**4 - dy**2)/4,                     3*pi*dz**2*(dx**4 + 2*dx**2*dy**2 + dy**4)/2]])"
      ]
     },
     "execution_count": 13,
     "metadata": {},
     "output_type": "execute_result"
    }
   ],
   "source": [
    "iqd2_RqRq = iqd2_Q - 2 * iqd2_QD - 2 * iqd2_DQ + 4 * iqd2_DQD\n",
    "iqd2_RqRq = sym.simplify(iqd2_RqRq)\n",
    "iqd2_RqRq"
   ]
  },
  {
   "cell_type": "code",
   "execution_count": 14,
   "id": "ebefbfec-1aac-4e49-9792-adbe8220dfe2",
   "metadata": {},
   "outputs": [
    {
     "data": {
      "text/latex": [
       "$\\displaystyle \\left[\\begin{matrix}\\frac{\\pi \\left(- 12 dx^{6} - 24 dx^{4} dy^{2} + 28 dx^{4} - 12 dx^{2} dy^{4} + 28 dx^{2} dy^{2} - 19 dx^{2} - dy^{2} + 4\\right)}{8} & \\frac{\\pi dx dy \\left(- 6 dx^{4} - 12 dx^{2} dy^{2} + 14 dx^{2} - 6 dy^{4} + 14 dy^{2} - 9\\right)}{4} & \\frac{\\pi dx dz \\left(- 6 dx^{4} - 12 dx^{2} dy^{2} + 11 dx^{2} - 6 dy^{4} + 11 dy^{2} - 4\\right)}{4}\\\\\\frac{\\pi dx dy \\left(- 6 dx^{4} - 12 dx^{2} dy^{2} + 14 dx^{2} - 6 dy^{4} + 14 dy^{2} - 9\\right)}{4} & \\frac{\\pi \\left(- 12 dx^{4} dy^{2} - 24 dx^{2} dy^{4} + 28 dx^{2} dy^{2} - dx^{2} - 12 dy^{6} + 28 dy^{4} - 19 dy^{2} + 4\\right)}{8} & \\frac{\\pi dy dz \\left(- 6 dx^{4} - 12 dx^{2} dy^{2} + 11 dx^{2} - 6 dy^{4} + 11 dy^{2} - 4\\right)}{4}\\\\\\frac{\\pi dx dz \\left(- 6 dx^{4} - 12 dx^{2} dy^{2} + 11 dx^{2} - 6 dy^{4} + 11 dy^{2} - 4\\right)}{4} & \\frac{\\pi dy dz \\left(- 6 dx^{4} - 12 dx^{2} dy^{2} + 11 dx^{2} - 6 dy^{4} + 11 dy^{2} - 4\\right)}{4} & \\frac{\\pi dz^{2} \\left(- 3 dx^{4} - 6 dx^{2} dy^{2} + 4 dx^{2} - 3 dy^{4} + 4 dy^{2}\\right)}{2}\\end{matrix}\\right]$"
      ],
      "text/plain": [
       "Matrix([\n",
       "[pi*(-12*dx**6 - 24*dx**4*dy**2 + 28*dx**4 - 12*dx**2*dy**4 + 28*dx**2*dy**2 - 19*dx**2 - dy**2 + 4)/8,                            pi*dx*dy*(-6*dx**4 - 12*dx**2*dy**2 + 14*dx**2 - 6*dy**4 + 14*dy**2 - 9)/4, pi*dx*dz*(-6*dx**4 - 12*dx**2*dy**2 + 11*dx**2 - 6*dy**4 + 11*dy**2 - 4)/4],\n",
       "[                           pi*dx*dy*(-6*dx**4 - 12*dx**2*dy**2 + 14*dx**2 - 6*dy**4 + 14*dy**2 - 9)/4, pi*(-12*dx**4*dy**2 - 24*dx**2*dy**4 + 28*dx**2*dy**2 - dx**2 - 12*dy**6 + 28*dy**4 - 19*dy**2 + 4)/8, pi*dy*dz*(-6*dx**4 - 12*dx**2*dy**2 + 11*dx**2 - 6*dy**4 + 11*dy**2 - 4)/4],\n",
       "[                           pi*dx*dz*(-6*dx**4 - 12*dx**2*dy**2 + 11*dx**2 - 6*dy**4 + 11*dy**2 - 4)/4,                            pi*dy*dz*(-6*dx**4 - 12*dx**2*dy**2 + 11*dx**2 - 6*dy**4 + 11*dy**2 - 4)/4,        pi*dz**2*(-3*dx**4 - 6*dx**2*dy**2 + 4*dx**2 - 3*dy**4 + 4*dy**2)/2]])"
      ]
     },
     "execution_count": 14,
     "metadata": {},
     "output_type": "execute_result"
    }
   ],
   "source": [
    "sym.simplify(iRqRq - iqd2_RqRq)"
   ]
  },
  {
   "cell_type": "code",
   "execution_count": 15,
   "id": "bcfb5ea5-d068-44f5-b739-d5e4a38e82e7",
   "metadata": {},
   "outputs": [
    {
     "data": {
      "text/latex": [
       "$\\displaystyle \\left[\\begin{matrix}- 6 dx^{6} - 12 dx^{4} dy^{2} + 14 dx^{4} - 6 dx^{2} dy^{4} + 14 dx^{2} dy^{2} - \\frac{19 dx^{2}}{2} - \\frac{dy^{2}}{2} + 2 & dx dy \\left(- 6 dx^{4} - 12 dx^{2} dy^{2} + 14 dx^{2} - 6 dy^{4} + 14 dy^{2} - 9\\right) & dx dz \\left(- 6 dx^{4} - 12 dx^{2} dy^{2} + 11 dx^{2} - 6 dy^{4} + 11 dy^{2} - 4\\right)\\\\dx dy \\left(- 6 dx^{4} - 12 dx^{2} dy^{2} + 14 dx^{2} - 6 dy^{4} + 14 dy^{2} - 9\\right) & - 6 dx^{4} dy^{2} - 12 dx^{2} dy^{4} + 14 dx^{2} dy^{2} - \\frac{dx^{2}}{2} - 6 dy^{6} + 14 dy^{4} - \\frac{19 dy^{2}}{2} + 2 & dy dz \\left(- 6 dx^{4} - 12 dx^{2} dy^{2} + 11 dx^{2} - 6 dy^{4} + 11 dy^{2} - 4\\right)\\\\dx dz \\left(- 6 dx^{4} - 12 dx^{2} dy^{2} + 11 dx^{2} - 6 dy^{4} + 11 dy^{2} - 4\\right) & dy dz \\left(- 6 dx^{4} - 12 dx^{2} dy^{2} + 11 dx^{2} - 6 dy^{4} + 11 dy^{2} - 4\\right) & dz^{2} \\left(- 6 dx^{4} - 12 dx^{2} dy^{2} + 8 dx^{2} - 6 dy^{4} + 8 dy^{2}\\right)\\end{matrix}\\right]$"
      ],
      "text/plain": [
       "Matrix([\n",
       "[-6*dx**6 - 12*dx**4*dy**2 + 14*dx**4 - 6*dx**2*dy**4 + 14*dx**2*dy**2 - 19*dx**2/2 - dy**2/2 + 2,                            dx*dy*(-6*dx**4 - 12*dx**2*dy**2 + 14*dx**2 - 6*dy**4 + 14*dy**2 - 9), dx*dz*(-6*dx**4 - 12*dx**2*dy**2 + 11*dx**2 - 6*dy**4 + 11*dy**2 - 4)],\n",
       "[                           dx*dy*(-6*dx**4 - 12*dx**2*dy**2 + 14*dx**2 - 6*dy**4 + 14*dy**2 - 9), -6*dx**4*dy**2 - 12*dx**2*dy**4 + 14*dx**2*dy**2 - dx**2/2 - 6*dy**6 + 14*dy**4 - 19*dy**2/2 + 2, dy*dz*(-6*dx**4 - 12*dx**2*dy**2 + 11*dx**2 - 6*dy**4 + 11*dy**2 - 4)],\n",
       "[                           dx*dz*(-6*dx**4 - 12*dx**2*dy**2 + 11*dx**2 - 6*dy**4 + 11*dy**2 - 4),                            dy*dz*(-6*dx**4 - 12*dx**2*dy**2 + 11*dx**2 - 6*dy**4 + 11*dy**2 - 4),       dz**2*(-6*dx**4 - 12*dx**2*dy**2 + 8*dx**2 - 6*dy**4 + 8*dy**2)]])"
      ]
     },
     "execution_count": 15,
     "metadata": {},
     "output_type": "execute_result"
    }
   ],
   "source": [
    "ehem = sym.pi / 4\n",
    "sym.simplify((iRqRq - iqd2_RqRq)/ehem)"
   ]
  },
  {
   "cell_type": "code",
   "execution_count": 16,
   "id": "38526565-9018-479b-900f-ac65deb6c5f5",
   "metadata": {},
   "outputs": [
    {
     "data": {
      "text/latex": [
       "$\\displaystyle \\left[\\begin{matrix}- 6 dx^{2} \\left(dx^{2} + dy^{2}\\right) + 6 dx^{2} \\left(dx^{4} + 2 dx^{2} dy^{2} + dy^{4}\\right) + \\frac{3 dx^{2}}{2} + \\frac{dy^{2}}{2} & dx dy \\left(6 dx^{4} + 12 dx^{2} dy^{2} - 6 dx^{2} + 6 dy^{4} - 6 dy^{2} + 1\\right) & 3 dx dz \\left(2 dx^{4} + 4 dx^{2} dy^{2} - dx^{2} + 2 dy^{4} - dy^{2}\\right)\\\\dx dy \\left(6 dx^{4} + 12 dx^{2} dy^{2} - 6 dx^{2} + 6 dy^{4} - 6 dy^{2} + 1\\right) & \\frac{dx^{2}}{2} - 6 dy^{2} \\left(dx^{2} + dy^{2}\\right) + 6 dy^{2} \\left(dx^{4} + 2 dx^{2} dy^{2} + dy^{4}\\right) + \\frac{3 dy^{2}}{2} & 3 dy dz \\left(2 dx^{4} + 4 dx^{2} dy^{2} - dx^{2} + 2 dy^{4} - dy^{2}\\right)\\\\3 dx dz \\left(2 dx^{4} + 4 dx^{2} dy^{2} - dx^{2} + 2 dy^{4} - dy^{2}\\right) & 3 dy dz \\left(2 dx^{4} + 4 dx^{2} dy^{2} - dx^{2} + 2 dy^{4} - dy^{2}\\right) & 6 dz^{2} \\left(dx^{4} + 2 dx^{2} dy^{2} + dy^{4}\\right)\\end{matrix}\\right]$"
      ],
      "text/plain": [
       "Matrix([\n",
       "[-6*dx**2*(dx**2 + dy**2) + 6*dx**2*(dx**4 + 2*dx**2*dy**2 + dy**4) + 3*dx**2/2 + dy**2/2,                      dx*dy*(6*dx**4 + 12*dx**2*dy**2 - 6*dx**2 + 6*dy**4 - 6*dy**2 + 1), 3*dx*dz*(2*dx**4 + 4*dx**2*dy**2 - dx**2 + 2*dy**4 - dy**2)],\n",
       "[                      dx*dy*(6*dx**4 + 12*dx**2*dy**2 - 6*dx**2 + 6*dy**4 - 6*dy**2 + 1), dx**2/2 - 6*dy**2*(dx**2 + dy**2) + 6*dy**2*(dx**4 + 2*dx**2*dy**2 + dy**4) + 3*dy**2/2, 3*dy*dz*(2*dx**4 + 4*dx**2*dy**2 - dx**2 + 2*dy**4 - dy**2)],\n",
       "[                             3*dx*dz*(2*dx**4 + 4*dx**2*dy**2 - dx**2 + 2*dy**4 - dy**2),                             3*dy*dz*(2*dx**4 + 4*dx**2*dy**2 - dx**2 + 2*dy**4 - dy**2),                     6*dz**2*(dx**4 + 2*dx**2*dy**2 + dy**4)]])"
      ]
     },
     "execution_count": 16,
     "metadata": {},
     "output_type": "execute_result"
    }
   ],
   "source": [
    "sym.simplify(iqd2_RqRq / ehem)"
   ]
  },
  {
   "cell_type": "code",
   "execution_count": null,
   "id": "f7d858ce-ae74-4534-9d59-16585ff1bf61",
   "metadata": {},
   "outputs": [],
   "source": []
  }
 ],
 "metadata": {
  "kernelspec": {
   "display_name": "Python 3 (ipykernel)",
   "language": "python",
   "name": "python3"
  },
  "language_info": {
   "codemirror_mode": {
    "name": "ipython",
    "version": 3
   },
   "file_extension": ".py",
   "mimetype": "text/x-python",
   "name": "python",
   "nbconvert_exporter": "python",
   "pygments_lexer": "ipython3",
   "version": "3.9.19"
  }
 },
 "nbformat": 4,
 "nbformat_minor": 5
}
