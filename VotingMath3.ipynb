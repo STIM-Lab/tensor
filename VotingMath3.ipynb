{
 "cells": [
  {
   "cell_type": "markdown",
   "id": "990435d2-b579-458e-b1d7-439dc233e8a3",
   "metadata": {},
   "source": [
    "## 3D Tensor Voting\n",
    "\n",
    "$$\n",
    "\\mathbf{V}=\\text{sign}(\\lambda_2)(\\left|\\lambda_2\\right| - \\left|\\lambda_1\\right|) \\mathbf{S}(\\mathbf{v}, \\mathbf{r}, \\mathbf{q}, \\sigma) + \\text{sign}(\\lambda_1)(\\left|\\lambda_1\\right| - \\left|\\lambda_0\\right|) \\mathbf{P}(\\mathbf{v}, \\mathbf{r}, \\sigma) + \\lambda_0 \\mathbf{B}(\\mathbf{v}, \\mathbf{r}, \\sigma)\n",
    "$$\n",
    "Where:\n",
    "* $\\mathbf{V}\\in \\mathbb{R}^{3\\times 3}$ is the tensor result after voting\n",
    "* $\\mathbf{S}\\in \\mathbb{R}^{3\\times 3}$ is the result of stick tensor voting\n",
    "* $\\mathbf{P}\\in \\mathbb{R}^{3\\times 3}$ is the result of plate tensor voting\n",
    "* $\\mathbf{q}\\in \\mathbb{R}^{3}$ is the unit vector specifying the stick tensor (voter) orientation\n",
    "* $\\mathbf{v}\\in \\mathbb{R}^{3}$ is the voter position and $\\mathbf{r}\\in \\mathbb{R}^{3}$ is the receiver\n",
    "* $\\sigma$ is the attenuation factor\n",
    "* $\\lambda_0$ is the smallest eigenvalue and $\\lambda_2$ is the largest eigenvalue of the voter tensor"
   ]
  },
  {
   "cell_type": "markdown",
   "id": "f679d464-4fa1-4950-a329-3072660c6bea",
   "metadata": {},
   "source": [
    "## Stick Tensor\n",
    "\n",
    "$$\n",
    "\\mathbf{S}(\\mathbf{v}, \\mathbf{r}, \\mathbf{q}, \\sigma) = \\eta(\\sigma_1, \\sigma_2, p) D(\\mathbf{v}, \\mathbf{r}, \\mathbf{q}, \\sigma_1, \\sigma_2, p) (\\mathbf{R}\\mathbf{q})(\\mathbf{R}\\mathbf{q})^T\n",
    "$$\n",
    "where $\\mathbf{R}$ is a rotation matrix specifying the orientation of the receiver relative to the voter:\n",
    "$$\n",
    "\\mathbf{R} = \\mathbf{I} - 2\\mathbf{d}\\mathbf{d}^T\n",
    "$$\n",
    "where $\\mathbf{d} = \\frac{\\mathbf{v} - \\mathbf{r}}{\\ell}$ is the direction from the voter to receiver and $\\ell = ||\\mathbf{v} - \\mathbf{r}||$ is the distance."
   ]
  },
  {
   "cell_type": "markdown",
   "id": "62f16926-e673-46a8-ba3e-ba8bcdbe4d10",
   "metadata": {},
   "source": [
    "### Decay Function\n",
    "The decay function describes magnitude of the vote at the receiver:\n",
    "$$\n",
    "D(\\mathbf{v}, \\mathbf{r}, \\mathbf{q}, \\sigma_1, \\sigma_2, p)=e^{-\\frac{\\ell^2}{\\sigma_1^2}}\\left[ 1 - (\\mathbf{q}^T\\mathbf{d})^2 \\right]^p + e^{-\\frac{\\ell^2}{\\sigma_2^2}}(\\mathbf{q}^T\\mathbf{d})^{2p}\n",
    "$$\n",
    "where\n",
    "* $\\sigma_1$ is the standard deviation of the decay orthogonal to $\\mathbf{q}$\n",
    "* $\\sigma_2$ is the standard deviation of the decay in the direction of $\\mathbf{q}$\n",
    "* $p$ is a refinement term that specifies the *spread* of the vote\n",
    "\n",
    "Alternatively, the decay function may be represented using trigonometric functions:\n",
    "$$\n",
    "D(\\beta, \\ell, \\sigma_1, \\sigma_2, p)=e^{-\\frac{\\ell^2}{\\sigma_1^2}} \\sin^{2p} \\beta + e^{-\\frac{\\ell^2}{\\sigma_2^{2}}}\\cos^{2p}\\beta\n",
    "$$\n",
    "where $\\beta=\\cos^{-1}\\left(\\mathbf{q}^T\\mathbf{d}\\right)$."
   ]
  },
  {
   "cell_type": "markdown",
   "id": "7534c1f5-3925-4618-a86b-c70207887c51",
   "metadata": {},
   "source": [
    "### Normalization Term\n",
    "The normalization term ensures that the integral of the plate tensor voting field is 1, and therefore no additional energy is added or taken away from the image:\n",
    "$$\n",
    "\\eta(\\sigma_1, \\sigma_2, p) = [\\sigma^2_1 \\pi \\frac{2}{2p + 1} + \\sigma^2_2 \\pi \\frac{-2^{2p+1} \\times (n!)^2}{(2p + 1)!}]^{-1}\n",
    "$$"
   ]
  },
  {
   "cell_type": "markdown",
   "id": "97ce941f-5b02-4937-b01f-1b212c016953",
   "metadata": {},
   "source": [
    "---"
   ]
  },
  {
   "cell_type": "markdown",
   "id": "de1d1c96-d896-4c38-81e4-be434edfca60",
   "metadata": {},
   "source": [
    "## Stick Normalization Derivation\n",
    "The normalization factor $\\eta$ scales the decay function by the inverse of its integral:\n",
    "$$\n",
    "\\eta(\\sigma_1, \\sigma_2, p) = \\int_0^\\infty \\int_0^{2\\pi} \\int_0^\\pi D(\\mathbf{v}, \\mathbf{r}, \\mathbf{q}, \\sigma_1, \\sigma_2, p)\\ell \\, \\sin\\phi\\,d\\phi\\, d\\theta \\, d\\ell\n",
    "$$"
   ]
  },
  {
   "cell_type": "markdown",
   "id": "3be01814-cf25-4e42-9342-08263e7fad2e",
   "metadata": {},
   "source": [
    "I think this will be easiest to do in polar coordinates:\n",
    "$$\n",
    "\\eta = \\int_0^\\infty \\int_0^{2\\pi} \\int_0^\\pi \\left[ e^{-\\frac{\\ell^2}{\\sigma_1^2}}\\left[ 1 - (\\mathbf{q}^T\\mathbf{d})^2 \\right]^p + e^{-\\frac{\\ell^2}{\\sigma_2^2}}(\\mathbf{q}^T\\mathbf{d})^{2p} \\right]\\ell\\, \\sin\\phi\\,d\\phi\\, d\\theta \\, d\\ell\n",
    "$$\n",
    "where\n",
    "$$\n",
    "\\mathbf{d} =\n",
    "\\begin{bmatrix}\n",
    "\\cos\\theta \\sin\\phi\\\\\n",
    "\\sin\\theta \\sin\\phi\\\\\n",
    "\\cos\\phi\n",
    "\\end{bmatrix}\n",
    "$$"
   ]
  },
  {
   "cell_type": "markdown",
   "id": "70335e11-d9de-4a8a-9764-93c9f4f8b935",
   "metadata": {},
   "source": [
    "Since the integral is across all space, it is independent of the direction of $\\mathbf{q}$, so I believe we can set this to some constant unit vector. The easiest seems to be $\\mathbf{q}=\\mathbf{z}$, in which case $\\mathbf{q}^T\\mathbf{d} = \\cos\\theta$:\n",
    "$$\n",
    "\\eta = \\int_0^\\infty \\int_0^{2\\pi} \\int_0^\\pi \\left[ e^{-\\frac{\\ell^2}{\\sigma_1^2}}\\left[ 1 - (\\cos\\phi)^2 \\right]^p + e^{-\\frac{\\ell^2}{\\sigma_2^2}}(\\cos\\phi)^{2p} \\right]\\ell\\, \\sin\\phi\\,d\\phi\\, d\\theta \\, d\\ell\n",
    "$$"
   ]
  },
  {
   "cell_type": "markdown",
   "id": "9992af90-6055-4cd4-bd21-dd7204149d66",
   "metadata": {},
   "source": [
    "Separating terms for integration, we get the two integrals:\n",
    "$$\n",
    "\\int_0^\\infty \\int_0^{2\\pi} \\int_0^\\pi e^{-\\frac{\\ell^2}{\\sigma_1^2}}(\\sin^{2p}\\phi)\\ell\\, \\sin\\phi\\,d\\phi\\, d\\theta \\, d\\ell\n",
    "$$\n",
    "$$\n",
    "\\int_0^\\infty \\int_0^{2\\pi} \\int_0^\\pi e^{-\\frac{\\ell^2}{\\sigma_1^2}}(\\cos^{2p}\\phi)\\ell\\, \\sin\\phi\\,d\\phi\\, d\\theta \\, d\\ell\n",
    "$$"
   ]
  },
  {
   "cell_type": "markdown",
   "id": "641e201d-98f5-44d9-9cf3-0d595a901f7d",
   "metadata": {},
   "source": [
    "Does re-arranging the terms help?\n",
    "$$\n",
    " \\int_0^\\pi\\cos^{2p}\\phi  \\, \\sin\\phi\\, \\int_0^\\infty \\ell e^{-\\frac{\\ell^2}{\\sigma_1^2}} \\int_0^{2\\pi}d\\theta \\,d\\ell \\,d\\phi\n",
    "$$"
   ]
  },
  {
   "cell_type": "markdown",
   "id": "d7d88265-ae02-49cc-a74c-9f5a7a9a044e",
   "metadata": {},
   "source": [
    "$$\n",
    "2\\pi \\int_0^\\pi\\cos^{2p}\\phi  \\,\\sin\\phi\\, \\int_0^\\infty \\ell e^{-\\frac{\\ell^2}{\\sigma_1^2}} \\,d\\ell \\,d\\phi \n",
    "$$"
   ]
  },
  {
   "cell_type": "markdown",
   "id": "065cd632-7a6b-4b66-9435-427be8035ec1",
   "metadata": {},
   "source": [
    "$$\n",
    "\\sigma^2_1 \\pi \\int_0^\\pi\\cos^{2p}\\phi  \\,\\sin\\phi\\, d\\phi \n",
    "$$"
   ]
  },
  {
   "cell_type": "markdown",
   "id": "7d6f00dd-9eb4-4fd1-9ebd-1026ba68df4b",
   "metadata": {},
   "source": [
    "This leaves us with the two integrals to sum:\n",
    "$$\n",
    "\\sigma^2_1 \\pi \\int_0^\\pi\\cos^{2p}\\phi  \\,\\sin\\phi\\, d\\phi + \\sigma^2_2 \\pi \\int_0^\\pi\\sin^{2p}\\phi  \\,\\sin\\phi\\, d\\phi\n",
    "$$"
   ]
  },
  {
   "cell_type": "markdown",
   "id": "5cfe422f-8f75-4d26-b28a-6f0008f3c10c",
   "metadata": {},
   "source": [
    "So it looks like the pattern for the first term is pretty easy to see:\n",
    "$$\n",
    "\\int_0^\\pi\\cos^{2p}\\phi  \\,\\sin\\phi\\, d\\phi = \\frac{2}{2p + 1}\n",
    "$$"
   ]
  },
  {
   "cell_type": "markdown",
   "id": "14e9592c-f9e8-44a9-8778-fc0b1ecf58be",
   "metadata": {},
   "source": [
    "This looks like the harder one:\n",
    "$$\n",
    "\\int_0^\\pi\\sin^{2p}\\phi  \\,\\sin\\phi\\, d\\phi = \\frac{-2^{2p+1} \\times (n!)^2}{(2p + 1)!}\n",
    "$$"
   ]
  },
  {
   "cell_type": "markdown",
   "id": "b2a9db1f-2886-4754-89c9-ccf3df30a90b",
   "metadata": {},
   "source": [
    "Final normalization factor $\\eta$ is:\n",
    "$$\n",
    "\\eta(\\sigma_1, \\sigma_2, p) = \\sigma^2_1 \\pi \\frac{2}{2p + 1} + \\sigma^2_2 \\pi \\frac{-2^{2p+1} \\times (p!)^2}{(2p + 1)!}\n",
    "$$"
   ]
  },
  {
   "cell_type": "markdown",
   "id": "03df5890-c96a-4c40-9b0f-1d3a2f8cb13b",
   "metadata": {},
   "source": [
    "---"
   ]
  },
  {
   "cell_type": "markdown",
   "id": "7b44cf04-1238-4635-91f2-63fd348a692c",
   "metadata": {},
   "source": [
    "## Plate Tensor Derivation\n",
    "\n",
    "The integral for a plate tensor is given by:\n",
    "$$\n",
    "\\mathbf{P}(\\mathbf{v}, \\mathbf{r}, \\sigma) = \\int_{0}^\\pi \\mathbf{S}(\\mathbf{v}, \\mathbf{r}, \\mathbf{q}, \\sigma) \\,d\\beta=  \\int_{0}^\\pi \\eta(\\sigma_1, \\sigma_2, 1) D(\\mathbf{v}, \\mathbf{r}, \\mathbf{q}, \\sigma_1, \\sigma_2, 1) (\\mathbf{R}\\mathbf{q})(\\mathbf{R}\\mathbf{q})^T \\, d\\theta\n",
    "$$\n",
    "where\n",
    "$$\n",
    "\\mathbf{d}=\n",
    "\\begin{bmatrix}\n",
    "\\cos\\alpha \\sin\\beta \\\\\n",
    "\\sin\\alpha \\sin\\beta \\\\\n",
    "\\cos\\beta\n",
    "\\end{bmatrix}\n",
    "\\quad\n",
    "\\quad\n",
    "\\mathbf{q}=\n",
    "\\begin{bmatrix}\n",
    "\\cos\\theta \\\\\n",
    "\\sin\\theta \\\\\n",
    "0\n",
    "\\end{bmatrix}\n",
    "$$\n",
    "We will assume that $p=1$, because we DONT know to do anything else:\n",
    "$$\n",
    "= \\eta(\\sigma_1, \\sigma_2, 1) \\left(e^{-\\frac{\\ell^2}{\\sigma_1^2}}\\int_0^\\pi  \\left(1 - \\left(\\mathbf{q}^T\\mathbf{d}\\right)^2\\right) (\\mathbf{R}\\mathbf{q})(\\mathbf{R}\\mathbf{q})^T \\, d\\beta + e^{-\\frac{\\ell^2}{\\sigma_2^2}}\\int_0^\\pi \\left(\\mathbf{q}^T\\mathbf{d}\\right)^2(\\mathbf{R}\\mathbf{q})(\\mathbf{R}\\mathbf{q})^T \\, d\\beta\\right)\n",
    "$$\n",
    "$$\n",
    "= \\eta(\\sigma_1, \\sigma_2, 1) \\left(e^{-\\frac{\\ell^2}{\\sigma_1^2}}\\left(\\int_0^\\pi   (\\mathbf{R}\\mathbf{q})(\\mathbf{R}\\mathbf{q})^T \\, d\\beta - \\int_0^\\pi \\left(\\mathbf{q}^T\\mathbf{d}\\right)^2 (\\mathbf{R}\\mathbf{q})(\\mathbf{R}\\mathbf{q})^T \\, d\\beta\\right) + e^{-\\frac{\\ell^2}{\\sigma_2^2}}\\int_0^\\pi \\left(\\mathbf{q}^T\\mathbf{d}\\right)^2(\\mathbf{R}\\mathbf{q})(\\mathbf{R}\\mathbf{q})^T \\, d\\beta\\right)\n",
    "$$"
   ]
  },
  {
   "cell_type": "markdown",
   "id": "77a91679-a830-44fb-af03-781954518818",
   "metadata": {},
   "source": [
    "where $\\mathbf{R}=\\mathbf{I}-2\\mathbf{d}\\mathbf{d}^T$. Combining the outer products into symmetric matrices: $\\mathbf{Q}=\\mathbf{q}\\mathbf{q}^T$ and $\\mathbf{D}=\\mathbf{d}\\mathbf{d}^T$, we can expand the term:\n",
    "$$\n",
    "(\\mathbf{R}\\mathbf{q})(\\mathbf{R}\\mathbf{q})^T = (\\mathbf{I}-2\\mathbf{D})\\mathbf{Q}(\\mathbf{I}-2\\mathbf{D})\n",
    "$$\n",
    "$$\n",
    "=(\\mathbf{I}\\mathbf{Q}-2\\mathbf{D}\\mathbf{Q})(\\mathbf{I}-2\\mathbf{D})\n",
    "$$\n",
    "$$\n",
    "=\\mathbf{I}\\mathbf{Q}\\mathbf{I}-2\\mathbf{I}\\mathbf{Q}\\mathbf{D}^T-2\\mathbf{D}\\mathbf{Q}\\mathbf{I}+4\\mathbf{D}\\mathbf{Q}\\mathbf{D}^T\n",
    "$$\n",
    "$$\n",
    "=\\mathbf{Q}-2\\mathbf{Q}\\mathbf{D}^T-2\\mathbf{D}\\mathbf{Q}+4\\mathbf{D}\\mathbf{Q}\\mathbf{D}^T\n",
    "$$\n",
    "where\n",
    "$$\n",
    "\\mathbf{D}=\n",
    "\\begin{bmatrix}\n",
    "\\sin^2(\\beta) \\cos^2(\\alpha) & \\sin(\\alpha) \\sin^2(\\beta) \\cos(\\alpha) & \\sin(\\beta)\\cos(\\alpha)\\cos(\\beta)\\\\\n",
    "\\sin(\\alpha) \\sin^2(\\beta) \\cos(\\alpha) & \\sin^2(\\alpha) \\sin^2(\\beta) & \\sin(\\alpha) \\sin(\\beta) \\cos(\\beta)\\\\\n",
    "\\sin(\\beta) \\cos(\\alpha) \\cos(\\beta) & \\sin(\\alpha) \\sin(\\beta) \\cos(\\beta) & \\cos^2(\\beta)\n",
    "\\end{bmatrix}\n",
    "\\quad\n",
    "\\quad\n",
    "\\mathbf{Q}=\n",
    "\\begin{bmatrix}\n",
    "\\cos^2(\\theta) & \\sin(\\theta) \\cos(\\theta) & 0\\\\\n",
    "\\sin(\\theta) \\cos(\\theta) & \\sin^2(\\theta) & 0\\\\\n",
    "0 & 0 & 0\n",
    "\\end{bmatrix}\n",
    "$$"
   ]
  },
  {
   "cell_type": "markdown",
   "id": "2e6a661f-706d-4575-ba8f-4727a20f3b70",
   "metadata": {},
   "source": [
    "Collecting these terms from sympy and simplifying we get:\n",
    "$$\n",
    "\\int_0^\\pi(\\mathbf{R}\\mathbf{q})(\\mathbf{R}\\mathbf{q})^T\\, d\\theta = \n",
    "\\frac{\\pi}{4} \\left[\\begin{matrix}\n",
    "8\\sin^4(\\beta)\\cos^2(\\alpha)-8\\sin^2(\\beta)\\cos^2(\\alpha) + 2 & \n",
    "\\frac{-2\\sin(2\\alpha) + \\sin(2\\alpha-4\\beta)+\\sin(2\\alpha+4\\beta)}{4} &\n",
    "\\frac{\\sin(\\alpha-4\\beta) - \\sin(\\alpha+4\\beta)}{2} \\\\\n",
    "\\frac{-2\\sin(2\\alpha) + \\sin(2\\alpha-4\\beta) + \\sin(2\\alpha+4\\beta)}{4} &\n",
    "8\\sin^2(\\alpha)\\sin^4(\\beta) - 8\\sin^2(\\alpha)\\sin^2(\\beta) + 2 &\n",
    "\\frac{-\\cos(\\alpha-4\\beta) + \\cos(\\alpha+4\\beta)}{2} \\\\\n",
    "\\frac{\\sin(\\alpha-4\\beta) - \\sin(\\alpha + 4\\beta)}{2} &\n",
    "\\frac{-\\cos(\\alpha-4\\beta) + \\cos(\\alpha + 4\\beta)}{2} &\n",
    "1 - \\cos(4\\beta)\n",
    "\\end{matrix}\\right]\n",
    "$$"
   ]
  },
  {
   "cell_type": "markdown",
   "id": "16ceaf96-b450-4795-968f-240069f1a6a5",
   "metadata": {},
   "source": [
    "$$\n",
    "\\mathbf{A} = \\int_0^\\pi (\\mathbf{q}^T \\mathbf{d})^2(\\mathbf{R}\\mathbf{q})(\\mathbf{R}\\mathbf{q})^T \\, d\\theta = \n",
    "$$\n",
    "<br>\n",
    "$$\n",
    "\\frac{\\pi}{4} \\left[\\begin{matrix}\n",
    "\\frac{\\left(12\\sin^4(\\beta)\\cos^2(\\alpha) - 12\\sin^2(\\beta)\\cos^2(\\alpha) + \\cos(2\\alpha) + 2\\right)\\sin^2(\\beta)}{2} & \n",
    "\\left(6\\sin^4(\\beta) - 6\\sin^2(\\beta) + 1\\right) \\sin(\\alpha) \\sin^2(\\beta) \\cos(\\alpha) & \n",
    "-3\\sin^3(\\beta) \\cos(\\alpha) \\cos(\\beta) \\cos(2\\beta) \\\\\n",
    "\\left(6\\sin^4(\\beta) - 6 \\sin^2(\\beta) + 1\\right) \\sin(\\alpha) \\sin^2(\\beta) \\cos(\\alpha) & \n",
    "\\frac{\\left(12 \\sin^2(\\alpha)\\sin^4(\\beta) - 12\\sin^2(\\alpha)\\sin^2(\\beta) - \\cos(2\\alpha) + 2\\right) \\sin^2(\\beta)}{2} & \n",
    "-3\\sin(\\alpha)\\sin^3(\\beta) \\cos(\\beta) \\cos(2\\beta) \\\\\n",
    "-3\\sin^3(\\beta) \\cos(\\alpha) \\cos(\\beta) \\cos(2\\beta) & \n",
    "-3\\sin(\\alpha) \\sin^3(\\beta) \\cos(\\beta) \\cos(2\\beta) & \n",
    "6\\sin^4(\\beta) \\cos^2(\\beta)\n",
    "\\end{matrix}\\right]\n",
    "$$"
   ]
  },
  {
   "cell_type": "markdown",
   "id": "eb145b0b-1469-42d9-83a3-908c17cf40ae",
   "metadata": {},
   "source": [
    "Therefore, we have\n",
    "$$\n",
    "\\mathbf{B} = \\int_0^\\pi   (\\mathbf{R}\\mathbf{q})(\\mathbf{R}\\mathbf{q})^T \\, d\\beta - \\int_0^\\pi \\left(\\mathbf{q}^T\\mathbf{d}\\right)^2 (\\mathbf{R}\\mathbf{q})(\\mathbf{R}\\mathbf{q})^T d\\beta =\n",
    "$$\n",
    "<br>\n",
    "$$\n",
    "\\frac{\\pi}{4} \\left[\\begin{matrix}\n",
    "\\frac{28 \\left( 1 - \\cos^2(\\beta) \\right)^2 \\cos^2(\\alpha) - 12 \\sin^6(\\beta) \\cos^2(\\alpha) + 18 \\cos^2(\\alpha) \\cos^2(\\beta) - 18 \\cos^2(\\alpha) + \\cos^2(\\beta) + 3}{2} & \n",
    "\\left( -6 \\sin^4(\\beta) + 14 \\sin^2(\\beta) - 9 \\right) \\sin(\\alpha) \\sin^2(\\beta) \\cos(\\alpha) &\n",
    "\\left( -6 \\cos^4(\\beta) + \\cos^2(\\beta) + 1 \\right) \\sin(\\beta) \\cos(\\alpha) \\cos(\\beta) \\\\\n",
    "\\left( -6 \\sin^4(\\beta) + 14 \\sin^2(\\beta) - 9 \\right) \\sin(\\alpha) \\sin^2(\\beta) \\cos(\\alpha) & \n",
    "\\frac{-12 \\sin^2(\\alpha) \\sin^6(\\beta) + 28 \\sin^2(\\alpha) \\sin^4(\\beta) - 18 \\sin^2(\\alpha) \\sin^2(\\beta) - \\sin^2(\\beta) + 4}{2} & \n",
    "\\left( -6 \\sin^4(\\beta) + \\cos^2(\\beta) + 1 \\right) \\sin(\\alpha) \\sin(\\beta) \\cos(\\beta) \\\\\n",
    "\\left( -6 \\cos^4(\\beta) + \\cos^2(\\beta) + 1 \\right) \\sin(\\beta) \\cos(\\alpha) \\cos(\\beta) &\n",
    "\\left( -6 \\sin^4(\\beta) + \\cos^2(\\beta) + 1 \\right) \\sin(\\alpha) \\sin(\\beta) \\cos(\\beta) &\n",
    "-6 \\sin^4(\\beta) \\cos^2(\\beta) - \\cos(4\\beta) + 1\n",
    "\\end{matrix}\\right]\n",
    "$$"
   ]
  },
  {
   "cell_type": "markdown",
   "id": "13d381b9-56df-445d-adb4-1df9bfcae1dc",
   "metadata": {},
   "source": [
    "Substituting both of these matrices into the full plate tensor equation yields:\n",
    "$$\n",
    "\\mathbf{P}(\\mathbf{v}, \\mathbf{r}, \\sigma) = \\eta(\\sigma_1, \\sigma_2, 1)  \\left(e^{-\\frac{\\ell^2}{\\sigma_1^2}}\\left(\\int_0^\\pi   (\\mathbf{R}\\mathbf{q})(\\mathbf{R}\\mathbf{q})^T \\, d\\beta - \\int_0^\\pi \\left(\\mathbf{q}^T\\mathbf{d}\\right)^2 (\\mathbf{R}\\mathbf{q})(\\mathbf{R}\\mathbf{q})^T \\, d\\beta\\right) + e^{-\\frac{\\ell^2}{\\sigma_2^2}}\\int_0^\\pi \\left(\\mathbf{q}^T\\mathbf{d}\\right)^2(\\mathbf{R}\\mathbf{q})(\\mathbf{R}\\mathbf{q})^T \\, d\\theta\\right)\n",
    "$$"
   ]
  },
  {
   "cell_type": "markdown",
   "id": "ecc542da-e8e7-4c54-aaec-a424f1c5a5a1",
   "metadata": {},
   "source": [
    "which yields\n",
    "$$\n",
    "\\mathbf{P}(\\mathbf{v}, \\mathbf{r}, \\sigma) = \\eta(\\sigma_1, \\sigma_2, 1) \\frac{\\pi}{4} \\left(e^{-\\frac{\\ell^2}{\\sigma_1^2}} \n",
    "\\mathbf{B} + e^{-\\frac{\\ell^2}{\\sigma_2^2}} \\mathbf{A} \\right)\n",
    "$$\n",
    "\n",
    "Note that we have factored the $\\frac{\\pi}{4}$ from $\\mathbf{A}$ and $\\mathbf{B}$ matrices above."
   ]
  },
  {
   "cell_type": "markdown",
   "id": "038225d0-a16b-4458-9f0c-a25a58320665",
   "metadata": {},
   "source": [
    "---\n",
    "## 3D Math"
   ]
  },
  {
   "cell_type": "code",
   "execution_count": 2,
   "id": "1975a76a-cf19-4140-be0c-e125556ee919",
   "metadata": {},
   "outputs": [],
   "source": [
    "import matplotlib.pyplot as plt\n",
    "import numpy as np\n",
    "import sympy as sym\n",
    "\n",
    "theta = sym.symbols(\"theta\")\n",
    "phi = sym.symbols(\"phi\")\n",
    "\n",
    "alpha = sym.symbols(\"alpha\")\n",
    "beta = sym.symbols(\"beta\")\n",
    "\n",
    "sin_theta = sym.sin(theta) #sympify(\"(exp(I*theta)-exp(-I*theta))/(2*I)\")\n",
    "cos_theta = sym.cos(theta) #sympify(\"(exp(I*theta)+exp(-I*theta))/(2)\")\n",
    "\n",
    "sin_phi = sym.sin(phi) #sympify(\"(exp(I*phi)-exp(-I*phi))/(2*I)\")\n",
    "cos_phi = sym.cos(phi) #sympify(\"(exp(I*phi)+exp(-I*phi))/(2)\")\n",
    "\n",
    "sin_alpha = sym.sin(alpha) #sympify(\"(exp(I*alpha)-exp(-I*alpha))/(2*I)\")\n",
    "cos_alpha = sym.cos(alpha) #sympify(\"(exp(I*alpha)+exp(-I*alpha))/(2)\")\n",
    "\n",
    "sin_beta = sym.sin(beta) #sympify(\"(exp(I*beta)-exp(-I*beta))/(2*I)\")\n",
    "cos_beta = sym.cos(beta) #sympify(\"(exp(I*beta)+exp(-I*beta))/(2)\")\n",
    "\n",
    "sigma1, sigma2, l = sym.symbols(\"sigma_1, sigma_2, l\")\n",
    "n = sym.symbols(\"n\")\n",
    "\n",
    "# 2D implementation\n",
    "q = sym.Matrix([[cos_theta], [sin_theta], [0]])\n",
    "d = sym.Matrix([[cos_alpha * sin_beta], [sin_alpha * sin_beta], [cos_beta]])\n",
    "\n",
    "# define the D and Q matrices\n",
    "D = d * d.transpose()\n",
    "Q = q * q.transpose()"
   ]
  },
  {
   "cell_type": "code",
   "execution_count": 3,
   "id": "65e25c78-aeeb-47e8-adc6-ab3d3f3708b6",
   "metadata": {},
   "outputs": [
    {
     "data": {
      "text/latex": [
       "$\\displaystyle \\left[\\begin{matrix}\\cos^{2}{\\left(\\theta \\right)} & \\sin{\\left(\\theta \\right)} \\cos{\\left(\\theta \\right)} & 0\\\\\\sin{\\left(\\theta \\right)} \\cos{\\left(\\theta \\right)} & \\sin^{2}{\\left(\\theta \\right)} & 0\\\\0 & 0 & 0\\end{matrix}\\right]$"
      ],
      "text/plain": [
       "Matrix([\n",
       "[        cos(theta)**2, sin(theta)*cos(theta), 0],\n",
       "[sin(theta)*cos(theta),         sin(theta)**2, 0],\n",
       "[                    0,                     0, 0]])"
      ]
     },
     "execution_count": 3,
     "metadata": {},
     "output_type": "execute_result"
    }
   ],
   "source": [
    "Q"
   ]
  },
  {
   "cell_type": "code",
   "execution_count": 4,
   "id": "b6e932bf-6ca9-4e43-985d-7915d85e6d83",
   "metadata": {},
   "outputs": [
    {
     "data": {
      "text/latex": [
       "$\\displaystyle \\left[\\begin{matrix}\\sin^{2}{\\left(\\beta \\right)} \\cos^{2}{\\left(\\alpha \\right)} & \\sin{\\left(\\alpha \\right)} \\sin^{2}{\\left(\\beta \\right)} \\cos{\\left(\\alpha \\right)} & \\sin{\\left(\\beta \\right)} \\cos{\\left(\\alpha \\right)} \\cos{\\left(\\beta \\right)}\\\\\\sin{\\left(\\alpha \\right)} \\sin^{2}{\\left(\\beta \\right)} \\cos{\\left(\\alpha \\right)} & \\sin^{2}{\\left(\\alpha \\right)} \\sin^{2}{\\left(\\beta \\right)} & \\sin{\\left(\\alpha \\right)} \\sin{\\left(\\beta \\right)} \\cos{\\left(\\beta \\right)}\\\\\\sin{\\left(\\beta \\right)} \\cos{\\left(\\alpha \\right)} \\cos{\\left(\\beta \\right)} & \\sin{\\left(\\alpha \\right)} \\sin{\\left(\\beta \\right)} \\cos{\\left(\\beta \\right)} & \\cos^{2}{\\left(\\beta \\right)}\\end{matrix}\\right]$"
      ],
      "text/plain": [
       "Matrix([\n",
       "[        sin(beta)**2*cos(alpha)**2, sin(alpha)*sin(beta)**2*cos(alpha), sin(beta)*cos(alpha)*cos(beta)],\n",
       "[sin(alpha)*sin(beta)**2*cos(alpha),         sin(alpha)**2*sin(beta)**2, sin(alpha)*sin(beta)*cos(beta)],\n",
       "[    sin(beta)*cos(alpha)*cos(beta),     sin(alpha)*sin(beta)*cos(beta),                   cos(beta)**2]])"
      ]
     },
     "execution_count": 4,
     "metadata": {},
     "output_type": "execute_result"
    }
   ],
   "source": [
    "D"
   ]
  },
  {
   "cell_type": "code",
   "execution_count": 5,
   "id": "cac762f3-158f-4bb0-b741-c84568d41788",
   "metadata": {},
   "outputs": [
    {
     "data": {
      "text/latex": [
       "$\\displaystyle \\left[\\begin{matrix}\\frac{\\pi}{2} & 0 & 0\\\\0 & \\frac{\\pi}{2} & 0\\\\0 & 0 & 0\\end{matrix}\\right]$"
      ],
      "text/plain": [
       "Matrix([\n",
       "[pi/2,    0, 0],\n",
       "[   0, pi/2, 0],\n",
       "[   0,    0, 0]])"
      ]
     },
     "execution_count": 5,
     "metadata": {},
     "output_type": "execute_result"
    }
   ],
   "source": [
    "# integrate each term\n",
    "iQ = sym.integrate(Q, (theta, 0, sym.pi))\n",
    "iQ = sym.simplify(iQ)\n",
    "iQ"
   ]
  },
  {
   "cell_type": "code",
   "execution_count": 7,
   "id": "624b9df7-88c3-4e1e-9f0a-1c42a1f28313",
   "metadata": {},
   "outputs": [
    {
     "data": {
      "text/latex": [
       "$\\displaystyle \\left[\\begin{matrix}\\frac{\\pi \\sin^{2}{\\left(\\beta \\right)} \\cos^{2}{\\left(\\alpha \\right)}}{2} & \\frac{\\pi \\sin{\\left(\\alpha \\right)} \\sin^{2}{\\left(\\beta \\right)} \\cos{\\left(\\alpha \\right)}}{2} & \\frac{\\pi \\left(- \\sin{\\left(\\alpha - 2 \\beta \\right)} + \\sin{\\left(\\alpha + 2 \\beta \\right)}\\right)}{8}\\\\\\frac{\\pi \\sin{\\left(\\alpha \\right)} \\sin^{2}{\\left(\\beta \\right)} \\cos{\\left(\\alpha \\right)}}{2} & \\frac{\\pi \\sin^{2}{\\left(\\alpha \\right)} \\sin^{2}{\\left(\\beta \\right)}}{2} & \\frac{\\pi \\left(\\cos{\\left(\\alpha - 2 \\beta \\right)} - \\cos{\\left(\\alpha + 2 \\beta \\right)}\\right)}{8}\\\\0 & 0 & 0\\end{matrix}\\right]$"
      ],
      "text/plain": [
       "Matrix([\n",
       "[        pi*sin(beta)**2*cos(alpha)**2/2, pi*sin(alpha)*sin(beta)**2*cos(alpha)/2, pi*(-sin(alpha - 2*beta) + sin(alpha + 2*beta))/8],\n",
       "[pi*sin(alpha)*sin(beta)**2*cos(alpha)/2,         pi*sin(alpha)**2*sin(beta)**2/2,  pi*(cos(alpha - 2*beta) - cos(alpha + 2*beta))/8],\n",
       "[                                      0,                                       0,                                                 0]])"
      ]
     },
     "execution_count": 7,
     "metadata": {},
     "output_type": "execute_result"
    }
   ],
   "source": [
    "iQD = sym.integrate(Q*D.transpose(), (theta, 0, sym.pi))\n",
    "iQD = sym.simplify(iQD)\n",
    "iQD"
   ]
  },
  {
   "cell_type": "code",
   "execution_count": 6,
   "id": "e75e0971-8862-4ce3-9165-cde0c5a2f3f3",
   "metadata": {},
   "outputs": [
    {
     "data": {
      "text/latex": [
       "$\\displaystyle \\left[\\begin{matrix}\\frac{\\pi \\sin^{2}{\\left(\\beta \\right)} \\cos^{2}{\\left(\\alpha \\right)}}{2} & \\frac{\\pi \\sin{\\left(\\alpha \\right)} \\sin^{2}{\\left(\\beta \\right)} \\cos{\\left(\\alpha \\right)}}{2} & 0\\\\\\frac{\\pi \\sin{\\left(\\alpha \\right)} \\sin^{2}{\\left(\\beta \\right)} \\cos{\\left(\\alpha \\right)}}{2} & \\frac{\\pi \\sin^{2}{\\left(\\alpha \\right)} \\sin^{2}{\\left(\\beta \\right)}}{2} & 0\\\\\\frac{\\pi \\left(- \\sin{\\left(\\alpha - 2 \\beta \\right)} + \\sin{\\left(\\alpha + 2 \\beta \\right)}\\right)}{8} & \\frac{\\pi \\left(\\cos{\\left(\\alpha - 2 \\beta \\right)} - \\cos{\\left(\\alpha + 2 \\beta \\right)}\\right)}{8} & 0\\end{matrix}\\right]$"
      ],
      "text/plain": [
       "Matrix([\n",
       "[                  pi*sin(beta)**2*cos(alpha)**2/2,          pi*sin(alpha)*sin(beta)**2*cos(alpha)/2, 0],\n",
       "[          pi*sin(alpha)*sin(beta)**2*cos(alpha)/2,                  pi*sin(alpha)**2*sin(beta)**2/2, 0],\n",
       "[pi*(-sin(alpha - 2*beta) + sin(alpha + 2*beta))/8, pi*(cos(alpha - 2*beta) - cos(alpha + 2*beta))/8, 0]])"
      ]
     },
     "execution_count": 6,
     "metadata": {},
     "output_type": "execute_result"
    }
   ],
   "source": [
    "iDQ = sym.integrate(D*Q, (theta, 0, sym.pi))\n",
    "iDQ = sym.simplify(iDQ)\n",
    "iDQ"
   ]
  },
  {
   "cell_type": "code",
   "execution_count": 8,
   "id": "e05e66f9-c385-406b-8c89-58e1744b11a0",
   "metadata": {},
   "outputs": [
    {
     "data": {
      "text/latex": [
       "$\\displaystyle \\left[\\begin{matrix}\\frac{\\pi \\sin^{4}{\\left(\\beta \\right)} \\cos^{2}{\\left(\\alpha \\right)}}{2} & \\frac{\\pi \\left(1 - \\cos{\\left(2 \\beta \\right)}\\right)^{2} \\sin{\\left(2 \\alpha \\right)}}{16} & \\frac{\\pi \\sin^{3}{\\left(\\beta \\right)} \\cos{\\left(\\alpha \\right)} \\cos{\\left(\\beta \\right)}}{2}\\\\\\frac{\\pi \\left(1 - \\cos{\\left(2 \\beta \\right)}\\right)^{2} \\sin{\\left(2 \\alpha \\right)}}{16} & \\frac{\\pi \\sin^{2}{\\left(\\alpha \\right)} \\sin^{4}{\\left(\\beta \\right)}}{2} & \\frac{\\pi \\sin{\\left(\\alpha \\right)} \\sin^{3}{\\left(\\beta \\right)} \\cos{\\left(\\beta \\right)}}{2}\\\\\\frac{\\pi \\sin^{3}{\\left(\\beta \\right)} \\cos{\\left(\\alpha \\right)} \\cos{\\left(\\beta \\right)}}{2} & \\frac{\\pi \\sin{\\left(\\alpha \\right)} \\sin^{3}{\\left(\\beta \\right)} \\cos{\\left(\\beta \\right)}}{2} & \\frac{\\pi \\left(1 - \\cos{\\left(4 \\beta \\right)}\\right)}{16}\\end{matrix}\\right]$"
      ],
      "text/plain": [
       "Matrix([\n",
       "[        pi*sin(beta)**4*cos(alpha)**2/2, pi*(1 - cos(2*beta))**2*sin(2*alpha)/16, pi*sin(beta)**3*cos(alpha)*cos(beta)/2],\n",
       "[pi*(1 - cos(2*beta))**2*sin(2*alpha)/16,         pi*sin(alpha)**2*sin(beta)**4/2, pi*sin(alpha)*sin(beta)**3*cos(beta)/2],\n",
       "[ pi*sin(beta)**3*cos(alpha)*cos(beta)/2,  pi*sin(alpha)*sin(beta)**3*cos(beta)/2,                pi*(1 - cos(4*beta))/16]])"
      ]
     },
     "execution_count": 8,
     "metadata": {},
     "output_type": "execute_result"
    }
   ],
   "source": [
    "iDQD = sym.integrate(D*Q*D.transpose(), (theta, 0, sym.pi))\n",
    "iDQD = sym.simplify(iDQD)\n",
    "iDQD"
   ]
  },
  {
   "cell_type": "code",
   "execution_count": 14,
   "id": "72794b5c-928c-46a1-843e-d4d736f0b0e1",
   "metadata": {},
   "outputs": [
    {
     "data": {
      "text/latex": [
       "$\\displaystyle \\left[\\begin{matrix}\\frac{\\pi \\left(4 \\sin^{4}{\\left(\\beta \\right)} \\cos^{2}{\\left(\\alpha \\right)} - 4 \\sin^{2}{\\left(\\beta \\right)} \\cos^{2}{\\left(\\alpha \\right)} + 1\\right)}{2} & \\frac{\\pi \\left(- 2 \\sin{\\left(2 \\alpha \\right)} + \\sin{\\left(2 \\alpha - 4 \\beta \\right)} + \\sin{\\left(2 \\alpha + 4 \\beta \\right)}\\right)}{16} & \\frac{\\pi \\left(\\sin{\\left(\\alpha - 4 \\beta \\right)} - \\sin{\\left(\\alpha + 4 \\beta \\right)}\\right)}{8}\\\\\\frac{\\pi \\left(- 2 \\sin{\\left(2 \\alpha \\right)} + \\sin{\\left(2 \\alpha - 4 \\beta \\right)} + \\sin{\\left(2 \\alpha + 4 \\beta \\right)}\\right)}{16} & \\frac{\\pi \\left(4 \\sin^{2}{\\left(\\alpha \\right)} \\sin^{4}{\\left(\\beta \\right)} - 4 \\sin^{2}{\\left(\\alpha \\right)} \\sin^{2}{\\left(\\beta \\right)} + 1\\right)}{2} & \\frac{\\pi \\left(- \\cos{\\left(\\alpha - 4 \\beta \\right)} + \\cos{\\left(\\alpha + 4 \\beta \\right)}\\right)}{8}\\\\\\frac{\\pi \\left(\\sin{\\left(\\alpha - 4 \\beta \\right)} - \\sin{\\left(\\alpha + 4 \\beta \\right)}\\right)}{8} & \\frac{\\pi \\left(- \\cos{\\left(\\alpha - 4 \\beta \\right)} + \\cos{\\left(\\alpha + 4 \\beta \\right)}\\right)}{8} & \\frac{\\pi \\left(1 - \\cos{\\left(4 \\beta \\right)}\\right)}{4}\\end{matrix}\\right]$"
      ],
      "text/plain": [
       "Matrix([\n",
       "[ pi*(4*sin(beta)**4*cos(alpha)**2 - 4*sin(beta)**2*cos(alpha)**2 + 1)/2, pi*(-2*sin(2*alpha) + sin(2*alpha - 4*beta) + sin(2*alpha + 4*beta))/16,  pi*(sin(alpha - 4*beta) - sin(alpha + 4*beta))/8],\n",
       "[pi*(-2*sin(2*alpha) + sin(2*alpha - 4*beta) + sin(2*alpha + 4*beta))/16,  pi*(4*sin(alpha)**2*sin(beta)**4 - 4*sin(alpha)**2*sin(beta)**2 + 1)/2, pi*(-cos(alpha - 4*beta) + cos(alpha + 4*beta))/8],\n",
       "[                       pi*(sin(alpha - 4*beta) - sin(alpha + 4*beta))/8,                       pi*(-cos(alpha - 4*beta) + cos(alpha + 4*beta))/8,                            pi*(1 - cos(4*beta))/4]])"
      ]
     },
     "execution_count": 14,
     "metadata": {},
     "output_type": "execute_result"
    }
   ],
   "source": [
    "# calculate the first integral\n",
    "iRqRq = iQ - 2*iQD - 2*iDQ + 4 * iDQD\n",
    "iRqRq = sym.simplify(iRqRq)\n",
    "iRqRq"
   ]
  },
  {
   "cell_type": "code",
   "execution_count": 15,
   "id": "b6207bf7-8f02-4124-9ead-498994d5abbf",
   "metadata": {},
   "outputs": [
    {
     "data": {
      "text/latex": [
       "$\\displaystyle \\left[\\begin{matrix}\\frac{\\pi \\left(\\cos{\\left(2 \\alpha \\right)} + 2\\right) \\sin^{2}{\\left(\\beta \\right)}}{8} & \\frac{\\pi \\sin{\\left(\\alpha \\right)} \\sin^{2}{\\left(\\beta \\right)} \\cos{\\left(\\alpha \\right)}}{4} & 0\\\\\\frac{\\pi \\sin{\\left(\\alpha \\right)} \\sin^{2}{\\left(\\beta \\right)} \\cos{\\left(\\alpha \\right)}}{4} & \\frac{\\pi \\left(2 - \\cos{\\left(2 \\alpha \\right)}\\right) \\sin^{2}{\\left(\\beta \\right)}}{8} & 0\\\\0 & 0 & 0\\end{matrix}\\right]$"
      ],
      "text/plain": [
       "Matrix([\n",
       "[   pi*(cos(2*alpha) + 2)*sin(beta)**2/8, pi*sin(alpha)*sin(beta)**2*cos(alpha)/4, 0],\n",
       "[pi*sin(alpha)*sin(beta)**2*cos(alpha)/4,    pi*(2 - cos(2*alpha))*sin(beta)**2/8, 0],\n",
       "[                                      0,                                       0, 0]])"
      ]
     },
     "execution_count": 15,
     "metadata": {},
     "output_type": "execute_result"
    }
   ],
   "source": [
    "# second integral\n",
    "qd2 = ((q.transpose() * d) **2)[0]\n",
    "\n",
    "qd2_Q = qd2 * Q\n",
    "iqd2_Q = sym.integrate(qd2_Q, (theta, 0, sym.pi))\n",
    "iqd2_Q = sym.simplify(iqd2_Q)\n",
    "iqd2_Q"
   ]
  },
  {
   "cell_type": "code",
   "execution_count": 16,
   "id": "1c2eb967-b131-4975-b3cd-e97d4e19006b",
   "metadata": {},
   "outputs": [
    {
     "data": {
      "text/latex": [
       "$\\displaystyle \\left[\\begin{matrix}\\frac{3 \\pi \\sin^{4}{\\left(\\beta \\right)} \\cos^{2}{\\left(\\alpha \\right)}}{8} & \\frac{3 \\pi \\left(1 - \\cos{\\left(2 \\beta \\right)}\\right)^{2} \\sin{\\left(2 \\alpha \\right)}}{64} & \\frac{3 \\pi \\sin^{3}{\\left(\\beta \\right)} \\cos{\\left(\\alpha \\right)} \\cos{\\left(\\beta \\right)}}{8}\\\\\\frac{3 \\pi \\left(1 - \\cos{\\left(2 \\beta \\right)}\\right)^{2} \\sin{\\left(2 \\alpha \\right)}}{64} & \\frac{3 \\pi \\sin^{2}{\\left(\\alpha \\right)} \\sin^{4}{\\left(\\beta \\right)}}{8} & \\frac{3 \\pi \\sin{\\left(\\alpha \\right)} \\sin^{3}{\\left(\\beta \\right)} \\cos{\\left(\\beta \\right)}}{8}\\\\0 & 0 & 0\\end{matrix}\\right]$"
      ],
      "text/plain": [
       "Matrix([\n",
       "[        3*pi*sin(beta)**4*cos(alpha)**2/8, 3*pi*(1 - cos(2*beta))**2*sin(2*alpha)/64, 3*pi*sin(beta)**3*cos(alpha)*cos(beta)/8],\n",
       "[3*pi*(1 - cos(2*beta))**2*sin(2*alpha)/64,         3*pi*sin(alpha)**2*sin(beta)**4/8, 3*pi*sin(alpha)*sin(beta)**3*cos(beta)/8],\n",
       "[                                        0,                                         0,                                        0]])"
      ]
     },
     "execution_count": 16,
     "metadata": {},
     "output_type": "execute_result"
    }
   ],
   "source": [
    "qd2_QD = qd2 * Q * D\n",
    "iqd2_QD = sym.integrate(qd2_QD, (theta, 0, sym.pi))\n",
    "iqd2_QD = sym.simplify(iqd2_QD)\n",
    "iqd2_QD"
   ]
  },
  {
   "cell_type": "code",
   "execution_count": 17,
   "id": "6670929e-add3-42f1-b902-8dc530e4f2b5",
   "metadata": {},
   "outputs": [
    {
     "data": {
      "text/latex": [
       "$\\displaystyle \\left[\\begin{matrix}\\frac{3 \\pi \\sin^{4}{\\left(\\beta \\right)} \\cos^{2}{\\left(\\alpha \\right)}}{8} & \\frac{3 \\pi \\left(1 - \\cos{\\left(2 \\beta \\right)}\\right)^{2} \\sin{\\left(2 \\alpha \\right)}}{64} & 0\\\\\\frac{3 \\pi \\left(1 - \\cos{\\left(2 \\beta \\right)}\\right)^{2} \\sin{\\left(2 \\alpha \\right)}}{64} & \\frac{3 \\pi \\sin^{2}{\\left(\\alpha \\right)} \\sin^{4}{\\left(\\beta \\right)}}{8} & 0\\\\\\frac{3 \\pi \\sin^{3}{\\left(\\beta \\right)} \\cos{\\left(\\alpha \\right)} \\cos{\\left(\\beta \\right)}}{8} & \\frac{3 \\pi \\sin{\\left(\\alpha \\right)} \\sin^{3}{\\left(\\beta \\right)} \\cos{\\left(\\beta \\right)}}{8} & 0\\end{matrix}\\right]$"
      ],
      "text/plain": [
       "Matrix([\n",
       "[        3*pi*sin(beta)**4*cos(alpha)**2/8, 3*pi*(1 - cos(2*beta))**2*sin(2*alpha)/64, 0],\n",
       "[3*pi*(1 - cos(2*beta))**2*sin(2*alpha)/64,         3*pi*sin(alpha)**2*sin(beta)**4/8, 0],\n",
       "[ 3*pi*sin(beta)**3*cos(alpha)*cos(beta)/8,  3*pi*sin(alpha)*sin(beta)**3*cos(beta)/8, 0]])"
      ]
     },
     "execution_count": 17,
     "metadata": {},
     "output_type": "execute_result"
    }
   ],
   "source": [
    "qd2_DQ = qd2 * D * Q\n",
    "iqd2_DQ = sym.integrate(qd2_DQ, (theta, 0, sym.pi))\n",
    "iqd2_DQ = sym.simplify(iqd2_DQ)\n",
    "iqd2_DQ"
   ]
  },
  {
   "cell_type": "code",
   "execution_count": 18,
   "id": "7a6c8131-604f-4a44-8122-09c5ddf6c26b",
   "metadata": {},
   "outputs": [
    {
     "data": {
      "text/latex": [
       "$\\displaystyle \\left[\\begin{matrix}\\frac{3 \\pi \\sin^{6}{\\left(\\beta \\right)} \\cos^{2}{\\left(\\alpha \\right)}}{8} & \\frac{3 \\pi \\left(1 - \\cos{\\left(2 \\beta \\right)}\\right)^{3} \\sin{\\left(2 \\alpha \\right)}}{128} & \\frac{3 \\pi \\sin^{5}{\\left(\\beta \\right)} \\cos{\\left(\\alpha \\right)} \\cos{\\left(\\beta \\right)}}{8}\\\\\\frac{3 \\pi \\left(1 - \\cos{\\left(2 \\beta \\right)}\\right)^{3} \\sin{\\left(2 \\alpha \\right)}}{128} & \\frac{3 \\pi \\sin^{2}{\\left(\\alpha \\right)} \\sin^{6}{\\left(\\beta \\right)}}{8} & \\frac{3 \\pi \\sin{\\left(\\alpha \\right)} \\sin^{5}{\\left(\\beta \\right)} \\cos{\\left(\\beta \\right)}}{8}\\\\\\frac{3 \\pi \\sin^{5}{\\left(\\beta \\right)} \\cos{\\left(\\alpha \\right)} \\cos{\\left(\\beta \\right)}}{8} & \\frac{3 \\pi \\sin{\\left(\\alpha \\right)} \\sin^{5}{\\left(\\beta \\right)} \\cos{\\left(\\beta \\right)}}{8} & \\frac{3 \\pi \\sin^{4}{\\left(\\beta \\right)} \\cos^{2}{\\left(\\beta \\right)}}{8}\\end{matrix}\\right]$"
      ],
      "text/plain": [
       "Matrix([\n",
       "[         3*pi*sin(beta)**6*cos(alpha)**2/8, 3*pi*(1 - cos(2*beta))**3*sin(2*alpha)/128, 3*pi*sin(beta)**5*cos(alpha)*cos(beta)/8],\n",
       "[3*pi*(1 - cos(2*beta))**3*sin(2*alpha)/128,          3*pi*sin(alpha)**2*sin(beta)**6/8, 3*pi*sin(alpha)*sin(beta)**5*cos(beta)/8],\n",
       "[  3*pi*sin(beta)**5*cos(alpha)*cos(beta)/8,   3*pi*sin(alpha)*sin(beta)**5*cos(beta)/8,         3*pi*sin(beta)**4*cos(beta)**2/8]])"
      ]
     },
     "execution_count": 18,
     "metadata": {},
     "output_type": "execute_result"
    }
   ],
   "source": [
    "qd2_DQD = qd2 * D * Q * D\n",
    "iqd2_DQD = sym.integrate(qd2_DQD, (theta, 0, sym.pi))\n",
    "iqd2_DQD = sym.simplify(iqd2_DQD)\n",
    "iqd2_DQD"
   ]
  },
  {
   "cell_type": "code",
   "execution_count": 19,
   "id": "de4ce5cd-fe9b-4dda-b63c-1132a93dab67",
   "metadata": {},
   "outputs": [
    {
     "data": {
      "text/latex": [
       "$\\displaystyle \\left[\\begin{matrix}\\frac{\\pi \\left(12 \\sin^{4}{\\left(\\beta \\right)} \\cos^{2}{\\left(\\alpha \\right)} - 12 \\sin^{2}{\\left(\\beta \\right)} \\cos^{2}{\\left(\\alpha \\right)} + \\cos{\\left(2 \\alpha \\right)} + 2\\right) \\sin^{2}{\\left(\\beta \\right)}}{8} & \\frac{\\pi \\left(6 \\sin^{4}{\\left(\\beta \\right)} - 6 \\sin^{2}{\\left(\\beta \\right)} + 1\\right) \\sin{\\left(\\alpha \\right)} \\sin^{2}{\\left(\\beta \\right)} \\cos{\\left(\\alpha \\right)}}{4} & - \\frac{3 \\pi \\sin^{3}{\\left(\\beta \\right)} \\cos{\\left(\\alpha \\right)} \\cos{\\left(\\beta \\right)} \\cos{\\left(2 \\beta \\right)}}{4}\\\\\\frac{\\pi \\left(6 \\sin^{4}{\\left(\\beta \\right)} - 6 \\sin^{2}{\\left(\\beta \\right)} + 1\\right) \\sin{\\left(\\alpha \\right)} \\sin^{2}{\\left(\\beta \\right)} \\cos{\\left(\\alpha \\right)}}{4} & \\frac{\\pi \\left(12 \\sin^{2}{\\left(\\alpha \\right)} \\sin^{4}{\\left(\\beta \\right)} - 12 \\sin^{2}{\\left(\\alpha \\right)} \\sin^{2}{\\left(\\beta \\right)} - \\cos{\\left(2 \\alpha \\right)} + 2\\right) \\sin^{2}{\\left(\\beta \\right)}}{8} & - \\frac{3 \\pi \\sin{\\left(\\alpha \\right)} \\sin^{3}{\\left(\\beta \\right)} \\cos{\\left(\\beta \\right)} \\cos{\\left(2 \\beta \\right)}}{4}\\\\- \\frac{3 \\pi \\sin^{3}{\\left(\\beta \\right)} \\cos{\\left(\\alpha \\right)} \\cos{\\left(\\beta \\right)} \\cos{\\left(2 \\beta \\right)}}{4} & - \\frac{3 \\pi \\sin{\\left(\\alpha \\right)} \\sin^{3}{\\left(\\beta \\right)} \\cos{\\left(\\beta \\right)} \\cos{\\left(2 \\beta \\right)}}{4} & \\frac{3 \\pi \\sin^{4}{\\left(\\beta \\right)} \\cos^{2}{\\left(\\beta \\right)}}{2}\\end{matrix}\\right]$"
      ],
      "text/plain": [
       "Matrix([\n",
       "[pi*(12*sin(beta)**4*cos(alpha)**2 - 12*sin(beta)**2*cos(alpha)**2 + cos(2*alpha) + 2)*sin(beta)**2/8,                        pi*(6*sin(beta)**4 - 6*sin(beta)**2 + 1)*sin(alpha)*sin(beta)**2*cos(alpha)/4, -3*pi*sin(beta)**3*cos(alpha)*cos(beta)*cos(2*beta)/4],\n",
       "[                       pi*(6*sin(beta)**4 - 6*sin(beta)**2 + 1)*sin(alpha)*sin(beta)**2*cos(alpha)/4, pi*(12*sin(alpha)**2*sin(beta)**4 - 12*sin(alpha)**2*sin(beta)**2 - cos(2*alpha) + 2)*sin(beta)**2/8, -3*pi*sin(alpha)*sin(beta)**3*cos(beta)*cos(2*beta)/4],\n",
       "[                                               -3*pi*sin(beta)**3*cos(alpha)*cos(beta)*cos(2*beta)/4,                                                -3*pi*sin(alpha)*sin(beta)**3*cos(beta)*cos(2*beta)/4,                      3*pi*sin(beta)**4*cos(beta)**2/2]])"
      ]
     },
     "execution_count": 19,
     "metadata": {},
     "output_type": "execute_result"
    }
   ],
   "source": [
    "iqd2_RqRq = iqd2_Q - 2 * iqd2_QD - 2 * iqd2_DQ + 4 * iqd2_DQD\n",
    "iqd2_RqRq = sym.simplify(iqd2_RqRq)\n",
    "iqd2_RqRq"
   ]
  },
  {
   "cell_type": "code",
   "execution_count": 22,
   "id": "ebefbfec-1aac-4e49-9792-adbe8220dfe2",
   "metadata": {},
   "outputs": [
    {
     "data": {
      "text/latex": [
       "$\\displaystyle \\left[\\begin{matrix}\\frac{\\pi \\left(28 \\left(1 - \\cos^{2}{\\left(\\beta \\right)}\\right)^{2} \\cos^{2}{\\left(\\alpha \\right)} - 12 \\sin^{6}{\\left(\\beta \\right)} \\cos^{2}{\\left(\\alpha \\right)} + 18 \\cos^{2}{\\left(\\alpha \\right)} \\cos^{2}{\\left(\\beta \\right)} - 18 \\cos^{2}{\\left(\\alpha \\right)} + \\cos^{2}{\\left(\\beta \\right)} + 3\\right)}{8} & \\frac{\\pi \\left(- 6 \\sin^{4}{\\left(\\beta \\right)} + 14 \\sin^{2}{\\left(\\beta \\right)} - 9\\right) \\sin{\\left(\\alpha \\right)} \\sin^{2}{\\left(\\beta \\right)} \\cos{\\left(\\alpha \\right)}}{4} & \\frac{\\pi \\left(- 6 \\cos^{4}{\\left(\\beta \\right)} + \\cos^{2}{\\left(\\beta \\right)} + 1\\right) \\sin{\\left(\\beta \\right)} \\cos{\\left(\\alpha \\right)} \\cos{\\left(\\beta \\right)}}{4}\\\\\\frac{\\pi \\left(- 6 \\sin^{4}{\\left(\\beta \\right)} + 14 \\sin^{2}{\\left(\\beta \\right)} - 9\\right) \\sin{\\left(\\alpha \\right)} \\sin^{2}{\\left(\\beta \\right)} \\cos{\\left(\\alpha \\right)}}{4} & \\frac{\\pi \\left(- 12 \\sin^{2}{\\left(\\alpha \\right)} \\sin^{6}{\\left(\\beta \\right)} + 28 \\sin^{2}{\\left(\\alpha \\right)} \\sin^{4}{\\left(\\beta \\right)} - 18 \\sin^{2}{\\left(\\alpha \\right)} \\sin^{2}{\\left(\\beta \\right)} - \\sin^{2}{\\left(\\beta \\right)} + 4\\right)}{8} & \\frac{\\pi \\left(- 6 \\cos^{4}{\\left(\\beta \\right)} + \\cos^{2}{\\left(\\beta \\right)} + 1\\right) \\sin{\\left(\\alpha \\right)} \\sin{\\left(\\beta \\right)} \\cos{\\left(\\beta \\right)}}{4}\\\\\\frac{\\pi \\left(- 6 \\cos^{4}{\\left(\\beta \\right)} + \\cos^{2}{\\left(\\beta \\right)} + 1\\right) \\sin{\\left(\\beta \\right)} \\cos{\\left(\\alpha \\right)} \\cos{\\left(\\beta \\right)}}{4} & \\frac{\\pi \\left(- 6 \\cos^{4}{\\left(\\beta \\right)} + \\cos^{2}{\\left(\\beta \\right)} + 1\\right) \\sin{\\left(\\alpha \\right)} \\sin{\\left(\\beta \\right)} \\cos{\\left(\\beta \\right)}}{4} & \\frac{\\pi \\left(- 6 \\sin^{4}{\\left(\\beta \\right)} \\cos^{2}{\\left(\\beta \\right)} - \\cos{\\left(4 \\beta \\right)} + 1\\right)}{4}\\end{matrix}\\right]$"
      ],
      "text/plain": [
       "Matrix([\n",
       "[pi*(28*(1 - cos(beta)**2)**2*cos(alpha)**2 - 12*sin(beta)**6*cos(alpha)**2 + 18*cos(alpha)**2*cos(beta)**2 - 18*cos(alpha)**2 + cos(beta)**2 + 3)/8,                                          pi*(-6*sin(beta)**4 + 14*sin(beta)**2 - 9)*sin(alpha)*sin(beta)**2*cos(alpha)/4, pi*(-6*cos(beta)**4 + cos(beta)**2 + 1)*sin(beta)*cos(alpha)*cos(beta)/4],\n",
       "[                                                                    pi*(-6*sin(beta)**4 + 14*sin(beta)**2 - 9)*sin(alpha)*sin(beta)**2*cos(alpha)/4, pi*(-12*sin(alpha)**2*sin(beta)**6 + 28*sin(alpha)**2*sin(beta)**4 - 18*sin(alpha)**2*sin(beta)**2 - sin(beta)**2 + 4)/8, pi*(-6*cos(beta)**4 + cos(beta)**2 + 1)*sin(alpha)*sin(beta)*cos(beta)/4],\n",
       "[                                                                           pi*(-6*cos(beta)**4 + cos(beta)**2 + 1)*sin(beta)*cos(alpha)*cos(beta)/4,                                                 pi*(-6*cos(beta)**4 + cos(beta)**2 + 1)*sin(alpha)*sin(beta)*cos(beta)/4,                    pi*(-6*sin(beta)**4*cos(beta)**2 - cos(4*beta) + 1)/4]])"
      ]
     },
     "execution_count": 22,
     "metadata": {},
     "output_type": "execute_result"
    }
   ],
   "source": [
    "sym.simplify(iRqRq - iqd2_RqRq)"
   ]
  },
  {
   "cell_type": "code",
   "execution_count": 27,
   "id": "bcfb5ea5-d068-44f5-b739-d5e4a38e82e7",
   "metadata": {},
   "outputs": [
    {
     "data": {
      "text/latex": [
       "$\\displaystyle \\left[\\begin{matrix}- 6 \\sin^{6}{\\left(\\beta \\right)} \\cos^{2}{\\left(\\alpha \\right)} + 14 \\cos^{2}{\\left(\\alpha \\right)} \\cos^{4}{\\left(\\beta \\right)} - 19 \\cos^{2}{\\left(\\alpha \\right)} \\cos^{2}{\\left(\\beta \\right)} + 5 \\cos^{2}{\\left(\\alpha \\right)} + \\frac{\\cos^{2}{\\left(\\beta \\right)}}{2} + \\frac{3}{2} & \\left(- 6 \\sin^{4}{\\left(\\beta \\right)} + 14 \\sin^{2}{\\left(\\beta \\right)} - 9\\right) \\sin{\\left(\\alpha \\right)} \\sin^{2}{\\left(\\beta \\right)} \\cos{\\left(\\alpha \\right)} & \\left(- 6 \\cos^{4}{\\left(\\beta \\right)} + \\cos^{2}{\\left(\\beta \\right)} + 1\\right) \\sin{\\left(\\beta \\right)} \\cos{\\left(\\alpha \\right)} \\cos{\\left(\\beta \\right)}\\\\\\left(- 6 \\sin^{4}{\\left(\\beta \\right)} + 14 \\sin^{2}{\\left(\\beta \\right)} - 9\\right) \\sin{\\left(\\alpha \\right)} \\sin^{2}{\\left(\\beta \\right)} \\cos{\\left(\\alpha \\right)} & - 6 \\sin^{2}{\\left(\\alpha \\right)} \\sin^{6}{\\left(\\beta \\right)} + 14 \\sin^{2}{\\left(\\alpha \\right)} \\sin^{4}{\\left(\\beta \\right)} - 9 \\sin^{2}{\\left(\\alpha \\right)} \\sin^{2}{\\left(\\beta \\right)} - \\frac{\\sin^{2}{\\left(\\beta \\right)}}{2} + 2 & \\left(- 6 \\cos^{4}{\\left(\\beta \\right)} + \\cos^{2}{\\left(\\beta \\right)} + 1\\right) \\sin{\\left(\\alpha \\right)} \\sin{\\left(\\beta \\right)} \\cos{\\left(\\beta \\right)}\\\\\\left(- 6 \\cos^{4}{\\left(\\beta \\right)} + \\cos^{2}{\\left(\\beta \\right)} + 1\\right) \\sin{\\left(\\beta \\right)} \\cos{\\left(\\alpha \\right)} \\cos{\\left(\\beta \\right)} & \\left(- 6 \\cos^{4}{\\left(\\beta \\right)} + \\cos^{2}{\\left(\\beta \\right)} + 1\\right) \\sin{\\left(\\alpha \\right)} \\sin{\\left(\\beta \\right)} \\cos{\\left(\\beta \\right)} & - 6 \\sin^{4}{\\left(\\beta \\right)} \\cos^{2}{\\left(\\beta \\right)} - \\cos{\\left(4 \\beta \\right)} + 1\\end{matrix}\\right]$"
      ],
      "text/plain": [
       "Matrix([\n",
       "[-6*sin(beta)**6*cos(alpha)**2 + 14*cos(alpha)**2*cos(beta)**4 - 19*cos(alpha)**2*cos(beta)**2 + 5*cos(alpha)**2 + cos(beta)**2/2 + 3/2,                                        (-6*sin(beta)**4 + 14*sin(beta)**2 - 9)*sin(alpha)*sin(beta)**2*cos(alpha), (-6*cos(beta)**4 + cos(beta)**2 + 1)*sin(beta)*cos(alpha)*cos(beta)],\n",
       "[                                                            (-6*sin(beta)**4 + 14*sin(beta)**2 - 9)*sin(alpha)*sin(beta)**2*cos(alpha), -6*sin(alpha)**2*sin(beta)**6 + 14*sin(alpha)**2*sin(beta)**4 - 9*sin(alpha)**2*sin(beta)**2 - sin(beta)**2/2 + 2, (-6*cos(beta)**4 + cos(beta)**2 + 1)*sin(alpha)*sin(beta)*cos(beta)],\n",
       "[                                                                   (-6*cos(beta)**4 + cos(beta)**2 + 1)*sin(beta)*cos(alpha)*cos(beta),                                               (-6*cos(beta)**4 + cos(beta)**2 + 1)*sin(alpha)*sin(beta)*cos(beta),                      -6*sin(beta)**4*cos(beta)**2 - cos(4*beta) + 1]])"
      ]
     },
     "execution_count": 27,
     "metadata": {},
     "output_type": "execute_result"
    }
   ],
   "source": [
    "ehem = sym.pi / 4\n",
    "sym.simplify((iRqRq - iqd2_RqRq)/ehem)"
   ]
  },
  {
   "cell_type": "code",
   "execution_count": 29,
   "id": "38526565-9018-479b-900f-ac65deb6c5f5",
   "metadata": {},
   "outputs": [
    {
     "data": {
      "text/latex": [
       "$\\displaystyle \\left[\\begin{matrix}\\frac{\\left(12 \\sin^{4}{\\left(\\beta \\right)} \\cos^{2}{\\left(\\alpha \\right)} - 12 \\sin^{2}{\\left(\\beta \\right)} \\cos^{2}{\\left(\\alpha \\right)} + \\cos{\\left(2 \\alpha \\right)} + 2\\right) \\sin^{2}{\\left(\\beta \\right)}}{2} & \\left(6 \\sin^{4}{\\left(\\beta \\right)} - 6 \\sin^{2}{\\left(\\beta \\right)} + 1\\right) \\sin{\\left(\\alpha \\right)} \\sin^{2}{\\left(\\beta \\right)} \\cos{\\left(\\alpha \\right)} & - 3 \\sin^{3}{\\left(\\beta \\right)} \\cos{\\left(\\alpha \\right)} \\cos{\\left(\\beta \\right)} \\cos{\\left(2 \\beta \\right)}\\\\\\left(6 \\sin^{4}{\\left(\\beta \\right)} - 6 \\sin^{2}{\\left(\\beta \\right)} + 1\\right) \\sin{\\left(\\alpha \\right)} \\sin^{2}{\\left(\\beta \\right)} \\cos{\\left(\\alpha \\right)} & \\frac{\\left(12 \\sin^{2}{\\left(\\alpha \\right)} \\sin^{4}{\\left(\\beta \\right)} - 12 \\sin^{2}{\\left(\\alpha \\right)} \\sin^{2}{\\left(\\beta \\right)} - \\cos{\\left(2 \\alpha \\right)} + 2\\right) \\sin^{2}{\\left(\\beta \\right)}}{2} & - 3 \\sin{\\left(\\alpha \\right)} \\sin^{3}{\\left(\\beta \\right)} \\cos{\\left(\\beta \\right)} \\cos{\\left(2 \\beta \\right)}\\\\- 3 \\sin^{3}{\\left(\\beta \\right)} \\cos{\\left(\\alpha \\right)} \\cos{\\left(\\beta \\right)} \\cos{\\left(2 \\beta \\right)} & - 3 \\sin{\\left(\\alpha \\right)} \\sin^{3}{\\left(\\beta \\right)} \\cos{\\left(\\beta \\right)} \\cos{\\left(2 \\beta \\right)} & 6 \\sin^{4}{\\left(\\beta \\right)} \\cos^{2}{\\left(\\beta \\right)}\\end{matrix}\\right]$"
      ],
      "text/plain": [
       "Matrix([\n",
       "[(12*sin(beta)**4*cos(alpha)**2 - 12*sin(beta)**2*cos(alpha)**2 + cos(2*alpha) + 2)*sin(beta)**2/2,                          (6*sin(beta)**4 - 6*sin(beta)**2 + 1)*sin(alpha)*sin(beta)**2*cos(alpha), -3*sin(beta)**3*cos(alpha)*cos(beta)*cos(2*beta)],\n",
       "[                         (6*sin(beta)**4 - 6*sin(beta)**2 + 1)*sin(alpha)*sin(beta)**2*cos(alpha), (12*sin(alpha)**2*sin(beta)**4 - 12*sin(alpha)**2*sin(beta)**2 - cos(2*alpha) + 2)*sin(beta)**2/2, -3*sin(alpha)*sin(beta)**3*cos(beta)*cos(2*beta)],\n",
       "[                                                 -3*sin(beta)**3*cos(alpha)*cos(beta)*cos(2*beta),                                                  -3*sin(alpha)*sin(beta)**3*cos(beta)*cos(2*beta),                      6*sin(beta)**4*cos(beta)**2]])"
      ]
     },
     "execution_count": 29,
     "metadata": {},
     "output_type": "execute_result"
    }
   ],
   "source": [
    "sym.simplify(iqd2_RqRq / ehem)"
   ]
  },
  {
   "cell_type": "code",
   "execution_count": null,
   "id": "f7d858ce-ae74-4534-9d59-16585ff1bf61",
   "metadata": {},
   "outputs": [],
   "source": []
  }
 ],
 "metadata": {
  "kernelspec": {
   "display_name": "Python 3 (ipykernel)",
   "language": "python",
   "name": "python3"
  },
  "language_info": {
   "codemirror_mode": {
    "name": "ipython",
    "version": 3
   },
   "file_extension": ".py",
   "mimetype": "text/x-python",
   "name": "python",
   "nbconvert_exporter": "python",
   "pygments_lexer": "ipython3",
   "version": "3.11.7"
  }
 },
 "nbformat": 4,
 "nbformat_minor": 5
}
