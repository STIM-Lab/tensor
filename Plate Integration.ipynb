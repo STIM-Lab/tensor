{
 "cells": [
  {
   "cell_type": "markdown",
   "id": "9ddabb78-b8ea-4bf7-9663-3b1374c6fa36",
   "metadata": {},
   "source": [
    "# Plate Tensor Derivation"
   ]
  },
  {
   "cell_type": "markdown",
   "id": "f90f5611-739a-4b05-baae-13f55d737378",
   "metadata": {},
   "source": [
    "The integral for a plate tensor is given by:\n",
    "$$\n",
    "\\mathbf{P}(\\mathbf{v}, \\mathbf{r}, \\sigma) = \\int_{0}^\\pi \\mathbf{S}(\\mathbf{v}, \\mathbf{r}, \\mathbf{q}, \\sigma) \\,d\\beta=  \\eta(\\sigma_1, \\sigma_2, 1) \\int_{0}^\\pi D(\\mathbf{v}, \\mathbf{r}, \\mathbf{q}, \\sigma_1, \\sigma_2, 1) (\\mathbf{R}\\mathbf{q})(\\mathbf{R}\\mathbf{q})^T \\, d\\beta\n",
    "$$"
   ]
  },
  {
   "cell_type": "markdown",
   "id": "9ce2dd17-6491-471b-b33c-2f2d2031dd7c",
   "metadata": {},
   "source": [
    "where\n",
    "$$\n",
    "\\mathbf{d}=\n",
    "\\begin{bmatrix}\n",
    "d_x \\\\\n",
    "d_y \\\\\n",
    "d_z\n",
    "\\end{bmatrix},\n",
    "\\quad\n",
    "\\quad\n",
    "\\mathbf{q}=\n",
    "\\begin{bmatrix}\n",
    "\\cos\\beta \\\\\n",
    "\\sin\\beta \\\\\n",
    "0\n",
    "\\end{bmatrix},\n",
    "\\quad\n",
    "\\quad\n",
    "\\mathbf{R}=\\mathbf{I}-2\\mathbf{d}\\mathbf{d}^T\n",
    "$$\n",
    "We focus on the integral:\n",
    "$$\n",
    "\\int_{0}^\\pi D(\\mathbf{v}, \\mathbf{r}, \\mathbf{q}, \\sigma_1, \\sigma_2, 1) (\\mathbf{R}\\mathbf{q})(\\mathbf{R}\\mathbf{q})^T \\, d\\beta= e^{-\\frac{\\ell^2}{\\sigma_1^2}}\\int_0^\\pi  \\left(1 - \\left(\\mathbf{q}^T\\mathbf{d}\\right)^2\\right)^p (\\mathbf{R}\\mathbf{q})(\\mathbf{R}\\mathbf{q})^T \\, d\\beta + e^{-\\frac{\\ell^2}{\\sigma_2^2}}\\int_0^\\pi \\left(\\mathbf{q}^T\\mathbf{d}\\right)^{2p}(\\mathbf{R}\\mathbf{q})(\\mathbf{R}\\mathbf{q})^T \\, d\\beta\n",
    "$$"
   ]
  },
  {
   "cell_type": "markdown",
   "id": "1fd77a64-2653-45d4-bfd6-4de97a230be9",
   "metadata": {},
   "source": [
    "To be able to compute the integral with the refinement term *p*, I decided to remove another part of the calculations by rotating the coordinates so that $\\mathbf{d}$ lies entirely in the $\\mathbf{x}$-axis. To do so, I found the projection of $\\mathbf{d}$ in the $\\mathbf{xy}$-plane (including length and angle). In case of rotatation around the $\\mathbf{z}$-axis by $\\mathbf{-\\phi}$ degree, we need to apply $\\mathbf{R_z(-\\phi)}$:\n",
    "\n",
    "$$\n",
    "\\alpha = \\sqrt{d_x^2+d_y^2},\n",
    "\\quad\n",
    "\\quad\n",
    "\\phi = \\arctan(d_y, d_x), \n",
    "\\quad\n",
    "\\quad\n",
    "\\mathbf{R_z(-\\phi)} = \n",
    "\\begin{bmatrix}\n",
    "\\cos{\\phi} & \\sin{\\phi} & 0 \\\\\n",
    "-\\sin{\\phi} & \\cos{\\phi} & 0 \\\\\n",
    "0 & 0 & 1\n",
    "\\end{bmatrix}\n",
    "$$"
   ]
  },
  {
   "cell_type": "markdown",
   "id": "11687293-7558-466d-b256-9f3d3043186b",
   "metadata": {},
   "source": [
    "This will create a new set of variables that have been rotated by $\\mathbf{-\\phi}$ around the $\\mathbf{z}$-axis:\n",
    "\n",
    "$$\n",
    "\\beta \\mapsto \\beta' = \\beta - \\phi\n",
    "\\quad\n",
    "\\quad\n",
    "d \\mapsto d' = \\mathbf{R_z(-\\phi)}d = \\begin{bmatrix}\n",
    "\\alpha \\\\\n",
    "0 \\\\\n",
    "d_z\n",
    "\\end{bmatrix},\n",
    "\\quad\n",
    "\\quad\n",
    "q \\mapsto q' = \\mathbf{R_z(-\\phi)}q = \\begin{bmatrix}\n",
    "\\cos{\\beta'} \\\\\n",
    "\\sin{\\beta'} \\\\\n",
    "0\n",
    "\\end{bmatrix}\n",
    "$$\n",
    "\n",
    "where $\\alpha$ is $\\sqrt{d_x^2+d_y^2}$."
   ]
  },
  {
   "cell_type": "markdown",
   "id": "45880557-937f-4bdc-866a-da12d92cecbf",
   "metadata": {},
   "source": [
    "Now, based on these variables, we can calculate the new ones from the previous notebook:\n",
    "\n",
    "$$\n",
    "\\mathbf{q'}^T\\mathbf{d'} = \\alpha\\cos{\\beta'},\n",
    "\\quad\n",
    "\\quad\n",
    "\\mathbf{D'}=\n",
    "\\begin{bmatrix}\n",
    "\\alpha^2 & 0 & \\alpha d_z \\\\\n",
    "0 & 0 & 0 \\\\\n",
    "\\alpha d_z & 0 & d_z^2\n",
    "\\end{bmatrix}\n",
    "\\quad\n",
    "\\quad\n",
    "\\mathbf{Q'}=\n",
    "\\begin{bmatrix}\n",
    "\\cos^2(\\beta') & \\cos(\\beta')\\sin(\\beta') & 0\\\\\n",
    "\\cos(\\beta')\\sin(\\beta') & \\sin^2(\\beta') & 0\\\\\n",
    "0 & 0 & 0\n",
    "\\end{bmatrix}\n",
    "$$"
   ]
  },
  {
   "cell_type": "markdown",
   "id": "33019f38-2ae4-4e8c-ac44-d3d8b7dcee2e",
   "metadata": {},
   "source": [
    "We can see that the mutual rotation matrix term will become:\n",
    "\n",
    "$$\n",
    "\\mathbf{R'}\\mathbf{q'} = q' - 2D'q' = \\begin{bmatrix}\n",
    "(1-2\\alpha^2)\\cos{\\beta'} \\\\ \\sin{\\beta'} \\\\ -2 \\alpha d_z \\cos{\\beta'}\n",
    "\\end{bmatrix} \\longrightarrow (\\mathbf{R'}\\mathbf{q'})(\\mathbf{R'}\\mathbf{q'})^T = \\left[(I-2d'd'^T)q'\\right]\\left[(I-2d'd'^T)q'\\right]^T \n",
    "$$\n",
    "\n",
    "$$\n",
    "\\Rightarrow (\\mathbf{R'}\\mathbf{q'})(\\mathbf{R'}\\mathbf{q'})^T = \n",
    "\\begin{bmatrix}\n",
    "\\textcolor{brown}{(1-2\\alpha^2)^2\\cos^2{\\beta'}} & (1-2\\alpha^2)\\cos{\\beta'}\\sin{\\beta'} & \\textcolor{brown}{-(1-2\\alpha^2)2\\alpha d_z \\cos^2{\\beta'}}\\\\ \n",
    "(1-2\\alpha^2)\\cos{\\beta'}\\sin{\\beta'} & \\textcolor{brown}{\\sin^2{\\beta'}} & -2\\alpha d_z \\cos{\\beta'}\\sin{\\beta'}\\\\ \n",
    "\\textcolor{brown}{-(1-2\\alpha^2)2\\alpha d_z \\cos^2{\\beta'}} & -2\\alpha d_z \\cos{\\beta'}\\sin{\\beta'} & \\textcolor{brown}{4\\alpha^2 d_z^2 \\cos^2{\\beta'}}\n",
    "\\end{bmatrix}\n",
    "$$"
   ]
  },
  {
   "cell_type": "markdown",
   "id": "9d964b1d-96b2-44c3-aae6-15d5eaf1518b",
   "metadata": {},
   "source": [
    "Since our integral goes from zero to $\\pi$, we can tell that the off-diagonal terms with an odd factor of $\\cos{\\beta'}$ or $\\sin{\\beta'}$ will integrate to zero. The only components we need to calculate are: $\\mathbf{R'_xx}$, $\\mathbf{R'_yy}$, $\\mathbf{R'_zz}$, and $\\mathbf{R'_xz}/\\mathbf{R'_zx}$."
   ]
  },
  {
   "cell_type": "markdown",
   "id": "2b4b64f6-5f4b-46db-a625-85a762245590",
   "metadata": {},
   "source": [
    "For now, we have the plate tensor as below:\n",
    "\n",
    "$$\n",
    "\\mathbf{P}(\\mathbf{v}, \\mathbf{r}, \\sigma) = e^{-\\frac{\\ell^2}{\\sigma_1^2}}\\textcolor{red}{\\int_0^\\pi  \\left(1 - m\\cos^2{\\beta'}\\right)^p (\\mathbf{R'})\\, d\\beta'} + e^{-\\frac{\\ell^2}{\\sigma_2^2}} \\textcolor{blue}{\\int_0^\\pi m^p \\cos^{2p}{\\beta'}(\\mathbf{R'}) \\, d\\beta'}\n",
    "\\quad\n",
    "\\quad\n",
    "\\quad\n",
    "\\longrightarrow \\quad m = \\alpha^2\n",
    "$$"
   ]
  },
  {
   "cell_type": "markdown",
   "id": "efbf74d6-ed42-4212-aa4e-5474db52cda9",
   "metadata": {},
   "source": [
    "###  <font color=\"red\">First Integral </font>\n",
    "So the four rotation components will be:\n",
    "\n",
    "$$\\begin{aligned}\n",
    "\\mathbf{R'_xx} &= \\int_0^\\pi  \\left(1 - m\\cos^2{\\beta'}\\right)^p \\times  (1 - 2m)^2 \\cos^2{\\beta'} \\, d\\beta' \\\\\n",
    "\\mathbf{R'_yy} &= \\int_0^\\pi  \\left(1 - m\\cos^2{\\beta'}\\right)^p \\times  \\sin^2{\\beta'} \\, d\\beta' \\\\\n",
    "\\mathbf{R'_zz} &= \\int_0^\\pi  \\left(1 - m\\cos^2{\\beta'}\\right)^p \\times  4\\alpha^2 d_z^2 \\cos^2{\\beta'} \\, d\\beta' \\\\\n",
    "\\mathbf{R'_zx} &= \\mathbf{R'_xz} = -2\\alpha d_z (1-2m) \\int_0^\\pi  \\left(1 - m\\cos^2{\\beta'}\\right)^p \\times \\cos^2{\\beta'} \\, d\\beta'\n",
    "\\end{aligned}$$\n",
    "\n",
    "If we define two sets of integrals, we can simplify the above terms:\n",
    "$$\n",
    "\\mathbf{J_0} = \\int_0^\\pi  \\left(1 - m\\cos^2{\\beta'}\\right)^p \\, d\\beta,\n",
    "\\quad\n",
    "\\quad\n",
    "\\mathbf{J_1} = \\int_0^\\pi  \\left(1 - m\\cos^2{\\beta'}\\right)^p \\cos^2{\\beta'} \\, d\\beta,\n",
    "$$"
   ]
  },
  {
   "cell_type": "markdown",
   "id": "507c7b06-08f9-4f00-b525-b643cf6dc877",
   "metadata": {},
   "source": [
    "Therefore, we have:\n",
    "$$\\begin{aligned}\n",
    "\\mathbf{R'_xx} &= (1 - 2m)^2 \\mathbf{J_1} \\\\\n",
    "\\mathbf{R'_yy} &= \\mathbf{J_0} - \\mathbf{J_1} \\\\\n",
    "\\mathbf{R'_zz} &= 4m d_z^2 \\mathbf{J_1} \\\\\n",
    "\\mathbf{R'_zx} &= \\mathbf{R'_xz} = -2\\alpha d_z (1-2m) \\mathbf{J_1} = \\frac{-2\\alpha d_z}{1-2m} \\mathbf{R'_xx}\n",
    "\\end{aligned}$$"
   ]
  },
  {
   "cell_type": "markdown",
   "id": "8af9d8ad-a71f-4126-aa66-ef6209701f21",
   "metadata": {},
   "source": [
    "Calculating $\\mathbf{J_1}$ and $\\mathbf{J_1}$ are the tricky part. I found out that with small modification, this integral will become similar to the **Gauss's Hypergeometric function** depicted below:\n",
    "$$\n",
    "_2F_1(a, b;c;z) = \\frac{1}{B(b, c-b)} \\int_0^1  x^{b-1}(1-x)^{c-b-1}(1-zx)^{-a}\\, dx\n",
    "$$\n",
    "\n",
    "where $B(x, y)$ is the **Beta function** and $\\Gamma(x)$ is the **Gamma function**.\n",
    "$$\n",
    "B(x, y) = \\int_0^1  t^{x-1}(1-t)^{y-1}\\, dt = \\frac{\\Gamma(x)\\Gamma(y)}{\\Gamma(x+y)},\n",
    "\\quad\n",
    "\\quad\n",
    "\\Gamma(x) = \\int_0^\\inf  t^{x-1}e^{-t}\\, dt\n",
    "$$"
   ]
  },
  {
   "cell_type": "markdown",
   "id": "ecd397cb-fb98-40be-b233-feb4eee3c93f",
   "metadata": {},
   "source": [
    "### Converting to Hypergeometric Function\n",
    "Since both $\\mathbf{J_0}$ and $\\mathbf{J_1}$ are symmetrical, we can fold them so the integral goes from zero to $\\frac{\\pi}{2}$. I then used a simple substitution to make the integral go from zero to one.\n",
    "$$\\begin{aligned}\n",
    "u &= \\sin^2{\\beta'} \\quad \\Rightarrow \\quad \\cos^2{\\beta'} = 1 - u\n",
    "\\\\\n",
    "d\\beta' &= \\frac{du}{2\\sqrt{u(1-u)}}\\end{aligned}\n",
    "$$\n",
    "\n",
    "The new $\\mathbf{J_0}$ and $\\mathbf{J_1}$ integrals are:\n",
    "$$\\begin{aligned}\n",
    "\\mathbf{J_0} &= \\int_0^1  u^{-0.5}(1-u)^{-0.5}(1-m(1-u))^p\\, du\n",
    "\\quad \\longrightarrow \\quad\n",
    "B(0.5, 0.5) _2F_1(-p, 0.5; 1; m)\n",
    "\\\\\n",
    "\\mathbf{J_1} &= \\int_0^1  u^{-0.5}(1-u)^{0.5}(1-m(1-u))^p\\, du\n",
    "\\quad \\longrightarrow \\quad\n",
    "B(1.5, 0.5) _2F_1(-p, 1.5; 2; m)\n",
    "\\end{aligned}$$\n",
    "\n",
    "Which is\n",
    "$$\\begin{aligned}\n",
    "\\mathbf{J_0} &= \\pi {_2F_1(-p, 0.5; 1; m)}\n",
    "\\\\\n",
    "\\mathbf{J_1} &= \\frac{\\pi}{2} {_2F_1(-p, 1.5; 2; m)}\n",
    "\\end{aligned}$$\n",
    "\n",
    "The above two Hypergeometric functions will be calculated using sympy!"
   ]
  },
  {
   "cell_type": "markdown",
   "id": "a4f2ce49-f8c9-4398-919f-72c04f275fc6",
   "metadata": {},
   "source": []
  },
  {
   "cell_type": "code",
   "execution_count": null,
   "id": "b9a72a37-378b-4e85-b435-84e7c1345ac6",
   "metadata": {},
   "outputs": [],
   "source": []
  }
 ],
 "metadata": {
  "kernelspec": {
   "display_name": "Python 3 (ipykernel)",
   "language": "python",
   "name": "python3"
  },
  "language_info": {
   "codemirror_mode": {
    "name": "ipython",
    "version": 3
   },
   "file_extension": ".py",
   "mimetype": "text/x-python",
   "name": "python",
   "nbconvert_exporter": "python",
   "pygments_lexer": "ipython3",
   "version": "3.12.2"
  }
 },
 "nbformat": 4,
 "nbformat_minor": 5
}
