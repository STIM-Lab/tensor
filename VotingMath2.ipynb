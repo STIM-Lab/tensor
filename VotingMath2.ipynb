{
 "cells": [
  {
   "cell_type": "markdown",
   "id": "990435d2-b579-458e-b1d7-439dc233e8a3",
   "metadata": {},
   "source": [
    "## 2D Tensor Voting\n",
    "\n",
    "$$\n",
    "\\mathbf{V}=\\text{sign}(\\lambda_1)(\\left|\\lambda_1\\right| - \\left|\\lambda_0\\right|) \\mathbf{S}(\\mathbf{v}, \\mathbf{r}, \\theta, \\boldsymbol\\sigma) + \\lambda_0 \\mathbf{P}(\\mathbf{v}, \\mathbf{r}, \\boldsymbol\\sigma)\n",
    "$$\n",
    "Where:\n",
    "* $\\mathbf{V}\\in \\mathbb{R}^{2\\times 2}$ is the tensor result after voting\n",
    "* $\\mathbf{S}\\in \\mathbb{R}^{2\\times 2}$ is the result of stick tensor voting\n",
    "* $\\mathbf{P}\\in \\mathbb{R}^{2\\times 2}$ is the result of plate tensor voting\n",
    "* $\\theta$ is the orientation of the eigenvector associated with the largest eigenvalue\n",
    "* $\\mathbf{v}\\in \\mathbb{R}^{2}$ is the voter position and $\\mathbf{r}\\in \\mathbb{R}^{2}$ is the receiver position\n",
    "* $\\boldsymbol\\sigma \\in \\mathbb{R}^2$ is the attenuation factor along each eigenvector\n",
    "* $\\lambda_0$ is the small eigenvalue and $\\lambda_1$ is the large eigenvalue of the voter tensor"
   ]
  },
  {
   "cell_type": "markdown",
   "id": "f679d464-4fa1-4950-a329-3072660c6bea",
   "metadata": {},
   "source": [
    "## Stick Tensor\n",
    "The un-normalized stick tensor voting field is given by:\n",
    "$$\n",
    "\\bar{\\mathbf{S}}(\\mathbf{v}, \\mathbf{r}, \\theta, \\boldsymbol\\sigma) = D(\\mathbf{v}, \\mathbf{r}, \\theta, \\boldsymbol\\sigma, p) (\\mathbf{R}\\mathbf{q})(\\mathbf{R}\\mathbf{q})^T\n",
    "$$\n",
    "where $\\mathbf{R}$ is a rotation matrix specifying the orientation of the receiver relative to the voter:\n",
    "$$\n",
    "\\mathbf{R} = \\mathbf{I} - 2\\mathbf{d}\\mathbf{d}^T\n",
    "$$\n",
    "where $\\mathbf{d} = \\frac{\\mathbf{v} - \\mathbf{r}}{\\ell}$ is the direction from the voter to receiver and $\\ell = ||\\mathbf{v} - \\mathbf{r}||$ is the distance. The eigenvector $\\mathbf{q}$ is the unit vector:\n",
    "$$\n",
    "\\mathbf{q} = \\begin{bmatrix} \\cos \\theta \\\\ \\sin \\theta \\end{bmatrix}\n",
    "$$\n",
    "We introduce a normalization term $\\eta_s$ to ensure that the integral of the stick field is unity:\n",
    "$$\n",
    "\\mathbf{S}(\\mathbf{v}, \\mathbf{r}, \\theta, \\boldsymbol\\sigma) = \\eta_s(\\boldsymbol\\sigma, p) \\bar{\\mathbf{S}}(\\mathbf{v}, \\mathbf{r}, \\theta, \\boldsymbol\\sigma)\n",
    "$$\n",
    "\n",
    "In the case where the voter and receiver are identical ($\\ell = 0$), we assume that $\\mathbf{d}=0$. Under this assumption, the voter contributes to itself based on the magnitude of $\\sigma_1$."
   ]
  },
  {
   "cell_type": "markdown",
   "id": "62f16926-e673-46a8-ba3e-ba8bcdbe4d10",
   "metadata": {},
   "source": [
    "### Decay Function\n",
    "The decay function describes magnitude of the vote at the receiver:\n",
    "$$\n",
    "D(\\mathbf{v}, \\mathbf{r}, \\mathbf{q}, \\boldsymbol\\sigma, p)=e^{-\\frac{\\ell^2}{\\sigma_1^2}}\\left[ 1 - (\\mathbf{q}^T\\mathbf{d})^2 \\right]^p + e^{-\\frac{\\ell^2}{\\sigma_2^2}}(\\mathbf{q}^T\\mathbf{d})^{2p}\n",
    "$$\n",
    "where\n",
    "* $\\sigma_1$ is the standard deviation of the decay orthogonal to $\\mathbf{q}$\n",
    "* $\\sigma_2$ is the standard deviation of the decay in the direction of $\\mathbf{q}$\n",
    "* $p$ is a refinement term that specifies the *spread* of the vote\n",
    "\n",
    "<!--Alternatively, the decay function may be represented using trigonometric functions:\n",
    "$$\n",
    "D(\\phi, \\ell, \\boldsymbol\\sigma, p)=e^{-\\frac{\\ell^2}{\\sigma_1^2}} \\sin^{2p} \\phi + e^{-\\frac{\\ell^2}{\\sigma_2^{2}}}\\cos^{2p}\\phi\n",
    "$$\n",
    "where $\\phi=\\cos^{-1}\\left(\\mathbf{q}^T\\mathbf{d}\\right)$.--!>"
   ]
  },
  {
   "cell_type": "markdown",
   "id": "7534c1f5-3925-4618-a86b-c70207887c51",
   "metadata": {},
   "source": [
    "### Normalization Term\n",
    "The normalization term ensures that the integral of the plate tensor voting field is 1, and therefore no additional energy is added or taken away from the image:\n",
    "$$\n",
    "\\eta_s(\\boldsymbol\\sigma, p) = \\left[ \\frac{\\pi(2p)!}{2^{2p}(p!)^2}\\left(\\sigma_1^2 + \\sigma_2^2\\right) \\right]^{-1}\n",
    "$$"
   ]
  },
  {
   "cell_type": "markdown",
   "id": "7568a071-e1d6-4675-9edb-899fbce34f7b",
   "metadata": {},
   "source": [
    "## Plate Tensor\n",
    "The plate tensor vote field is calculated by integrating the stick tensor across all angles of the eigenvector $\\mathbf{q}$:\n",
    "$$\n",
    "\\bar{\\mathbf{P}}(\\mathbf{v}, \\mathbf{r}, \\boldsymbol\\sigma) = \\int_0^\\pi \\bar{\\mathbf{S}}(\\mathbf{v}, \\mathbf{r}, \\theta, \\boldsymbol\\sigma)d\\theta\n",
    "$$"
   ]
  },
  {
   "cell_type": "markdown",
   "id": "0ca083d5-a379-4bc1-930b-b9ed3d853c94",
   "metadata": {},
   "source": [
    "## Plate Tensor\n",
    "The plate tensor vote field is calculated by integrating the stick tensor across all angles of the eigenvector $\\mathbf{q}$:\n",
    "$$\n",
    "\\mathbf{P}(\\mathbf{v}, \\mathbf{r}, \\boldsymbol\\sigma) = \\frac{1}{\\pi(\\sigma_1^2 + \\sigma_2^2)}   \\left(e^{-\\frac{\\ell^2}{\\sigma_1^2}}\\left(\\mathbf{I} - \\frac{1}{4}\n",
    "\\mathbf{M}\n",
    "\\right) + e^{-\\frac{\\ell^2}{\\sigma_2^2}}\\frac{1}{4}\n",
    "\\mathbf{M}\n",
    "\\right)\n",
    "$$\n",
    "where $\\alpha = \\tan^{-1}\\frac{d_y}{d_x}$ and\n",
    "$$\n",
    "\\mathbf{M} = \n",
    "\\begin{bmatrix}\n",
    "\\cos(2\\alpha)+2 & \\sin(2\\alpha)\\\\\n",
    "\\sin(2\\alpha) & 2 - \\cos(2\\alpha)\n",
    "\\end{bmatrix}\n",
    "$$"
   ]
  },
  {
   "cell_type": "markdown",
   "id": "97ce941f-5b02-4937-b01f-1b212c016953",
   "metadata": {},
   "source": [
    "---"
   ]
  },
  {
   "cell_type": "markdown",
   "id": "de1d1c96-d896-4c38-81e4-be434edfca60",
   "metadata": {},
   "source": [
    "## Stick Normalization Derivation\n",
    "The normalization factor $\\eta$ scales the decay function by the inverse of its integral:\n",
    "$$\n",
    "\\eta(\\sigma_1, \\sigma_2, p) = \\int_0^\\infty \\int_0^{2\\pi} D(\\mathbf{v}, \\mathbf{r}, \\mathbf{q}, \\sigma_1, \\sigma_2, p)\\ell \\, d\\theta \\, d\\ell\n",
    "$$\n",
    "This term can be readily calculated using the trigonometric representation of $D$ and evaluating the double integral in polar coordinates:\n",
    "$$\n",
    "\\int_0^\\infty \\int_0^{2\\pi} D(\\theta, \\ell, \\sigma_1, \\sigma_2)\\ell \\, d\\theta \\, d\\ell = \\int_0^\\infty\\int_0^{2\\pi} \\left[e^{-\\frac{\\ell^2}{\\sigma_1^2}} \\sin^{2p} \\theta + e^{-\\frac{\\ell^2}{\\sigma_2^{2}}}\\cos^{2p}\\theta\\right]\\ell \\, d\\theta \\, d\\ell\n",
    "$$\n",
    "Separating the variables, we get the following definite integrals:\n",
    "$$\n",
    "= \\int_0^\\infty  e^{-\\frac{\\ell^2}{\\sigma_1^2}}\\ell \\, d\\ell \\int_0^{2\\pi}\\sin^{2p} \\theta \\, d\\theta + \\int_0^\\infty e^{-\\frac{\\ell^2}{\\sigma_2^2}}\\ell \\, d\\ell \\int_0^{2\\pi}\\cos^{2p}\\theta \\, d\\theta\n",
    "$$\n",
    "where the first integral across $\\ell$ can be solved as the integral of a Gaussian:\n",
    "$$\n",
    " \\int_0^\\infty  e^{-\\frac{\\ell^2}{\\sigma^2}}\\ell \\, d\\ell =  \\frac{\\sigma^2}{2}\n",
    "$$\n",
    "and both trigonometric integrals are equal since they integrate across the entire circle:\n",
    "$$\n",
    "\\int_0^{2\\pi} \\left(\\sin^{2}\\theta\\right)^p \\, d\\theta = \\int_0^{2\\pi} \\left(\\cos^{2}\\theta\\right)^p \\, d\\theta = \\frac{2\\pi(2p)!}{2^{2p}(p!)^2}\n",
    "$$\n",
    "The final normalization factor is given by:\n",
    "$$\n",
    "\\eta(\\sigma_1, \\sigma_2, p) = \\left[ \\frac{\\pi(2p)!}{2^{2p}(p!)^2}\\left(\\sigma_1^2 + \\sigma_2^2\\right) \\right]^{-1}\n",
    "$$"
   ]
  },
  {
   "cell_type": "code",
   "execution_count": 40,
   "id": "1662948f-c693-4a6c-83ae-2db10aceae08",
   "metadata": {},
   "outputs": [],
   "source": [
    "import matplotlib.pyplot as plt\n",
    "import numpy as np\n",
    "import sympy as sym\n",
    "\n",
    "theta = sym.symbols(\"theta\")\n",
    "phi = sym.symbols(\"phi\")\n",
    "\n",
    "alpha = sym.symbols(\"alpha\")\n",
    "beta = sym.symbols(\"beta\")\n",
    "\n",
    "sin_theta = sym.sin(theta) #sympify(\"(exp(I*theta)-exp(-I*theta))/(2*I)\")\n",
    "cos_theta = sym.cos(theta) #sympify(\"(exp(I*theta)+exp(-I*theta))/(2)\")\n",
    "\n",
    "sin_phi = sym.sin(phi) #sympify(\"(exp(I*phi)-exp(-I*phi))/(2*I)\")\n",
    "cos_phi = sym.cos(phi) #sympify(\"(exp(I*phi)+exp(-I*phi))/(2)\")\n",
    "\n",
    "sin_alpha = sym.sin(alpha) #sympify(\"(exp(I*alpha)-exp(-I*alpha))/(2*I)\")\n",
    "cos_alpha = sym.cos(alpha) #sympify(\"(exp(I*alpha)+exp(-I*alpha))/(2)\")\n",
    "\n",
    "sin_beta = sym.sin(beta) #sympify(\"(exp(I*beta)-exp(-I*beta))/(2*I)\")\n",
    "cos_beta = sym.cos(beta) #sympify(\"(exp(I*beta)+exp(-I*beta))/(2)\")\n",
    "\n",
    "sigma1, sigma2, l = sym.symbols(\"sigma_1, sigma_2, l\")\n",
    "n = sym.symbols(\"n\")"
   ]
  },
  {
   "cell_type": "markdown",
   "id": "c649699c",
   "metadata": {},
   "source": [
    "## Plate Tensor Derivation\n",
    "\n",
    "The integral for a plate tensor is given by:\n",
    "$$\n",
    "\\mathbf{P}(\\mathbf{v}, \\mathbf{r}, \\sigma) = \\int_{0}^\\pi \\mathbf{S}(\\mathbf{v}, \\mathbf{r}, \\mathbf{q}, \\sigma) \\,d\\beta=  \\int_{0}^\\pi \\eta(\\sigma_1, \\sigma_2, 1) D(\\mathbf{v}, \\mathbf{r}, \\mathbf{q}, \\sigma_1, \\sigma_2, 1) (\\mathbf{R}\\mathbf{q})(\\mathbf{R}\\mathbf{q})^T \\, d\\beta\n",
    "$$\n",
    "where\n",
    "$$\n",
    "\\mathbf{d}=\n",
    "\\begin{bmatrix}\n",
    "\\cos\\alpha \\\\\n",
    "\\sin\\alpha\n",
    "\\end{bmatrix}\n",
    "\\quad\n",
    "\\quad\n",
    "\\mathbf{q}=\n",
    "\\begin{bmatrix}\n",
    "\\cos\\beta \\\\\n",
    "\\sin\\beta\n",
    "\\end{bmatrix}\n",
    "$$\n",
    "We will assume that $p=1$, since the refinement term doesn't really make sense for a plate tensor in 2D:\n",
    "$$\n",
    "= \\eta(\\sigma_1, \\sigma_2, 1) \\left(e^{-\\frac{\\ell^2}{\\sigma_1^2}}\\int_0^\\pi  \\left(1 - \\left(\\mathbf{q}^T\\mathbf{d}\\right)^2\\right) (\\mathbf{R}\\mathbf{q})(\\mathbf{R}\\mathbf{q})^T \\, d\\beta + e^{-\\frac{\\ell^2}{\\sigma_2^2}}\\int_0^\\pi \\left(\\mathbf{q}^T\\mathbf{d}\\right)^2(\\mathbf{R}\\mathbf{q})(\\mathbf{R}\\mathbf{q})^T \\, d\\beta\\right)\n",
    "$$\n",
    "$$\n",
    "= \\eta(\\sigma_1, \\sigma_2, 1) \\left(e^{-\\frac{\\ell^2}{\\sigma_1^2}}\\left(\\int_0^\\pi   (\\mathbf{R}\\mathbf{q})(\\mathbf{R}\\mathbf{q})^T \\, d\\beta - \\int_0^\\pi \\left(\\mathbf{q}^T\\mathbf{d}\\right)^2 (\\mathbf{R}\\mathbf{q})(\\mathbf{R}\\mathbf{q})^T \\, d\\beta\\right) + e^{-\\frac{\\ell^2}{\\sigma_2^2}}\\int_0^\\pi \\left(\\mathbf{q}^T\\mathbf{d}\\right)^2(\\mathbf{R}\\mathbf{q})(\\mathbf{R}\\mathbf{q})^T \\, d\\beta\\right)\n",
    "$$\n"
   ]
  },
  {
   "cell_type": "markdown",
   "id": "1bf9077d-9124-414d-8c99-9a2a127e2c79",
   "metadata": {},
   "source": [
    "where $\\mathbf{R}=\\mathbf{I}-2\\mathbf{d}\\mathbf{d}^T$. Combining the outer products into symmetric matrices: $\\mathbf{Q}=\\mathbf{q}\\mathbf{q}^T$ and $\\mathbf{D}=\\mathbf{d}\\mathbf{d}^T$, we can expand the term:\n",
    "$$\n",
    "(\\mathbf{R}\\mathbf{q})(\\mathbf{R}\\mathbf{q})^T = (\\mathbf{I}-2\\mathbf{D})\\mathbf{Q}(\\mathbf{I}-2\\mathbf{D})\n",
    "$$\n",
    "$$\n",
    "=(\\mathbf{I}\\mathbf{Q}-2\\mathbf{D}\\mathbf{Q})(\\mathbf{I}-2\\mathbf{D})\n",
    "$$\n",
    "$$\n",
    "=\\mathbf{I}\\mathbf{Q}\\mathbf{I}-2\\mathbf{I}\\mathbf{Q}\\mathbf{D}^T-2\\mathbf{D}\\mathbf{Q}\\mathbf{I}+4\\mathbf{D}\\mathbf{Q}\\mathbf{D}^T\n",
    "$$\n",
    "$$\n",
    "=\\mathbf{Q}-2\\mathbf{Q}\\mathbf{D}^T-2\\mathbf{D}\\mathbf{Q}+4\\mathbf{D}\\mathbf{Q}\\mathbf{D}^T\n",
    "$$\n",
    "where\n",
    "$$\n",
    "\\mathbf{D}=\n",
    "\\begin{bmatrix}\n",
    "\\cos^2\\alpha & \\sin\\alpha \\cos\\alpha\\\\\n",
    "\\sin\\alpha \\cos\\alpha & \\sin^2\\alpha\n",
    "\\end{bmatrix}\n",
    "\\quad\n",
    "\\quad\n",
    "\\mathbf{Q}=\n",
    "\\begin{bmatrix}\n",
    "\\cos^2\\theta & \\sin\\theta \\cos\\theta\\\\\n",
    "\\sin\\theta \\cos\\theta & \\sin^2\\theta\n",
    "\\end{bmatrix}\n",
    "$$"
   ]
  },
  {
   "cell_type": "markdown",
   "id": "14b8d507-7d75-49fe-bc45-5c34b341a143",
   "metadata": {},
   "source": [
    "The two critical terms to be integrated are:\n",
    "$$\n",
    "(\\mathbf{R}\\mathbf{q})(\\mathbf{R}\\mathbf{q})^T=\\mathbf{Q}-2\\mathbf{Q}\\mathbf{D}^T-2\\mathbf{D}\\mathbf{Q}+4\\mathbf{D}\\mathbf{Q}\\mathbf{D}^T\n",
    "$$\n",
    "and\n",
    "$$\n",
    "(\\mathbf{q}^T \\mathbf{d})^2(\\mathbf{R}\\mathbf{q})(\\mathbf{R}\\mathbf{q})^T = (\\mathbf{q}^T \\mathbf{d})^2\\mathbf{Q} - 2(\\mathbf{q}^T \\mathbf{d})^2\\mathbf{Q}\\mathbf{D} - 2(\\mathbf{q}^T \\mathbf{d})^2\\mathbf{D}\\mathbf{Q} + 4(\\mathbf{q}^T \\mathbf{d})^2\\mathbf{D}\\mathbf{Q}\\mathbf{D}^T\n",
    "$$"
   ]
  },
  {
   "cell_type": "markdown",
   "id": "06d2d69a-93af-404e-a6ef-f2929f2c06e0",
   "metadata": {},
   "source": [
    "Integrating each of these sub-terms across $\\theta$ yields:\n",
    "$$\n",
    "\\int_0^\\pi\\mathbf{Q}d\\theta = \\left[\\begin{matrix}\\frac{\\pi}{2} & 0\\\\0 & \\frac{\\pi}{2}\\end{matrix}\\right]\n",
    "\\quad\\quad\\quad\\quad\n",
    "\\int_0^\\pi\\mathbf{Q}\\mathbf{D}^T\\, d\\theta = \\left[\\begin{matrix}\\frac{\\pi \\cos^{2}{\\left(\\alpha \\right)}}{2} & \\frac{\\pi \\sin{\\left(2 \\alpha \\right)}}{4}\\\\\\frac{\\pi \\sin{\\left(2 \\alpha \\right)}}{4} & \\frac{\\pi \\sin^{2}{\\left(\\alpha \\right)}}{2}\\end{matrix}\\right]\n",
    "\\quad\\quad\\quad\\quad\n",
    "\\int_0^\\pi\\mathbf{D}\\mathbf{Q}\\, d\\theta = \\left[\\begin{matrix}\\frac{\\pi \\cos^{2}{\\left(\\alpha \\right)}}{2} & \\frac{\\pi \\sin{\\left(2 \\alpha \\right)}}{4}\\\\\\frac{\\pi \\sin{\\left(2 \\alpha \\right)}}{4} & \\frac{\\pi \\sin^{2}{\\left(\\alpha \\right)}}{2}\\end{matrix}\\right]\n",
    "$$"
   ]
  },
  {
   "cell_type": "markdown",
   "id": "eb616b71-d36b-4ef9-a11e-b55ce0580277",
   "metadata": {},
   "source": [
    "$$\n",
    "\\int_0^\\pi \\mathbf{D}\\mathbf{Q}\\mathbf{D}^T \\, d\\theta = \\left[\\begin{matrix}\\frac{\\pi \\cos^{2}{\\left(\\alpha \\right)}}{2} & \\frac{\\pi \\sin{\\left(2 \\alpha \\right)}}{4}\\\\\\frac{\\pi \\sin{\\left(2 \\alpha \\right)}}{4} & \\frac{\\pi \\sin^{2}{\\left(\\alpha \\right)}}{2}\\end{matrix}\\right]\n",
    "\\quad\\quad\\quad\\quad\n",
    "\\int_0^\\pi(\\mathbf{q}^T \\mathbf{d})^2\\mathbf{Q}\\, d\\theta = \\left[\\begin{matrix}\\frac{\\pi \\left(\\cos{\\left(2 \\alpha \\right)} + 2\\right)}{8} & \\frac{\\pi \\sin{\\left(2 \\alpha \\right)}}{8}\\\\\\frac{\\pi \\sin{\\left(2 \\alpha \\right)}}{8} & \\frac{\\pi \\left(2 - \\cos{\\left(2 \\alpha \\right)}\\right)}{8}\\end{matrix}\\right]\n",
    "\\quad\\quad\\quad\\quad\n",
    "\\int_0^\\pi(\\mathbf{q}^T \\mathbf{d})^2\\mathbf{Q}\\mathbf{D}\\, d\\theta = \\left[\\begin{matrix}\\frac{3 \\pi \\cos^{2}{\\left(\\alpha \\right)}}{8} & \\frac{3 \\pi \\sin{\\left(2 \\alpha \\right)}}{16}\\\\\\frac{3 \\pi \\sin{\\left(2 \\alpha \\right)}}{16} & \\frac{3 \\pi \\sin^{2}{\\left(\\alpha \\right)}}{8}\\end{matrix}\\right]\n",
    "$$"
   ]
  },
  {
   "cell_type": "markdown",
   "id": "63941a62-c6b1-4cf0-99ba-8bfc9b820e49",
   "metadata": {},
   "source": [
    "$$\n",
    "\\int_0^\\pi(\\mathbf{q}^T \\mathbf{d})^2\\mathbf{D}\\mathbf{Q}\\, d\\theta = \\left[\\begin{matrix}\\frac{3 \\pi \\cos^{2}{\\left(\\alpha \\right)}}{8} & \\frac{3 \\pi \\sin{\\left(2 \\alpha \\right)}}{16}\\\\\\frac{3 \\pi \\sin{\\left(2 \\alpha \\right)}}{16} & \\frac{3 \\pi \\sin^{2}{\\left(\\alpha \\right)}}{8}\\end{matrix}\\right]\n",
    "\\quad\\quad\\quad\\quad\n",
    "\\int_0^\\pi(\\mathbf{q}^T \\mathbf{d})^2\\mathbf{D}\\mathbf{Q}\\mathbf{D}^T\\, d\\theta = \\left[\\begin{matrix}\\frac{3 \\pi \\cos^{2}{\\left(\\alpha \\right)}}{8} & \\frac{3 \\pi \\sin{\\left(2 \\alpha \\right)}}{16}\\\\\\frac{3 \\pi \\sin{\\left(2 \\alpha \\right)}}{16} & \\frac{3 \\pi \\sin^{2}{\\left(\\alpha \\right)}}{8}\\end{matrix}\\right]\n",
    "$$"
   ]
  },
  {
   "cell_type": "markdown",
   "id": "9004bfa7-e7d2-4c10-99a6-f388a4a637f6",
   "metadata": {},
   "source": [
    "Collecting these terms and simplifying we get:\n",
    "$$\n",
    "\\int_0^\\pi(\\mathbf{R}\\mathbf{q})(\\mathbf{R}\\mathbf{q})^T\\, d\\theta = \\left[\\begin{matrix}\\frac{\\pi}{2} & 0\\\\0 & \\frac{\\pi}{2}\\end{matrix}\\right]\n",
    "\\quad\\quad\\quad\\quad\n",
    "\\int_0^\\pi (\\mathbf{q}^T \\mathbf{d})^2(\\mathbf{R}\\mathbf{q})(\\mathbf{R}\\mathbf{q})^T \\, d\\theta = \\left[\\begin{matrix}\\frac{\\pi \\left(\\cos{\\left(2 \\alpha \\right)} + 2\\right)}{8} & \\frac{\\pi \\sin{\\left(2 \\alpha \\right)}}{8}\\\\\\frac{\\pi \\sin{\\left(2 \\alpha \\right)}}{8} & \\frac{\\pi \\left(2 - \\cos{\\left(2 \\alpha \\right)}\\right)}{8}\\end{matrix}\\right]\n",
    "$$"
   ]
  },
  {
   "cell_type": "markdown",
   "id": "b1a4ddec-c7de-46e6-a406-ec50ff4db0f8",
   "metadata": {},
   "source": [
    "Substituting both of these matrices into the full plate tensor equation yields:\n",
    "$$\n",
    "\\bar{\\mathbf{P}}(\\mathbf{v}, \\mathbf{r}, \\sigma) = e^{-\\frac{\\ell^2}{\\sigma_1^2}}\\left(\\int_0^\\pi   (\\mathbf{R}\\mathbf{q})(\\mathbf{R}\\mathbf{q})^T \\, d\\beta - \\int_0^\\pi \\left(\\mathbf{q}^T\\mathbf{d}\\right)^2 (\\mathbf{R}\\mathbf{q})(\\mathbf{R}\\mathbf{q})^T \\, d\\beta\\right) + e^{-\\frac{\\ell^2}{\\sigma_2^2}}\\int_0^\\pi \\left(\\mathbf{q}^T\\mathbf{d}\\right)^2(\\mathbf{R}\\mathbf{q})(\\mathbf{R}\\mathbf{q})^T \\, d\\beta\n",
    "$$"
   ]
  },
  {
   "cell_type": "markdown",
   "id": "8b61d6ab-c92b-4ef3-beda-4ff4010fba83",
   "metadata": {},
   "source": [
    "$$\n",
    "= e^{-\\frac{\\ell^2}{\\sigma_1^2}}\\left(\\left[\\begin{matrix}\\frac{\\pi}{2} & 0\\\\0 & \\frac{\\pi}{2}\\end{matrix}\\right] - \\left[\\begin{matrix}\\frac{\\pi \\left(\\cos{\\left(2 \\alpha \\right)} + 2\\right)}{8} & \\frac{\\pi \\sin{\\left(2 \\alpha \\right)}}{8}\\\\\\frac{\\pi \\sin{\\left(2 \\alpha \\right)}}{8} & \\frac{\\pi \\left(2 - \\cos{\\left(2 \\alpha \\right)}\\right)}{8}\\end{matrix}\\right]\\right) + e^{-\\frac{\\ell^2}{\\sigma_2^2}}\\left[\\begin{matrix}\\frac{\\pi \\left(\\cos{\\left(2 \\alpha \\right)} + 2\\right)}{8} & \\frac{\\pi \\sin{\\left(2 \\alpha \\right)}}{8}\\\\\\frac{\\pi \\sin{\\left(2 \\alpha \\right)}}{8} & \\frac{\\pi \\left(2 - \\cos{\\left(2 \\alpha \\right)}\\right)}{8}\\end{matrix}\\right]\n",
    "$$"
   ]
  },
  {
   "cell_type": "markdown",
   "id": "3c8b3e62-08a6-42e8-9b75-b60f21c3a64a",
   "metadata": {},
   "source": [
    "$$\n",
    "= \\frac{\\pi}{2}   \\left(e^{-\\frac{\\ell^2}{\\sigma_1^2}}\\left(\\mathbf{I} - \\frac{1}{4}\n",
    "\\begin{bmatrix}\n",
    "\\cos(2\\alpha)+2 & \\sin(2\\alpha)\\\\\n",
    "\\sin(2\\alpha) & 2 - \\cos(2\\alpha)\n",
    "\\end{bmatrix}\\right) + e^{-\\frac{\\ell^2}{\\sigma_2^2}}\\frac{1}{4}\n",
    "\\begin{bmatrix}\n",
    "\\cos(2\\alpha)+2 & \\sin(2\\alpha)\\\\\n",
    "\\sin(2\\alpha) & 2 - \\cos(2\\alpha)\n",
    "\\end{bmatrix}\\right)\n",
    "$$"
   ]
  },
  {
   "cell_type": "markdown",
   "id": "fe55c5c8-6636-48fa-8057-d4e2ab8902ab",
   "metadata": {},
   "source": [
    "$$\n",
    "\\bar{\\mathbf{P}}(\\mathbf{v}, \\mathbf{r}, \\sigma) = \\left[ \\frac{2\\pi}{4}\\left(\\sigma_1^2 + \\sigma_2^2\\right) \\right]^{-1} \\frac{\\pi}{2}   \\left(e^{-\\frac{\\ell^2}{\\sigma_1^2}}\\left(\\mathbf{I} - \\frac{1}{4}\n",
    "\\mathbf{M}\n",
    "\\right) + e^{-\\frac{\\ell^2}{\\sigma_2^2}}\\frac{1}{4}\n",
    "\\mathbf{M}\n",
    "\\right)\n",
    "$$"
   ]
  },
  {
   "cell_type": "markdown",
   "id": "61748be5-f868-4575-8a6d-20f31681aa53",
   "metadata": {},
   "source": [
    "$$\n",
    "\\bar{\\mathbf{P}}(\\mathbf{v}, \\mathbf{r}, \\sigma) = \\frac{1}{\\sigma_1^2 + \\sigma_2^2}   \\left(e^{-\\frac{\\ell^2}{\\sigma_1^2}}\\left(\\mathbf{I} - \\frac{1}{4}\n",
    "\\mathbf{M}\n",
    "\\right) + e^{-\\frac{\\ell^2}{\\sigma_2^2}}\\frac{1}{4}\n",
    "\\mathbf{M}\n",
    "\\right)\n",
    "$$\n",
    "where\n",
    "$$\n",
    "\\mathbf{M} = \n",
    "\\begin{bmatrix}\n",
    "\\cos(2\\alpha)+2 & \\sin(2\\alpha)\\\\\n",
    "\\sin(2\\alpha) & 2 - \\cos(2\\alpha)\n",
    "\\end{bmatrix}\n",
    "$$"
   ]
  },
  {
   "cell_type": "markdown",
   "id": "a9928644-5a27-4a5f-aa9c-ce2420ecc706",
   "metadata": {},
   "source": [
    "### Plate Normalization Derivation\n",
    "The integral of the plate tensor decay is given by:\n",
    "$$\n",
    "\\int_0^\\infty \\int_{-\\pi}^\\pi\\bar{\\mathbf{P}}(\\mathbf{v}, \\mathbf{r}, \\sigma) = \\int_0^\\infty \\int_{-\\pi}^\\pi\\frac{\\ell}{\\sigma_1^2 + \\sigma_2^2}   \\left(e^{-\\frac{\\ell^2}{\\sigma_1^2}}\\left(\\mathbf{I} - \\frac{1}{4}\n",
    "\\mathbf{M}\n",
    "\\right) + e^{-\\frac{\\ell^2}{\\sigma_2^2}}\\frac{1}{4}\n",
    "\\mathbf{M}\n",
    "\\right)\\ell \\, d\\alpha \\, d\\ell\n",
    "$$"
   ]
  },
  {
   "cell_type": "markdown",
   "id": "af8fa28c-4253-4d63-9d08-68fd9b1d9783",
   "metadata": {},
   "source": [
    "$$\n",
    "\\int_0^\\infty \\int_{-\\pi}^\\pi\\bar{\\mathbf{P}}(\\mathbf{v}, \\mathbf{r}, \\sigma) = \\int_0^\\infty \\frac{\\ell^2}{\\sigma_1^2 + \\sigma_2^2}\\int_{-\\pi}^\\pi\\left(e^{-\\frac{\\ell^2}{\\sigma_1^2}}\\mathbf{I} - e^{-\\frac{\\ell^2}{\\sigma_1^2}}\\frac{1}{4}\n",
    "\\mathbf{M} + e^{-\\frac{\\ell^2}{\\sigma_2^2}}\\frac{1}{4}\n",
    "\\mathbf{M}\n",
    "\\right) \\, d\\alpha \\, d\\ell\n",
    "$$"
   ]
  },
  {
   "cell_type": "markdown",
   "id": "d444b0ba-fb18-44b7-adbd-f5831a089e1b",
   "metadata": {},
   "source": [
    "$$\n",
    "\\int_0^\\infty \\int_{-\\pi}^\\pi\\bar{\\mathbf{P}}(\\mathbf{v}, \\mathbf{r}, \\sigma) = \\int_0^\\infty \\frac{\\ell^2}{\\sigma_1^2 + \\sigma_2^2}\\left(e^{-\\frac{\\ell^2}{\\sigma_1^2}}\\mathbf{I} - \\left(e^{-\\frac{\\ell^2}{\\sigma_1^2}}\\frac{1}{4} - e^{-\\frac{\\ell^2}{\\sigma_2^2}}\\frac{1}{4}\n",
    "\\right)\\int_{-\\pi}^\\pi\\mathbf{M}\\, d\\alpha\n",
    "\\right)  \\, d\\ell\n",
    "$$"
   ]
  },
  {
   "cell_type": "markdown",
   "id": "f54d163b-cc46-492c-828a-fe66d3c506b0",
   "metadata": {},
   "source": [
    "$$\n",
    "\\int_0^\\infty \\int_{-\\pi}^\\pi\\bar{\\mathbf{P}}(\\mathbf{v}, \\mathbf{r}, \\sigma) = \\int_0^\\infty \\frac{\\ell^2}{\\sigma_1^2 + \\sigma_2^2}\\left(e^{-\\frac{\\ell^2}{\\sigma_1^2}}\\mathbf{I} - \\left(e^{-\\frac{\\ell^2}{\\sigma_1^2}}\\frac{1}{4} - e^{-\\frac{\\ell^2}{\\sigma_2^2}}\\frac{1}{4}\n",
    "\\right)4\\pi \\mathbf{I}\n",
    "\\right)  \\, d\\ell\n",
    "$$"
   ]
  },
  {
   "cell_type": "markdown",
   "id": "821e3825-ec72-4be8-92f0-5b30d2340ad6",
   "metadata": {},
   "source": [
    "$$\n",
    "\\int_0^\\infty \\int_{-\\pi}^\\pi\\bar{\\mathbf{P}}(\\mathbf{v}, \\mathbf{r}, \\sigma) = \\frac{\\mathbf{I}}{\\sigma_1^2 + \\sigma_2^2}\\int_0^\\infty \\ell^2\\left(e^{-\\frac{\\ell^2}{\\sigma_1^2}} - \\pi\\left(e^{-\\frac{\\ell^2}{\\sigma_1^2}} - e^{-\\frac{\\ell^2}{\\sigma_2^2}}\n",
    "\\right)\n",
    "\\right)  \\, d\\ell\n",
    "$$"
   ]
  },
  {
   "cell_type": "markdown",
   "id": "74795b6a-7b69-4450-ab60-7aa40b0d0471",
   "metadata": {},
   "source": [
    "$$\n",
    "\\int_0^\\infty \\int_{-\\pi}^\\pi\\bar{\\mathbf{P}}(\\mathbf{v}, \\mathbf{r}, \\sigma) = \\frac{\\mathbf{I}}{\\sigma_1^2 + \\sigma_2^2}\\int_0^\\infty \\left(\\ell^2e^{-\\frac{\\ell^2}{\\sigma_1^2}} - \\pi\\ell^2 e^{-\\frac{\\ell^2}{\\sigma_1^2}} + \\pi\\ell^2 e^{-\\frac{\\ell^2}{\\sigma_2^2}}\n",
    "\\right)  \\, d\\ell\n",
    "$$"
   ]
  },
  {
   "cell_type": "markdown",
   "id": "ce3ba2f4",
   "metadata": {},
   "source": [
    "## Plate Tensor Voting Field Derivation"
   ]
  },
  {
   "cell_type": "code",
   "execution_count": 45,
   "id": "cd2e23f5",
   "metadata": {},
   "outputs": [],
   "source": [
    "# 2D implementation\n",
    "q = sym.Matrix([[cos_theta], [sin_theta]])\n",
    "d = sym.Matrix([[cos_alpha], [sin_alpha]])\n",
    "\n",
    "# define the D and Q matrices\n",
    "D = d * d.transpose()\n",
    "Q = q * q.transpose()"
   ]
  },
  {
   "cell_type": "code",
   "execution_count": 57,
   "id": "c2dffb61-b1b7-4b32-9671-7881474f16ed",
   "metadata": {},
   "outputs": [
    {
     "data": {
      "text/latex": [
       "$\\displaystyle \\left[\\begin{matrix}\\cos^{2}{\\left(\\theta \\right)} & \\sin{\\left(\\theta \\right)} \\cos{\\left(\\theta \\right)}\\\\\\sin{\\left(\\theta \\right)} \\cos{\\left(\\theta \\right)} & \\sin^{2}{\\left(\\theta \\right)}\\end{matrix}\\right]$"
      ],
      "text/plain": [
       "Matrix([\n",
       "[        cos(theta)**2, sin(theta)*cos(theta)],\n",
       "[sin(theta)*cos(theta),         sin(theta)**2]])"
      ]
     },
     "execution_count": 57,
     "metadata": {},
     "output_type": "execute_result"
    }
   ],
   "source": [
    "Q"
   ]
  },
  {
   "cell_type": "code",
   "execution_count": 58,
   "id": "991e0b05-27db-4f35-8ad3-1fcb8cb6170e",
   "metadata": {},
   "outputs": [
    {
     "data": {
      "text/latex": [
       "$\\displaystyle \\left[\\begin{matrix}\\cos^{2}{\\left(\\alpha \\right)} & \\sin{\\left(\\alpha \\right)} \\cos{\\left(\\alpha \\right)}\\\\\\sin{\\left(\\alpha \\right)} \\cos{\\left(\\alpha \\right)} & \\sin^{2}{\\left(\\alpha \\right)}\\end{matrix}\\right]$"
      ],
      "text/plain": [
       "Matrix([\n",
       "[        cos(alpha)**2, sin(alpha)*cos(alpha)],\n",
       "[sin(alpha)*cos(alpha),         sin(alpha)**2]])"
      ]
     },
     "execution_count": 58,
     "metadata": {},
     "output_type": "execute_result"
    }
   ],
   "source": [
    "D"
   ]
  },
  {
   "cell_type": "code",
   "execution_count": 59,
   "id": "04fdcc92-3ee5-4032-a55a-e12e9793dad1",
   "metadata": {},
   "outputs": [
    {
     "data": {
      "text/latex": [
       "$\\displaystyle \\left[\\begin{matrix}\\frac{\\pi}{2} & 0\\\\0 & \\frac{\\pi}{2}\\end{matrix}\\right]$"
      ],
      "text/plain": [
       "Matrix([\n",
       "[pi/2,    0],\n",
       "[   0, pi/2]])"
      ]
     },
     "execution_count": 59,
     "metadata": {},
     "output_type": "execute_result"
    }
   ],
   "source": [
    "# integrate each term\n",
    "iQ = sym.integrate(Q, (theta, 0, sym.pi))\n",
    "iQ = sym.simplify(iQ)\n",
    "iQ"
   ]
  },
  {
   "cell_type": "code",
   "execution_count": 60,
   "id": "f4159a02-4e5f-4b57-a55e-fab795270b9e",
   "metadata": {},
   "outputs": [
    {
     "data": {
      "text/latex": [
       "$\\displaystyle \\left[\\begin{matrix}\\frac{\\pi \\cos^{2}{\\left(\\alpha \\right)}}{2} & \\frac{\\pi \\sin{\\left(2 \\alpha \\right)}}{4}\\\\\\frac{\\pi \\sin{\\left(2 \\alpha \\right)}}{4} & \\frac{\\pi \\sin^{2}{\\left(\\alpha \\right)}}{2}\\end{matrix}\\right]$"
      ],
      "text/plain": [
       "Matrix([\n",
       "[pi*cos(alpha)**2/2,  pi*sin(2*alpha)/4],\n",
       "[ pi*sin(2*alpha)/4, pi*sin(alpha)**2/2]])"
      ]
     },
     "execution_count": 60,
     "metadata": {},
     "output_type": "execute_result"
    }
   ],
   "source": [
    "iDQ = sym.integrate(D*Q, (theta, 0, sym.pi))\n",
    "iDQ = sym.simplify(iDQ)\n",
    "iDQ"
   ]
  },
  {
   "cell_type": "code",
   "execution_count": 90,
   "id": "a0e4f69e-62a8-460c-a154-13e67ffd6350",
   "metadata": {},
   "outputs": [
    {
     "data": {
      "text/latex": [
       "$\\displaystyle \\left[\\begin{matrix}\\frac{\\pi \\cos^{2}{\\left(\\alpha \\right)}}{2} & \\frac{\\pi \\sin{\\left(2 \\alpha \\right)}}{4}\\\\\\frac{\\pi \\sin{\\left(2 \\alpha \\right)}}{4} & \\frac{\\pi \\sin^{2}{\\left(\\alpha \\right)}}{2}\\end{matrix}\\right]$"
      ],
      "text/plain": [
       "Matrix([\n",
       "[pi*cos(alpha)**2/2,  pi*sin(2*alpha)/4],\n",
       "[ pi*sin(2*alpha)/4, pi*sin(alpha)**2/2]])"
      ]
     },
     "execution_count": 90,
     "metadata": {},
     "output_type": "execute_result"
    }
   ],
   "source": [
    "iQDT = sym.integrate(Q*D.transpose(), (theta, 0, sym.pi))\n",
    "iQDT = sym.simplify(iQD)\n",
    "iQDT"
   ]
  },
  {
   "cell_type": "code",
   "execution_count": 91,
   "id": "5d456181",
   "metadata": {},
   "outputs": [
    {
     "data": {
      "text/latex": [
       "$\\displaystyle \\left[\\begin{matrix}\\frac{\\pi \\cos^{2}{\\left(\\alpha \\right)}}{2} & \\frac{\\pi \\sin{\\left(2 \\alpha \\right)}}{4}\\\\\\frac{\\pi \\sin{\\left(2 \\alpha \\right)}}{4} & \\frac{\\pi \\sin^{2}{\\left(\\alpha \\right)}}{2}\\end{matrix}\\right]$"
      ],
      "text/plain": [
       "Matrix([\n",
       "[pi*cos(alpha)**2/2,  pi*sin(2*alpha)/4],\n",
       "[ pi*sin(2*alpha)/4, pi*sin(alpha)**2/2]])"
      ]
     },
     "execution_count": 91,
     "metadata": {},
     "output_type": "execute_result"
    }
   ],
   "source": [
    "iDQDT = sym.integrate(D*Q*D.transpose(), (theta, 0, sym.pi))\n",
    "iDQDT = sym.simplify(iDQD)\n",
    "iDQDT"
   ]
  },
  {
   "cell_type": "code",
   "execution_count": 63,
   "id": "f5582aac-c514-41b2-8fe7-1bc9642697ba",
   "metadata": {},
   "outputs": [
    {
     "data": {
      "text/latex": [
       "$\\displaystyle \\left(\\sin{\\left(\\alpha \\right)} \\sin{\\left(\\theta \\right)} + \\cos{\\left(\\alpha \\right)} \\cos{\\left(\\theta \\right)}\\right)^{2}$"
      ],
      "text/plain": [
       "(sin(alpha)*sin(theta) + cos(alpha)*cos(theta))**2"
      ]
     },
     "execution_count": 63,
     "metadata": {},
     "output_type": "execute_result"
    }
   ],
   "source": [
    "qTd2 = ((q.transpose() * d) * (q.transpose() * d))[0]\n",
    "qTd2"
   ]
  },
  {
   "cell_type": "code",
   "execution_count": 64,
   "id": "77767b44-88ac-47b6-b174-fc32be9328b5",
   "metadata": {},
   "outputs": [
    {
     "data": {
      "text/latex": [
       "$\\displaystyle \\left[\\begin{matrix}\\cos^{2}{\\left(\\theta \\right)} \\cos^{2}{\\left(\\alpha - \\theta \\right)} & \\sin{\\left(\\theta \\right)} \\cos{\\left(\\theta \\right)} \\cos^{2}{\\left(\\alpha - \\theta \\right)}\\\\\\sin{\\left(\\theta \\right)} \\cos{\\left(\\theta \\right)} \\cos^{2}{\\left(\\alpha - \\theta \\right)} & \\sin^{2}{\\left(\\theta \\right)} \\cos^{2}{\\left(\\alpha - \\theta \\right)}\\end{matrix}\\right]$"
      ],
      "text/plain": [
       "Matrix([\n",
       "[        cos(theta)**2*cos(alpha - theta)**2, sin(theta)*cos(theta)*cos(alpha - theta)**2],\n",
       "[sin(theta)*cos(theta)*cos(alpha - theta)**2,         sin(theta)**2*cos(alpha - theta)**2]])"
      ]
     },
     "execution_count": 64,
     "metadata": {},
     "output_type": "execute_result"
    }
   ],
   "source": [
    "qTd2Q = qTd2 * Q\n",
    "qTd2Q = sym.simplify(qTd2Q)\n",
    "qTd2Q"
   ]
  },
  {
   "cell_type": "code",
   "execution_count": 67,
   "id": "4a66ab25-6f60-43a6-94d5-cd3b258bd771",
   "metadata": {},
   "outputs": [
    {
     "data": {
      "text/latex": [
       "$\\displaystyle \\left[\\begin{matrix}\\frac{\\pi \\left(\\cos{\\left(2 \\alpha \\right)} + 2\\right)}{8} & \\frac{\\pi \\sin{\\left(2 \\alpha \\right)}}{8}\\\\\\frac{\\pi \\sin{\\left(2 \\alpha \\right)}}{8} & \\frac{\\pi \\left(2 - \\cos{\\left(2 \\alpha \\right)}\\right)}{8}\\end{matrix}\\right]$"
      ],
      "text/plain": [
       "Matrix([\n",
       "[pi*(cos(2*alpha) + 2)/8,       pi*sin(2*alpha)/8],\n",
       "[      pi*sin(2*alpha)/8, pi*(2 - cos(2*alpha))/8]])"
      ]
     },
     "execution_count": 67,
     "metadata": {},
     "output_type": "execute_result"
    }
   ],
   "source": [
    "iqTd2Q = sym.integrate(qTd2Q, (theta, 0, sym.pi))\n",
    "iqTd2Q = sym.simplify(iqTd2Q)\n",
    "iqTd2Q"
   ]
  },
  {
   "cell_type": "code",
   "execution_count": 80,
   "id": "ceac505e-c1ff-4476-93ea-af7c06be9c4b",
   "metadata": {},
   "outputs": [
    {
     "data": {
      "text/latex": [
       "$\\displaystyle \\left[\\begin{matrix}\\cos{\\left(\\alpha \\right)} \\cos{\\left(\\theta \\right)} \\cos^{3}{\\left(\\alpha - \\theta \\right)} & \\sin{\\left(\\alpha \\right)} \\cos{\\left(\\theta \\right)} \\cos^{3}{\\left(\\alpha - \\theta \\right)}\\\\\\sin{\\left(\\theta \\right)} \\cos{\\left(\\alpha \\right)} \\cos^{3}{\\left(\\alpha - \\theta \\right)} & \\sin{\\left(\\alpha \\right)} \\sin{\\left(\\theta \\right)} \\cos^{3}{\\left(\\alpha - \\theta \\right)}\\end{matrix}\\right]$"
      ],
      "text/plain": [
       "Matrix([\n",
       "[cos(alpha)*cos(theta)*cos(alpha - theta)**3, sin(alpha)*cos(theta)*cos(alpha - theta)**3],\n",
       "[sin(theta)*cos(alpha)*cos(alpha - theta)**3, sin(alpha)*sin(theta)*cos(alpha - theta)**3]])"
      ]
     },
     "execution_count": 80,
     "metadata": {},
     "output_type": "execute_result"
    }
   ],
   "source": [
    "qTd2QD = qTd2Q * D\n",
    "qTd2QD = sym.simplify(qTd2QD)\n",
    "qTd2QD"
   ]
  },
  {
   "cell_type": "code",
   "execution_count": 81,
   "id": "20ce49c5-279b-47f4-b87d-ad28584b2ca7",
   "metadata": {},
   "outputs": [
    {
     "data": {
      "text/latex": [
       "$\\displaystyle \\left[\\begin{matrix}\\frac{3 \\pi \\cos^{2}{\\left(\\alpha \\right)}}{8} & \\frac{3 \\pi \\sin{\\left(2 \\alpha \\right)}}{16}\\\\\\frac{3 \\pi \\sin{\\left(2 \\alpha \\right)}}{16} & \\frac{3 \\pi \\sin^{2}{\\left(\\alpha \\right)}}{8}\\end{matrix}\\right]$"
      ],
      "text/plain": [
       "Matrix([\n",
       "[3*pi*cos(alpha)**2/8, 3*pi*sin(2*alpha)/16],\n",
       "[3*pi*sin(2*alpha)/16, 3*pi*sin(alpha)**2/8]])"
      ]
     },
     "execution_count": 81,
     "metadata": {},
     "output_type": "execute_result"
    }
   ],
   "source": [
    "iqTd2QD = sym.integrate(qTd2QD, (theta, 0, sym.pi))\n",
    "iqTd2QD = sym.simplify(iqTd2QD)\n",
    "iqTd2QD"
   ]
  },
  {
   "cell_type": "code",
   "execution_count": 86,
   "id": "8b9c4ed4-308e-4e71-a3f9-0f538427f765",
   "metadata": {},
   "outputs": [
    {
     "data": {
      "text/latex": [
       "$\\displaystyle \\left[\\begin{matrix}\\cos{\\left(\\alpha \\right)} \\cos{\\left(\\theta \\right)} \\cos^{3}{\\left(\\alpha - \\theta \\right)} & \\sin{\\left(\\theta \\right)} \\cos{\\left(\\alpha \\right)} \\cos^{3}{\\left(\\alpha - \\theta \\right)}\\\\\\sin{\\left(\\alpha \\right)} \\cos{\\left(\\theta \\right)} \\cos^{3}{\\left(\\alpha - \\theta \\right)} & \\sin{\\left(\\alpha \\right)} \\sin{\\left(\\theta \\right)} \\cos^{3}{\\left(\\alpha - \\theta \\right)}\\end{matrix}\\right]$"
      ],
      "text/plain": [
       "Matrix([\n",
       "[cos(alpha)*cos(theta)*cos(alpha - theta)**3, sin(theta)*cos(alpha)*cos(alpha - theta)**3],\n",
       "[sin(alpha)*cos(theta)*cos(alpha - theta)**3, sin(alpha)*sin(theta)*cos(alpha - theta)**3]])"
      ]
     },
     "execution_count": 86,
     "metadata": {},
     "output_type": "execute_result"
    }
   ],
   "source": [
    "qTd2DQ = qTd2 * D * Q\n",
    "qTd2DQ = sym.simplify(qTd2DQ)\n",
    "qTd2DQ"
   ]
  },
  {
   "cell_type": "code",
   "execution_count": 87,
   "id": "28485449-4f99-434a-8a9a-c9c4655dc33f",
   "metadata": {},
   "outputs": [
    {
     "data": {
      "text/latex": [
       "$\\displaystyle \\left[\\begin{matrix}\\frac{3 \\pi \\cos^{2}{\\left(\\alpha \\right)}}{8} & \\frac{3 \\pi \\sin{\\left(2 \\alpha \\right)}}{16}\\\\\\frac{3 \\pi \\sin{\\left(2 \\alpha \\right)}}{16} & \\frac{3 \\pi \\sin^{2}{\\left(\\alpha \\right)}}{8}\\end{matrix}\\right]$"
      ],
      "text/plain": [
       "Matrix([\n",
       "[3*pi*cos(alpha)**2/8, 3*pi*sin(2*alpha)/16],\n",
       "[3*pi*sin(2*alpha)/16, 3*pi*sin(alpha)**2/8]])"
      ]
     },
     "execution_count": 87,
     "metadata": {},
     "output_type": "execute_result"
    }
   ],
   "source": [
    "iqTd2DQ = sym.integrate(qTd2DQ, (theta, 0, sym.pi))\n",
    "iqTd2DQ = sym.simplify(iqTd2DQ)\n",
    "iqTd2DQ"
   ]
  },
  {
   "cell_type": "code",
   "execution_count": 88,
   "id": "8bd1a08f-2ff7-42db-b5bc-a5f72136df0e",
   "metadata": {},
   "outputs": [
    {
     "data": {
      "text/latex": [
       "$\\displaystyle \\left[\\begin{matrix}\\cos^{2}{\\left(\\alpha \\right)} \\cos^{4}{\\left(\\alpha - \\theta \\right)} & \\frac{\\left(\\cos{\\left(2 \\alpha - 2 \\theta \\right)} + 1\\right)^{2} \\sin{\\left(2 \\alpha \\right)}}{8}\\\\\\frac{\\left(\\cos{\\left(2 \\alpha - 2 \\theta \\right)} + 1\\right)^{2} \\sin{\\left(2 \\alpha \\right)}}{8} & \\sin^{2}{\\left(\\alpha \\right)} \\cos^{4}{\\left(\\alpha - \\theta \\right)}\\end{matrix}\\right]$"
      ],
      "text/plain": [
       "Matrix([\n",
       "[           cos(alpha)**2*cos(alpha - theta)**4, (cos(2*alpha - 2*theta) + 1)**2*sin(2*alpha)/8],\n",
       "[(cos(2*alpha - 2*theta) + 1)**2*sin(2*alpha)/8,            sin(alpha)**2*cos(alpha - theta)**4]])"
      ]
     },
     "execution_count": 88,
     "metadata": {},
     "output_type": "execute_result"
    }
   ],
   "source": [
    "qTd2DQDT = qTd2 * D * Q * D.transpose()\n",
    "qTd2DQDT = sym.simplify(qTd2DQDT)\n",
    "qTd2DQDT"
   ]
  },
  {
   "cell_type": "code",
   "execution_count": 89,
   "id": "46ea18a7-95f3-4c3c-8f0a-33999ca00939",
   "metadata": {},
   "outputs": [
    {
     "data": {
      "text/latex": [
       "$\\displaystyle \\left[\\begin{matrix}\\frac{3 \\pi \\cos^{2}{\\left(\\alpha \\right)}}{8} & \\frac{3 \\pi \\sin{\\left(2 \\alpha \\right)}}{16}\\\\\\frac{3 \\pi \\sin{\\left(2 \\alpha \\right)}}{16} & \\frac{3 \\pi \\sin^{2}{\\left(\\alpha \\right)}}{8}\\end{matrix}\\right]$"
      ],
      "text/plain": [
       "Matrix([\n",
       "[3*pi*cos(alpha)**2/8, 3*pi*sin(2*alpha)/16],\n",
       "[3*pi*sin(2*alpha)/16, 3*pi*sin(alpha)**2/8]])"
      ]
     },
     "execution_count": 89,
     "metadata": {},
     "output_type": "execute_result"
    }
   ],
   "source": [
    "iqTd2DQDT = sym.integrate(qTd2DQDT, (theta, 0, sym.pi))\n",
    "iqTd2DQDT = sym.simplify(iqTd2DQDT)\n",
    "iqTd2DQDT"
   ]
  },
  {
   "cell_type": "markdown",
   "id": "f40fc1fb-d3d6-4ef4-80ac-e8d579118a8b",
   "metadata": {},
   "source": [
    "Use SymPy to evaluate the two terms:\n",
    "$$\n",
    "\\int_0^\\pi(\\mathbf{R}\\mathbf{q})(\\mathbf{R}\\mathbf{q})^T d\\theta=\\int_0^\\pi \\left(\\mathbf{Q}-2\\mathbf{Q}\\mathbf{D}^T-2\\mathbf{D}\\mathbf{Q}+4\\mathbf{D}\\mathbf{Q}\\mathbf{D}^T\\right) d\\theta\n",
    "$$\n",
    "and\n",
    "$$\n",
    "\\int_0^\\pi(\\mathbf{q}^T \\mathbf{d})^2(\\mathbf{R}\\mathbf{q})(\\mathbf{R}\\mathbf{q})^T d\\theta=\\int_0^\\pi \\left( (\\mathbf{q}^T \\mathbf{d})^2\\mathbf{Q} - 2(\\mathbf{q}^T \\mathbf{d})^2\\mathbf{Q}\\mathbf{D} - 2(\\mathbf{q}^T \\mathbf{d})^2\\mathbf{D}\\mathbf{Q} + 4(\\mathbf{q}^T \\mathbf{d})^2\\mathbf{D}\\mathbf{Q}\\mathbf{D}^T\\right) d\\theta\n",
    "$$"
   ]
  },
  {
   "cell_type": "code",
   "execution_count": 94,
   "id": "c3b19c15-ebaa-41ca-adaf-72abc2c77feb",
   "metadata": {},
   "outputs": [
    {
     "data": {
      "text/latex": [
       "$\\displaystyle \\left[\\begin{matrix}\\frac{\\pi}{2} & 0\\\\0 & \\frac{\\pi}{2}\\end{matrix}\\right]$"
      ],
      "text/plain": [
       "Matrix([\n",
       "[pi/2,    0],\n",
       "[   0, pi/2]])"
      ]
     },
     "execution_count": 94,
     "metadata": {},
     "output_type": "execute_result"
    }
   ],
   "source": [
    "iRqRqT = iQ - 2*iQDT - 2 * iDQ + 4 * iDQDT\n",
    "iRqRqT = sym.simplify(iRqRqT)\n",
    "iRqRqT"
   ]
  },
  {
   "cell_type": "code",
   "execution_count": 100,
   "id": "90bc465e-5864-461d-86f9-0c08332a639c",
   "metadata": {},
   "outputs": [
    {
     "data": {
      "text/latex": [
       "$\\displaystyle \\left[\\begin{matrix}\\frac{\\pi \\left(\\cos{\\left(2 \\alpha \\right)} + 2\\right)}{8} & \\frac{\\pi \\sin{\\left(2 \\alpha \\right)}}{8}\\\\\\frac{\\pi \\sin{\\left(2 \\alpha \\right)}}{8} & \\frac{\\pi \\left(2 - \\cos{\\left(2 \\alpha \\right)}\\right)}{8}\\end{matrix}\\right]$"
      ],
      "text/plain": [
       "Matrix([\n",
       "[pi*(cos(2*alpha) + 2)/8,       pi*sin(2*alpha)/8],\n",
       "[      pi*sin(2*alpha)/8, pi*(2 - cos(2*alpha))/8]])"
      ]
     },
     "execution_count": 100,
     "metadata": {},
     "output_type": "execute_result"
    }
   ],
   "source": [
    "iqTd2RqRqT = iqTd2Q - 2 * iqTd2QD - 2 * iqTd2DQ + 4 * iqTd2DQDT\n",
    "iqTd2RqRqT = sym.simplify(iqTd2RqRqT)\n",
    "iqTd2RqRqT"
   ]
  },
  {
   "cell_type": "markdown",
   "id": "57538c79-4446-4b3c-ab5a-0b0ebeb419a8",
   "metadata": {},
   "source": [
    "## Plate Normalization Derivation"
   ]
  },
  {
   "cell_type": "markdown",
   "id": "23729a61-d2ee-42f0-bf8e-c13c4ddb1ce5",
   "metadata": {},
   "source": [
    "$$\n",
    "\\mathbf{M} = \n",
    "\\begin{bmatrix}\n",
    "\\cos(2\\alpha)+2 & \\sin(2\\alpha)\\\\\n",
    "\\sin(2\\alpha) & 2 - \\cos(2\\alpha)\n",
    "\\end{bmatrix}\n",
    "$$"
   ]
  },
  {
   "cell_type": "code",
   "execution_count": 109,
   "id": "67683fb7-111c-42fb-b7b3-37a730454cad",
   "metadata": {},
   "outputs": [
    {
     "data": {
      "text/latex": [
       "$\\displaystyle \\left[\\begin{matrix}\\cos{\\left(2 \\alpha \\right)} + 2 & \\sin{\\left(2 \\alpha \\right)}\\\\\\sin{\\left(2 \\alpha \\right)} & 2 - \\cos{\\left(2 \\alpha \\right)}\\end{matrix}\\right]$"
      ],
      "text/plain": [
       "Matrix([\n",
       "[cos(2*alpha) + 2,     sin(2*alpha)],\n",
       "[    sin(2*alpha), 2 - cos(2*alpha)]])"
      ]
     },
     "execution_count": 109,
     "metadata": {},
     "output_type": "execute_result"
    }
   ],
   "source": [
    "cos_2alpha = sym.cos(2 * alpha)\n",
    "sin_2alpha = sym.sin(2 * alpha)\n",
    "M = sym.Matrix([[cos_2alpha + 2, sin_2alpha], [sin_2alpha, 2 - cos_2alpha]])\n",
    "M"
   ]
  },
  {
   "cell_type": "code",
   "execution_count": 111,
   "id": "d1aecf1b-417e-4a67-bf0b-6495cfc6b26a",
   "metadata": {},
   "outputs": [
    {
     "data": {
      "text/latex": [
       "$\\displaystyle \\left[\\begin{matrix}4 \\pi & 0\\\\0 & 4 \\pi\\end{matrix}\\right]$"
      ],
      "text/plain": [
       "Matrix([\n",
       "[4*pi,    0],\n",
       "[   0, 4*pi]])"
      ]
     },
     "execution_count": 111,
     "metadata": {},
     "output_type": "execute_result"
    }
   ],
   "source": [
    "iM = sym.integrate(M, (alpha, -sym.pi, sym.pi))\n",
    "iM"
   ]
  },
  {
   "cell_type": "markdown",
   "id": "a5aa4c38-f7c5-449f-aab2-3bfae176fc01",
   "metadata": {},
   "source": [
    "$$\n",
    "\\int_0^\\infty \\int_{-\\pi}^\\pi\\bar{\\mathbf{P}}(\\mathbf{v}, \\mathbf{r}, \\sigma) = \\frac{\\mathbf{I}}{\\sigma_1^2 + \\sigma_2^2}\\int_0^\\infty \\left(\\ell^2e^{-\\frac{\\ell^2}{\\sigma_1^2}} - \\pi\\ell^2 e^{-\\frac{\\ell^2}{\\sigma_1^2}} + \\pi\\ell^2 e^{-\\frac{\\ell^2}{\\sigma_2^2}}\n",
    "\\right)  \\, d\\ell\n",
    "$$"
   ]
  },
  {
   "cell_type": "code",
   "execution_count": 135,
   "id": "dbbddbf5-a8cb-4841-90bd-99a453b50b6d",
   "metadata": {},
   "outputs": [
    {
     "data": {
      "text/latex": [
       "$\\displaystyle l^{2} e^{- \\frac{l^{2}}{\\sigma_{2}^{2}}}$"
      ],
      "text/plain": [
       "l**2*exp(-l**2/sigma_2**2)"
      ]
     },
     "execution_count": 135,
     "metadata": {},
     "output_type": "execute_result"
    }
   ],
   "source": [
    "l = sym.symbols(\"l\")\n",
    "a = sym.symbols(\"sigma_1\")\n",
    "b = sym.symbols(\"sigma_2\")\n",
    "La = l*l*sym.exp(-l*l/(a*a))\n",
    "Lb = l*l*sym.exp(-l*l/(b*b))\n",
    "Lb"
   ]
  },
  {
   "cell_type": "code",
   "execution_count": 138,
   "id": "3e1d7d9a-8024-47bc-89e7-a638dba3385a",
   "metadata": {},
   "outputs": [
    {
     "data": {
      "text/latex": [
       "$\\displaystyle - \\frac{l \\sigma_{1}^{2} e^{- \\frac{l^{2}}{\\sigma_{1}^{2}}}}{2} + \\frac{\\pi l \\sigma_{1}^{2} e^{- \\frac{l^{2}}{\\sigma_{1}^{2}}}}{2} - \\frac{\\pi l \\sigma_{2}^{2} e^{- \\frac{l^{2}}{\\sigma_{2}^{2}}}}{2} - \\frac{\\pi^{\\frac{3}{2}} \\sigma_{1}^{4} \\sqrt{\\frac{1}{\\sigma_{1}^{2}}} \\operatorname{erf}{\\left(l \\sqrt{\\frac{1}{\\sigma_{1}^{2}}} \\right)}}{4} + \\frac{\\sqrt{\\pi} \\sigma_{1}^{4} \\sqrt{\\frac{1}{\\sigma_{1}^{2}}} \\operatorname{erf}{\\left(l \\sqrt{\\frac{1}{\\sigma_{1}^{2}}} \\right)}}{4} + \\frac{\\pi^{\\frac{3}{2}} \\sigma_{2}^{2} \\operatorname{erf}{\\left(l \\sqrt{\\frac{1}{\\sigma_{2}^{2}}} \\right)}}{4 \\sqrt{\\frac{1}{\\sigma_{2}^{2}}}}$"
      ],
      "text/plain": [
       "-l*sigma_1**2*exp(-l**2/sigma_1**2)/2 + pi*l*sigma_1**2*exp(-l**2/sigma_1**2)/2 - pi*l*sigma_2**2*exp(-l**2/sigma_2**2)/2 - pi**(3/2)*sigma_1**4*sqrt(sigma_1**(-2))*erf(l*sqrt(sigma_1**(-2)))/4 + sqrt(pi)*sigma_1**4*sqrt(sigma_1**(-2))*erf(l*sqrt(sigma_1**(-2)))/4 + pi**(3/2)*sigma_2**2*erf(l*sqrt(sigma_2**(-2)))/(4*sqrt(sigma_2**(-2)))"
      ]
     },
     "execution_count": 138,
     "metadata": {},
     "output_type": "execute_result"
    }
   ],
   "source": [
    "iLa = sym.integrate(La, l)\n",
    "iLb = sym.integrate(Lb, l)\n",
    "iL = (iLa - sym.pi * iLa + sym.pi * iLb)\n",
    "iL = sym.simplify(iL)\n",
    "iL"
   ]
  },
  {
   "cell_type": "code",
   "execution_count": null,
   "id": "91979274-58af-49ec-b7c8-ea5b1a93c97f",
   "metadata": {},
   "outputs": [],
   "source": []
  }
 ],
 "metadata": {
  "kernelspec": {
   "display_name": "Python 3 (ipykernel)",
   "language": "python",
   "name": "python3"
  },
  "language_info": {
   "codemirror_mode": {
    "name": "ipython",
    "version": 3
   },
   "file_extension": ".py",
   "mimetype": "text/x-python",
   "name": "python",
   "nbconvert_exporter": "python",
   "pygments_lexer": "ipython3",
   "version": "3.12.2"
  }
 },
 "nbformat": 4,
 "nbformat_minor": 5
}
