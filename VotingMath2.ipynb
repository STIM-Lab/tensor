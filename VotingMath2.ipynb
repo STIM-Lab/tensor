{
 "cells": [
  {
   "cell_type": "markdown",
   "id": "990435d2-b579-458e-b1d7-439dc233e8a3",
   "metadata": {},
   "source": [
    "## 2D Tensor Voting\n",
    "\n",
    "$$\n",
    "\\mathbf{V}=\\text{sign}(\\lambda_1)(\\left|\\lambda_1\\right| - \\left|\\lambda_0\\right|) \\mathbf{S}(\\mathbf{v}, \\mathbf{r}, \\mathbf{q}, \\sigma) + \\lambda_0 \\mathbf{P}(\\mathbf{v}, \\mathbf{r}, \\sigma)\n",
    "$$\n",
    "Where:\n",
    "* $\\mathbf{V}\\in \\mathbb{R}^{2\\times 2}$ is the tensor result after voting\n",
    "* $\\mathbf{S}\\in \\mathbb{R}^{2\\times 2}$ is the result of stick tensor voting\n",
    "* $\\mathbf{P}\\in \\mathbb{R}^{2\\times 2}$ is the result of plate tensor voting\n",
    "* $\\mathbf{q}\\in \\mathbb{R}^{2}$ is the unit vector specifying the stick tensor (voter) orientation\n",
    "* $\\mathbf{v}\\in \\mathbb{R}^{2}$ is the voter position and $\\mathbf{r}\\in \\mathbb{R}^{2}$ is the receiver\n",
    "* $\\sigma$ is the attenuation factor\n",
    "* $\\lambda_0$ is the small eigenvalue and $\\lambda_1$ is the large eigenvalue of the voter tensor"
   ]
  },
  {
   "cell_type": "markdown",
   "id": "f679d464-4fa1-4950-a329-3072660c6bea",
   "metadata": {},
   "source": [
    "## Stick Tensor\n",
    "\n",
    "$$\n",
    "\\mathbf{S}(\\mathbf{v}, \\mathbf{r}, \\mathbf{q}, \\sigma) = \\eta(\\sigma_1, \\sigma_2, p) D(\\mathbf{v}, \\mathbf{r}, \\mathbf{q}, \\sigma_1, \\sigma_2, p) (\\mathbf{R}\\mathbf{q})(\\mathbf{R}\\mathbf{q})^T\n",
    "$$\n",
    "where $\\mathbf{R}$ is a rotation matrix specifying the orientation of the receiver relative to the voter:\n",
    "$$\n",
    "\\mathbf{R} = \\mathbf{I} - 2\\mathbf{d}\\mathbf{d}^T\n",
    "$$\n",
    "where $\\mathbf{d} = \\frac{\\mathbf{v} - \\mathbf{r}}{\\ell}$ is the direction from the voter to receiver and $\\ell = ||\\mathbf{v} - \\mathbf{r}||$ is the distance."
   ]
  },
  {
   "cell_type": "markdown",
   "id": "62f16926-e673-46a8-ba3e-ba8bcdbe4d10",
   "metadata": {},
   "source": [
    "### Decay Function\n",
    "The decay function describes magnitude of the vote at the receiver:\n",
    "$$\n",
    "D(\\mathbf{v}, \\mathbf{r}, \\mathbf{q}, \\sigma_1, \\sigma_2, p)=e^{-\\frac{\\ell^2}{\\sigma_1^2}}\\left[ 1 - (\\mathbf{q}^T\\mathbf{d})^2 \\right]^p + e^{-\\frac{\\ell^2}{\\sigma_2^2}}(\\mathbf{q}^T\\mathbf{d})^{2p}\n",
    "$$\n",
    "where\n",
    "* $\\sigma_1$ is the standard deviation of the decay orthogonal to $\\mathbf{q}$\n",
    "* $\\sigma_2$ is the standard deviation of the decay in the direction of $\\mathbf{q}$\n",
    "* $p$ is a refinement term that specifies the *spread* of the vote\n",
    "\n",
    "Alternatively, the decay function may be represented using trigonometric functions:\n",
    "$$\n",
    "D(\\theta, \\ell, \\sigma_1, \\sigma_2, p)=e^{-\\frac{\\ell^2}{\\sigma_1^2}} \\sin^{2p} \\theta + e^{-\\frac{\\ell^2}{\\sigma_2^{2}}}\\cos^{2p}\\theta\n",
    "$$\n",
    "where $\\theta=\\cos^{-1}\\left(\\mathbf{q}^T\\mathbf{d}\\right)$."
   ]
  },
  {
   "cell_type": "markdown",
   "id": "7534c1f5-3925-4618-a86b-c70207887c51",
   "metadata": {},
   "source": [
    "### Normalization Term\n",
    "The normalization term ensures that the integral of the plate tensor voting field is 1, and therefore no additional energy is added or taken away from the image:\n",
    "$$\n",
    "\\eta(\\sigma_1, \\sigma_2, p) = \\left[ \\frac{\\pi(2p)!}{2^{2p}(p!)^2}\\left(\\sigma_1^2 + \\sigma_2^2\\right) \\right]^{-1}\n",
    "$$"
   ]
  },
  {
   "cell_type": "markdown",
   "id": "0ca083d5-a379-4bc1-930b-b9ed3d853c94",
   "metadata": {},
   "source": [
    "## Plate Tensor\n",
    "The plate tensor vote field is given by:\n",
    "$$\n",
    "\\mathbf{P}(\\mathbf{v}, \\mathbf{r}, \\sigma) = \\frac{1}{\\pi(\\sigma_1^2 + \\sigma_2^2)}   \\left(e^{-\\frac{\\ell^2}{\\sigma_1^2}}\\left(\\mathbf{I} - \\frac{1}{4}\n",
    "\\mathbf{M}\n",
    "\\right) + e^{-\\frac{\\ell^2}{\\sigma_2^2}}\\frac{1}{4}\n",
    "\\mathbf{M}\n",
    "\\right)\n",
    "$$\n",
    "where $\\alpha = \\tan^{-1}\\frac{d_y}{d_x}$ and\n",
    "$$\n",
    "\\mathbf{M} = \n",
    "\\begin{bmatrix}\n",
    "\\cos(2\\alpha)+2 & \\sin(2\\alpha)\\\\\n",
    "\\sin(2\\alpha) & 2 - \\cos(2\\alpha)\n",
    "\\end{bmatrix}\n",
    "$$"
   ]
  },
  {
   "cell_type": "markdown",
   "id": "97ce941f-5b02-4937-b01f-1b212c016953",
   "metadata": {},
   "source": [
    "---"
   ]
  },
  {
   "cell_type": "markdown",
   "id": "de1d1c96-d896-4c38-81e4-be434edfca60",
   "metadata": {},
   "source": [
    "## Stick Normalization Derivation\n",
    "The normalization factor $\\eta$ scales the decay function by the inverse of its integral:\n",
    "$$\n",
    "\\eta(\\sigma_1, \\sigma_2, p) = \\int_0^\\infty \\int_0^{2\\pi} D(\\mathbf{v}, \\mathbf{r}, \\mathbf{q}, \\sigma_1, \\sigma_2, p)\\ell \\, d\\theta \\, d\\ell\n",
    "$$\n",
    "This term can be readily calculated using the trigonometric representation of $D$ and evaluating the double integral in polar coordinates:\n",
    "$$\n",
    "\\int_0^\\infty \\int_0^{2\\pi} D(\\theta, \\ell, \\sigma_1, \\sigma_2)\\ell \\, d\\theta \\, d\\ell = \\int_0^\\infty\\int_0^{2\\pi} \\left[e^{-\\frac{\\ell^2}{\\sigma_1^2}} \\sin^{2p} \\theta + e^{-\\frac{\\ell^2}{\\sigma_2^{2}}}\\cos^{2p}\\theta\\right]\\ell \\, d\\theta \\, d\\ell\n",
    "$$\n",
    "Separating the variables, we get the following definite integrals:\n",
    "$$\n",
    "= \\int_0^\\infty  e^{-\\frac{\\ell^2}{\\sigma_1^2}}\\ell \\, d\\ell \\int_0^{2\\pi}\\sin^{2p} \\theta \\, d\\theta + \\int_0^\\infty e^{-\\frac{\\ell^2}{\\sigma_2^2}}\\ell \\, d\\ell \\int_0^{2\\pi}\\cos^{2p}\\theta \\, d\\theta\n",
    "$$\n",
    "where the first integral across $\\ell$ can be solved as the integral of a Gaussian:\n",
    "$$\n",
    " \\int_0^\\infty  e^{-\\frac{\\ell^2}{\\sigma^2}}\\ell \\, d\\ell =  \\frac{\\sigma^2}{2}\n",
    "$$\n",
    "and both trigonometric integrals are equal since they integrate across the entire circle:\n",
    "$$\n",
    "\\int_0^{2\\pi} \\left(\\sin^{2}\\theta\\right)^p \\, d\\theta = \\int_0^{2\\pi} \\left(\\cos^{2}\\theta\\right)^p \\, d\\theta = \\frac{2\\pi(2p)!}{2^{2p}(p!)^2}\n",
    "$$\n",
    "The final normalization factor is given by:\n",
    "$$\n",
    "\\eta(\\sigma_1, \\sigma_2, p) = \\left[ \\frac{\\pi(2p)!}{2^{2p}(p!)^2}\\left(\\sigma_1^2 + \\sigma_2^2\\right) \\right]^{-1}\n",
    "$$"
   ]
  },
  {
   "cell_type": "code",
   "execution_count": 1,
   "id": "1662948f-c693-4a6c-83ae-2db10aceae08",
   "metadata": {},
   "outputs": [],
   "source": [
    "import matplotlib.pyplot as plt\n",
    "import numpy as np\n",
    "import sympy as sym\n",
    "\n",
    "theta = sym.symbols(\"theta\")\n",
    "phi = sym.symbols(\"phi\")\n",
    "\n",
    "alpha = sym.symbols(\"alpha\")\n",
    "beta = sym.symbols(\"beta\")\n",
    "\n",
    "sin_theta = sym.sin(theta) #sympify(\"(exp(I*theta)-exp(-I*theta))/(2*I)\")\n",
    "cos_theta = sym.cos(theta) #sympify(\"(exp(I*theta)+exp(-I*theta))/(2)\")\n",
    "\n",
    "sin_phi = sym.sin(phi) #sympify(\"(exp(I*phi)-exp(-I*phi))/(2*I)\")\n",
    "cos_phi = sym.cos(phi) #sympify(\"(exp(I*phi)+exp(-I*phi))/(2)\")\n",
    "\n",
    "sin_alpha = sym.sin(alpha) #sympify(\"(exp(I*alpha)-exp(-I*alpha))/(2*I)\")\n",
    "cos_alpha = sym.cos(alpha) #sympify(\"(exp(I*alpha)+exp(-I*alpha))/(2)\")\n",
    "\n",
    "sin_beta = sym.sin(beta) #sympify(\"(exp(I*beta)-exp(-I*beta))/(2*I)\")\n",
    "cos_beta = sym.cos(beta) #sympify(\"(exp(I*beta)+exp(-I*beta))/(2)\")\n",
    "\n",
    "sigma1, sigma2, l = sym.symbols(\"sigma_1, sigma_2, l\")\n",
    "n = sym.symbols(\"n\")"
   ]
  },
  {
   "cell_type": "markdown",
   "id": "c649699c",
   "metadata": {},
   "source": [
    "## Plate Tensor Derivation\n",
    "\n",
    "The integral for a plate tensor is given by:\n",
    "$$\n",
    "\\mathbf{P}(\\mathbf{v}, \\mathbf{r}, \\sigma) = \\int_{0}^\\pi \\mathbf{S}(\\mathbf{v}, \\mathbf{r}, \\mathbf{q}, \\sigma) \\,d\\beta=  \\int_{0}^\\pi \\eta(\\sigma_1, \\sigma_2, 1) D(\\mathbf{v}, \\mathbf{r}, \\mathbf{q}, \\sigma_1, \\sigma_2, 1) (\\mathbf{R}\\mathbf{q})(\\mathbf{R}\\mathbf{q})^T \\, d\\beta\n",
    "$$\n",
    "where\n",
    "$$\n",
    "\\mathbf{d}=\n",
    "\\begin{bmatrix}\n",
    "\\cos\\alpha \\\\\n",
    "\\sin\\alpha\n",
    "\\end{bmatrix}\n",
    "\\quad\n",
    "\\quad\n",
    "\\mathbf{q}=\n",
    "\\begin{bmatrix}\n",
    "\\cos\\beta \\\\\n",
    "\\sin\\beta\n",
    "\\end{bmatrix}\n",
    "$$\n",
    "We will assume that $p=1$, since the refinement term doesn't really make sense for a plate tensor in 2D:\n",
    "$$\n",
    "= \\eta(\\sigma_1, \\sigma_2, 1) \\left(e^{-\\frac{\\ell^2}{\\sigma_1^2}}\\int_0^\\pi  \\left(1 - \\left(\\mathbf{q}^T\\mathbf{d}\\right)^2\\right) (\\mathbf{R}\\mathbf{q})(\\mathbf{R}\\mathbf{q})^T \\, d\\beta + e^{-\\frac{\\ell^2}{\\sigma_2^2}}\\int_0^\\pi \\left(\\mathbf{q}^T\\mathbf{d}\\right)^2(\\mathbf{R}\\mathbf{q})(\\mathbf{R}\\mathbf{q})^T \\, d\\beta\\right)\n",
    "$$\n",
    "$$\n",
    "= \\eta(\\sigma_1, \\sigma_2, 1) \\left(e^{-\\frac{\\ell^2}{\\sigma_1^2}}\\left(\\int_0^\\pi   (\\mathbf{R}\\mathbf{q})(\\mathbf{R}\\mathbf{q})^T \\, d\\beta - \\int_0^\\pi \\left(\\mathbf{q}^T\\mathbf{d}\\right)^2 (\\mathbf{R}\\mathbf{q})(\\mathbf{R}\\mathbf{q})^T \\, d\\beta\\right) + e^{-\\frac{\\ell^2}{\\sigma_2^2}}\\int_0^\\pi \\left(\\mathbf{q}^T\\mathbf{d}\\right)^2(\\mathbf{R}\\mathbf{q})(\\mathbf{R}\\mathbf{q})^T \\, d\\beta\\right)\n",
    "$$\n"
   ]
  },
  {
   "cell_type": "markdown",
   "id": "1bf9077d-9124-414d-8c99-9a2a127e2c79",
   "metadata": {},
   "source": [
    "where $\\mathbf{R}=\\mathbf{I}-2\\mathbf{d}\\mathbf{d}^T$. Combining the outer products into symmetric matrices: $\\mathbf{Q}=\\mathbf{q}\\mathbf{q}^T$ and $\\mathbf{D}=\\mathbf{d}\\mathbf{d}^T$, we can expand the term:\n",
    "$$\n",
    "(\\mathbf{R}\\mathbf{q})(\\mathbf{R}\\mathbf{q})^T = (\\mathbf{I}-2\\mathbf{D})\\mathbf{Q}(\\mathbf{I}-2\\mathbf{D})\n",
    "$$\n",
    "$$\n",
    "=(\\mathbf{I}\\mathbf{Q}-2\\mathbf{D}\\mathbf{Q})(\\mathbf{I}-2\\mathbf{D})\n",
    "$$\n",
    "$$\n",
    "=\\mathbf{I}\\mathbf{Q}\\mathbf{I}-2\\mathbf{I}\\mathbf{Q}\\mathbf{D}^T-2\\mathbf{D}\\mathbf{Q}\\mathbf{I}+4\\mathbf{D}\\mathbf{Q}\\mathbf{D}^T\n",
    "$$\n",
    "$$\n",
    "=\\mathbf{Q}-2\\mathbf{Q}\\mathbf{D}^T-2\\mathbf{D}\\mathbf{Q}+4\\mathbf{D}\\mathbf{Q}\\mathbf{D}^T\n",
    "$$\n",
    "where\n",
    "$$\n",
    "\\mathbf{D}=\n",
    "\\begin{bmatrix}\n",
    "\\cos^2\\alpha & \\sin\\alpha \\cos\\alpha\\\\\n",
    "\\sin\\alpha \\cos\\alpha & \\sin^2\\alpha\n",
    "\\end{bmatrix}\n",
    "\\quad\n",
    "\\quad\n",
    "\\mathbf{Q}=\n",
    "\\begin{bmatrix}\n",
    "\\cos^2\\beta & \\sin\\beta \\cos\\beta\\\\\n",
    "\\sin\\beta \\cos\\beta & \\sin^2\\beta\n",
    "\\end{bmatrix}\n",
    "$$"
   ]
  },
  {
   "cell_type": "markdown",
   "id": "14b8d507-7d75-49fe-bc45-5c34b341a143",
   "metadata": {},
   "source": [
    "The two critical terms to be integrated are:\n",
    "$$\n",
    "(\\mathbf{R}\\mathbf{q})(\\mathbf{R}\\mathbf{q})^T=\\mathbf{Q}-2\\mathbf{Q}\\mathbf{D}^T-2\\mathbf{D}\\mathbf{Q}+4\\mathbf{D}\\mathbf{Q}\\mathbf{D}^T\n",
    "$$\n",
    "and\n",
    "$$\n",
    "(\\mathbf{q}^T \\mathbf{d})^2(\\mathbf{R}\\mathbf{q})(\\mathbf{R}\\mathbf{q})^T = (\\mathbf{q}^T \\mathbf{d})^2\\mathbf{Q} - 2(\\mathbf{q}^T \\mathbf{d})^2\\mathbf{Q}\\mathbf{D} - 2(\\mathbf{q}^T \\mathbf{d})^2\\mathbf{D}\\mathbf{Q} + 4(\\mathbf{q}^T \\mathbf{d})^2\\mathbf{D}\\mathbf{Q}\\mathbf{D}^T\n",
    "$$"
   ]
  },
  {
   "cell_type": "markdown",
   "id": "06d2d69a-93af-404e-a6ef-f2929f2c06e0",
   "metadata": {},
   "source": [
    "Integrating each of these sub-terms across $\\beta$ yields:\n",
    "$$\n",
    "\\int_0^\\pi\\mathbf{Q}d\\theta = \\left[\\begin{matrix}\\frac{\\pi}{2} & 0\\\\0 & \\frac{\\pi}{2}\\end{matrix}\\right]\n",
    "$$"
   ]
  },
  {
   "cell_type": "markdown",
   "id": "309d65b2-6a3d-40d2-91e3-efb0bb37361e",
   "metadata": {},
   "source": [
    "$$\n",
    "\\int_0^\\pi\\mathbf{Q}\\mathbf{D}^T\\, d\\theta = \\left[\\begin{matrix}\\frac{\\pi \\cos^{2}{\\left(\\alpha \\right)}}{2} & \\frac{\\pi \\sin{\\left(2 \\alpha \\right)}}{4}\\\\\\frac{\\pi \\sin{\\left(2 \\alpha \\right)}}{4} & \\frac{\\pi \\sin^{2}{\\left(\\alpha \\right)}}{2}\\end{matrix}\\right]\n",
    "$$"
   ]
  },
  {
   "cell_type": "markdown",
   "id": "a854e23b-7c44-4c69-a075-9fddff82f966",
   "metadata": {},
   "source": [
    "$$\n",
    "\\int_0^\\pi\\mathbf{D}\\mathbf{Q}\\, d\\theta = \\left[\\begin{matrix}\\frac{\\pi \\cos^{2}{\\left(\\alpha \\right)}}{2} & \\frac{\\pi \\sin{\\left(2 \\alpha \\right)}}{4}\\\\\\frac{\\pi \\sin{\\left(2 \\alpha \\right)}}{4} & \\frac{\\pi \\sin^{2}{\\left(\\alpha \\right)}}{2}\\end{matrix}\\right]\n",
    "$$"
   ]
  },
  {
   "cell_type": "markdown",
   "id": "eb616b71-d36b-4ef9-a11e-b55ce0580277",
   "metadata": {},
   "source": [
    "$$\n",
    "\\int_0^\\pi \\mathbf{D}\\mathbf{Q}\\mathbf{D}^T \\, d\\theta = \\left[\\begin{matrix}\\frac{\\pi \\cos^{2}{\\left(\\alpha \\right)}}{2} & \\frac{\\pi \\sin{\\left(2 \\alpha \\right)}}{4}\\\\\\frac{\\pi \\sin{\\left(2 \\alpha \\right)}}{4} & \\frac{\\pi \\sin^{2}{\\left(\\alpha \\right)}}{2}\\end{matrix}\\right]\n",
    "$$"
   ]
  },
  {
   "cell_type": "markdown",
   "id": "3c423d2d-729c-4e25-b5ed-c9ce02a60705",
   "metadata": {},
   "source": [
    "$$\n",
    "\\int_0^\\pi(\\mathbf{q}^T \\mathbf{d})^2\\mathbf{Q}\\, d\\theta = \\left[\\begin{matrix}\\frac{\\pi \\left(\\cos{\\left(2 \\alpha \\right)} + 2\\right)}{8} & \\frac{\\pi \\sin{\\left(2 \\alpha \\right)}}{8}\\\\\\frac{\\pi \\sin{\\left(2 \\alpha \\right)}}{8} & \\frac{\\pi \\left(2 - \\cos{\\left(2 \\alpha \\right)}\\right)}{8}\\end{matrix}\\right]\n",
    "$$"
   ]
  },
  {
   "cell_type": "markdown",
   "id": "1fc00c27-4595-440c-8dda-982254b41fea",
   "metadata": {},
   "source": [
    "$$\n",
    "\\int_0^\\pi(\\mathbf{q}^T \\mathbf{d})^2\\mathbf{Q}\\mathbf{D}\\, d\\theta = \\left[\\begin{matrix}\\frac{3 \\pi \\cos^{2}{\\left(\\alpha \\right)}}{8} & \\frac{3 \\pi \\sin{\\left(2 \\alpha \\right)}}{16}\\\\\\frac{3 \\pi \\sin{\\left(2 \\alpha \\right)}}{16} & \\frac{3 \\pi \\sin^{2}{\\left(\\alpha \\right)}}{8}\\end{matrix}\\right]\n",
    "$$"
   ]
  },
  {
   "cell_type": "markdown",
   "id": "63941a62-c6b1-4cf0-99ba-8bfc9b820e49",
   "metadata": {},
   "source": [
    "$$\n",
    "\\int_0^\\pi(\\mathbf{q}^T \\mathbf{d})^2\\mathbf{D}\\mathbf{Q}\\, d\\theta = \\left[\\begin{matrix}\\frac{3 \\pi \\cos^{2}{\\left(\\alpha \\right)}}{8} & \\frac{3 \\pi \\sin{\\left(2 \\alpha \\right)}}{16}\\\\\\frac{3 \\pi \\sin{\\left(2 \\alpha \\right)}}{16} & \\frac{3 \\pi \\sin^{2}{\\left(\\alpha \\right)}}{8}\\end{matrix}\\right]\n",
    "$$"
   ]
  },
  {
   "cell_type": "markdown",
   "id": "4d29d494-b704-46f5-8dfc-81d60b3ab169",
   "metadata": {},
   "source": [
    "$$\n",
    "\\int_0^\\pi(\\mathbf{q}^T \\mathbf{d})^2\\mathbf{D}\\mathbf{Q}\\mathbf{D}^T\\, d\\theta = \\left[\\begin{matrix}\\frac{3 \\pi \\cos^{2}{\\left(\\alpha \\right)}}{8} & \\frac{3 \\pi \\sin{\\left(2 \\alpha \\right)}}{16}\\\\\\frac{3 \\pi \\sin{\\left(2 \\alpha \\right)}}{16} & \\frac{3 \\pi \\sin^{2}{\\left(\\alpha \\right)}}{8}\\end{matrix}\\right]\n",
    "$$"
   ]
  },
  {
   "cell_type": "markdown",
   "id": "9004bfa7-e7d2-4c10-99a6-f388a4a637f6",
   "metadata": {},
   "source": [
    "Collecting these terms and simplifying we get:\n",
    "$$\n",
    "\\int_0^\\pi(\\mathbf{R}\\mathbf{q})(\\mathbf{R}\\mathbf{q})^T\\, d\\theta = \\left[\\begin{matrix}\\frac{\\pi}{2} & 0\\\\0 & \\frac{\\pi}{2}\\end{matrix}\\right]\n",
    "$$"
   ]
  },
  {
   "cell_type": "markdown",
   "id": "4e7f447b-8a30-46d6-a6f6-452749fcdb4d",
   "metadata": {},
   "source": [
    "$$\n",
    "\\int_0^\\pi (\\mathbf{q}^T \\mathbf{d})^2(\\mathbf{R}\\mathbf{q})(\\mathbf{R}\\mathbf{q})^T \\, d\\theta = \\left[\\begin{matrix}\\frac{\\pi \\left(\\cos{\\left(2 \\alpha \\right)} + 2\\right)}{8} & \\frac{\\pi \\sin{\\left(2 \\alpha \\right)}}{8}\\\\\\frac{\\pi \\sin{\\left(2 \\alpha \\right)}}{8} & \\frac{\\pi \\left(2 - \\cos{\\left(2 \\alpha \\right)}\\right)}{8}\\end{matrix}\\right]\n",
    "$$"
   ]
  },
  {
   "cell_type": "markdown",
   "id": "b1a4ddec-c7de-46e6-a406-ec50ff4db0f8",
   "metadata": {},
   "source": [
    "Substituting both of these matrices into the full plate tensor equation yields:\n",
    "$$\n",
    "\\mathbf{P}(\\mathbf{v}, \\mathbf{r}, \\sigma) = \\eta(\\sigma_1, \\sigma_2, 1)  \\left(e^{-\\frac{\\ell^2}{\\sigma_1^2}}\\left(\\int_0^\\pi   (\\mathbf{R}\\mathbf{q})(\\mathbf{R}\\mathbf{q})^T \\, d\\beta - \\int_0^\\pi \\left(\\mathbf{q}^T\\mathbf{d}\\right)^2 (\\mathbf{R}\\mathbf{q})(\\mathbf{R}\\mathbf{q})^T \\, d\\beta\\right) + e^{-\\frac{\\ell^2}{\\sigma_2^2}}\\int_0^\\pi \\left(\\mathbf{q}^T\\mathbf{d}\\right)^2(\\mathbf{R}\\mathbf{q})(\\mathbf{R}\\mathbf{q})^T \\, d\\beta\\right)\n",
    "$$"
   ]
  },
  {
   "cell_type": "markdown",
   "id": "8b61d6ab-c92b-4ef3-beda-4ff4010fba83",
   "metadata": {},
   "source": [
    "$$\n",
    "= \\eta(\\sigma_1, \\sigma_2, 1)  \\left(e^{-\\frac{\\ell^2}{\\sigma_1^2}}\\left(\\left[\\begin{matrix}\\frac{\\pi}{2} & 0\\\\0 & \\frac{\\pi}{2}\\end{matrix}\\right] - \\left[\\begin{matrix}\\frac{\\pi \\left(\\cos{\\left(2 \\alpha \\right)} + 2\\right)}{8} & \\frac{\\pi \\sin{\\left(2 \\alpha \\right)}}{8}\\\\\\frac{\\pi \\sin{\\left(2 \\alpha \\right)}}{8} & \\frac{\\pi \\left(2 - \\cos{\\left(2 \\alpha \\right)}\\right)}{8}\\end{matrix}\\right]\\right) + e^{-\\frac{\\ell^2}{\\sigma_2^2}}\\left[\\begin{matrix}\\frac{\\pi \\left(\\cos{\\left(2 \\alpha \\right)} + 2\\right)}{8} & \\frac{\\pi \\sin{\\left(2 \\alpha \\right)}}{8}\\\\\\frac{\\pi \\sin{\\left(2 \\alpha \\right)}}{8} & \\frac{\\pi \\left(2 - \\cos{\\left(2 \\alpha \\right)}\\right)}{8}\\end{matrix}\\right]\\right)\n",
    "$$"
   ]
  },
  {
   "cell_type": "markdown",
   "id": "3c8b3e62-08a6-42e8-9b75-b60f21c3a64a",
   "metadata": {},
   "source": [
    "$$\n",
    "= \\eta(\\sigma_1, \\sigma_2, 1) \\frac{\\pi}{2}   \\left(e^{-\\frac{\\ell^2}{\\sigma_1^2}}\\left(\\mathbf{I} - \\frac{1}{4}\n",
    "\\begin{bmatrix}\n",
    "\\cos(2\\alpha)+2 & \\sin(2\\alpha)\\\\\n",
    "\\sin(2\\alpha) & 2 - \\cos(2\\alpha)\n",
    "\\end{bmatrix}\\right) + e^{-\\frac{\\ell^2}{\\sigma_2^2}}\\frac{1}{4}\n",
    "\\begin{bmatrix}\n",
    "\\cos(2\\alpha)+2 & \\sin(2\\alpha)\\\\\n",
    "\\sin(2\\alpha) & 2 - \\cos(2\\alpha)\n",
    "\\end{bmatrix}\\right)\n",
    "$$"
   ]
  },
  {
   "cell_type": "markdown",
   "id": "fe55c5c8-6636-48fa-8057-d4e2ab8902ab",
   "metadata": {},
   "source": [
    "$$\n",
    "\\mathbf{P}(\\mathbf{v}, \\mathbf{r}, \\sigma) = \\left[ \\frac{2\\pi}{4}\\left(\\sigma_1^2 + \\sigma_2^2\\right) \\right]^{-1} \\frac{\\pi}{2}   \\left(e^{-\\frac{\\ell^2}{\\sigma_1^2}}\\left(\\mathbf{I} - \\frac{1}{4}\n",
    "\\mathbf{M}\n",
    "\\right) + e^{-\\frac{\\ell^2}{\\sigma_2^2}}\\frac{1}{4}\n",
    "\\mathbf{M}\n",
    "\\right)\n",
    "$$"
   ]
  },
  {
   "cell_type": "markdown",
   "id": "61748be5-f868-4575-8a6d-20f31681aa53",
   "metadata": {},
   "source": [
    "$$\n",
    "\\mathbf{P}(\\mathbf{v}, \\mathbf{r}, \\sigma) = \\frac{1}{\\sigma_1^2 + \\sigma_2^2}   \\left(e^{-\\frac{\\ell^2}{\\sigma_1^2}}\\left(\\mathbf{I} - \\frac{1}{4}\n",
    "\\mathbf{M}\n",
    "\\right) + e^{-\\frac{\\ell^2}{\\sigma_2^2}}\\frac{1}{4}\n",
    "\\mathbf{M}\n",
    "\\right)\n",
    "$$\n",
    "where\n",
    "$$\n",
    "\\mathbf{M} = \n",
    "\\begin{bmatrix}\n",
    "\\cos(2\\alpha)+2 & \\sin(2\\alpha)\\\\\n",
    "\\sin(2\\alpha) & 2 - \\cos(2\\alpha)\n",
    "\\end{bmatrix}\n",
    "$$"
   ]
  },
  {
   "cell_type": "markdown",
   "id": "a9928644-5a27-4a5f-aa9c-ce2420ecc706",
   "metadata": {},
   "source": [
    "### Plate Normalization Derivation\n",
    "The integral of the plate tensor decay is given by:\n",
    "$$\n",
    "\\int_0^\\infty \\int_{-\\pi}^\\pi\\mathbf{P}(\\mathbf{v}, \\mathbf{r}, \\sigma) = \\int_0^\\infty \\int_{-\\pi}^\\pi\\frac{\\ell}{\\sigma_1^2 + \\sigma_2^2}   \\left(e^{-\\frac{\\ell^2}{\\sigma_1^2}}\\left(\\mathbf{I} - \\frac{1}{4}\n",
    "\\mathbf{M}\n",
    "\\right) + e^{-\\frac{\\ell^2}{\\sigma_2^2}}\\frac{1}{4}\n",
    "\\mathbf{M}\n",
    "\\right)\\ell \\, d\\theta \\, d\\ell\n",
    "$$"
   ]
  },
  {
   "cell_type": "markdown",
   "id": "af8fa28c-4253-4d63-9d08-68fd9b1d9783",
   "metadata": {},
   "source": [
    "$$\n",
    "\\int_0^\\infty \\int_{-\\pi}^\\pi\\mathbf{P}(\\mathbf{v}, \\mathbf{r}, \\sigma) = \\int_0^\\infty \\frac{1}{\\sigma_1^2 + \\sigma_2^2}\\int_{-\\pi}^\\pi\\left(\\ell^2e^{-\\frac{\\ell^2}{\\sigma_1^2}}\\mathbf{I} - \\ell^2e^{-\\frac{\\ell^2}{\\sigma_1^2}}\\frac{1}{4}\n",
    "\\mathbf{M} + \\ell^2e^{-\\frac{\\ell^2}{\\sigma_2^2}}\\frac{1}{4}\n",
    "\\mathbf{M}\n",
    "\\right) \\, d\\theta \\, d\\ell\n",
    "$$"
   ]
  },
  {
   "cell_type": "markdown",
   "id": "f54d163b-cc46-492c-828a-fe66d3c506b0",
   "metadata": {},
   "source": [
    "$$\n",
    "\\int_0^\\infty \\int_{-\\pi}^\\pi\\mathbf{P}(\\mathbf{v}, \\mathbf{r}, \\sigma) = \\frac{2\\pi}{\\sigma_1^2 + \\sigma_2^2}\\int_0^\\infty \\left(\\ell^2e^{-\\frac{\\ell^2}{\\sigma_1^2}}\\mathbf{I} - \\ell^2e^{-\\frac{\\ell^2}{\\sigma_1^2}}\\frac{1}{4}\n",
    "\\mathbf{M} + \\ell^2e^{-\\frac{\\ell^2}{\\sigma_2^2}}\\frac{1}{4}\n",
    "\\mathbf{M}\n",
    "\\right) \\, d\\ell\n",
    "$$"
   ]
  },
  {
   "cell_type": "markdown",
   "id": "ce3ba2f4",
   "metadata": {},
   "source": [
    "## 2D Derivation"
   ]
  },
  {
   "cell_type": "code",
   "execution_count": 53,
   "id": "cd2e23f5",
   "metadata": {},
   "outputs": [],
   "source": [
    "# 2D implementation\n",
    "q = sym.Matrix([[cos_beta], [sin_beta]])\n",
    "d = sym.Matrix([[cos_alpha], [sin_alpha]])\n",
    "\n",
    "# define the D and Q matrices\n",
    "D = d * d.transpose()\n",
    "Q = q * q.transpose()"
   ]
  },
  {
   "cell_type": "code",
   "execution_count": 54,
   "id": "c2dffb61-b1b7-4b32-9671-7881474f16ed",
   "metadata": {},
   "outputs": [
    {
     "data": {
      "text/latex": [
       "$\\displaystyle \\left[\\begin{matrix}\\cos^{2}{\\left(\\beta \\right)} & \\sin{\\left(\\beta \\right)} \\cos{\\left(\\beta \\right)}\\\\\\sin{\\left(\\beta \\right)} \\cos{\\left(\\beta \\right)} & \\sin^{2}{\\left(\\beta \\right)}\\end{matrix}\\right]$"
      ],
      "text/plain": [
       "Matrix([\n",
       "[       cos(beta)**2, sin(beta)*cos(beta)],\n",
       "[sin(beta)*cos(beta),        sin(beta)**2]])"
      ]
     },
     "execution_count": 54,
     "metadata": {},
     "output_type": "execute_result"
    }
   ],
   "source": [
    "Q"
   ]
  },
  {
   "cell_type": "code",
   "execution_count": 55,
   "id": "991e0b05-27db-4f35-8ad3-1fcb8cb6170e",
   "metadata": {},
   "outputs": [
    {
     "data": {
      "text/latex": [
       "$\\displaystyle \\left[\\begin{matrix}\\cos^{2}{\\left(\\alpha \\right)} & \\sin{\\left(\\alpha \\right)} \\cos{\\left(\\alpha \\right)}\\\\\\sin{\\left(\\alpha \\right)} \\cos{\\left(\\alpha \\right)} & \\sin^{2}{\\left(\\alpha \\right)}\\end{matrix}\\right]$"
      ],
      "text/plain": [
       "Matrix([\n",
       "[        cos(alpha)**2, sin(alpha)*cos(alpha)],\n",
       "[sin(alpha)*cos(alpha),         sin(alpha)**2]])"
      ]
     },
     "execution_count": 55,
     "metadata": {},
     "output_type": "execute_result"
    }
   ],
   "source": [
    "D"
   ]
  },
  {
   "cell_type": "code",
   "execution_count": 56,
   "id": "04fdcc92-3ee5-4032-a55a-e12e9793dad1",
   "metadata": {},
   "outputs": [
    {
     "data": {
      "text/latex": [
       "$\\displaystyle \\left[\\begin{matrix}\\frac{\\pi}{2} & 0\\\\0 & \\frac{\\pi}{2}\\end{matrix}\\right]$"
      ],
      "text/plain": [
       "Matrix([\n",
       "[pi/2,    0],\n",
       "[   0, pi/2]])"
      ]
     },
     "execution_count": 56,
     "metadata": {},
     "output_type": "execute_result"
    }
   ],
   "source": [
    "# integrate each term\n",
    "iQ = sym.integrate(Q, (beta, 0, sym.pi))\n",
    "iQ = sym.simplify(iQ)\n",
    "iQ"
   ]
  },
  {
   "cell_type": "code",
   "execution_count": 57,
   "id": "f4159a02-4e5f-4b57-a55e-fab795270b9e",
   "metadata": {},
   "outputs": [
    {
     "data": {
      "text/latex": [
       "$\\displaystyle \\left[\\begin{matrix}\\frac{\\pi \\cos^{2}{\\left(\\alpha \\right)}}{2} & \\frac{\\pi \\sin{\\left(2 \\alpha \\right)}}{4}\\\\\\frac{\\pi \\sin{\\left(2 \\alpha \\right)}}{4} & \\frac{\\pi \\sin^{2}{\\left(\\alpha \\right)}}{2}\\end{matrix}\\right]$"
      ],
      "text/plain": [
       "Matrix([\n",
       "[pi*cos(alpha)**2/2,  pi*sin(2*alpha)/4],\n",
       "[ pi*sin(2*alpha)/4, pi*sin(alpha)**2/2]])"
      ]
     },
     "execution_count": 57,
     "metadata": {},
     "output_type": "execute_result"
    }
   ],
   "source": [
    "iDQ = sym.integrate(D*Q, (beta, 0, sym.pi))\n",
    "iDQ = sym.simplify(iDQ)\n",
    "iDQ"
   ]
  },
  {
   "cell_type": "code",
   "execution_count": 58,
   "id": "a0e4f69e-62a8-460c-a154-13e67ffd6350",
   "metadata": {},
   "outputs": [
    {
     "data": {
      "text/latex": [
       "$\\displaystyle \\left[\\begin{matrix}\\frac{\\pi \\cos^{2}{\\left(\\alpha \\right)}}{2} & \\frac{\\pi \\sin{\\left(2 \\alpha \\right)}}{4}\\\\\\frac{\\pi \\sin{\\left(2 \\alpha \\right)}}{4} & \\frac{\\pi \\sin^{2}{\\left(\\alpha \\right)}}{2}\\end{matrix}\\right]$"
      ],
      "text/plain": [
       "Matrix([\n",
       "[pi*cos(alpha)**2/2,  pi*sin(2*alpha)/4],\n",
       "[ pi*sin(2*alpha)/4, pi*sin(alpha)**2/2]])"
      ]
     },
     "execution_count": 58,
     "metadata": {},
     "output_type": "execute_result"
    }
   ],
   "source": [
    "iQD = sym.integrate(Q*D.transpose(), (beta, 0, sym.pi))\n",
    "iQD = sym.simplify(iQD)\n",
    "iQD"
   ]
  },
  {
   "cell_type": "code",
   "execution_count": 59,
   "id": "5d456181",
   "metadata": {},
   "outputs": [
    {
     "data": {
      "text/latex": [
       "$\\displaystyle \\left[\\begin{matrix}\\frac{\\pi \\cos^{2}{\\left(\\alpha \\right)}}{2} & \\frac{\\pi \\sin{\\left(2 \\alpha \\right)}}{4}\\\\\\frac{\\pi \\sin{\\left(2 \\alpha \\right)}}{4} & \\frac{\\pi \\sin^{2}{\\left(\\alpha \\right)}}{2}\\end{matrix}\\right]$"
      ],
      "text/plain": [
       "Matrix([\n",
       "[pi*cos(alpha)**2/2,  pi*sin(2*alpha)/4],\n",
       "[ pi*sin(2*alpha)/4, pi*sin(alpha)**2/2]])"
      ]
     },
     "execution_count": 59,
     "metadata": {},
     "output_type": "execute_result"
    }
   ],
   "source": [
    "iDQD = sym.integrate(D*Q*D.transpose(), (beta, 0, sym.pi))\n",
    "iDQD = sym.simplify(iDQD)\n",
    "iDQD"
   ]
  },
  {
   "cell_type": "code",
   "execution_count": 60,
   "id": "2a369e4c",
   "metadata": {},
   "outputs": [
    {
     "data": {
      "text/latex": [
       "$\\displaystyle \\left[\\begin{matrix}\\frac{\\pi \\left(\\cos{\\left(2 \\alpha \\right)} + 2\\right)}{8} & \\frac{\\pi \\sin{\\left(2 \\alpha \\right)}}{8}\\\\\\frac{\\pi \\sin{\\left(2 \\alpha \\right)}}{8} & \\frac{\\pi \\left(2 - \\cos{\\left(2 \\alpha \\right)}\\right)}{8}\\end{matrix}\\right]$"
      ],
      "text/plain": [
       "Matrix([\n",
       "[pi*(cos(2*alpha) + 2)/8,       pi*sin(2*alpha)/8],\n",
       "[      pi*sin(2*alpha)/8, pi*(2 - cos(2*alpha))/8]])"
      ]
     },
     "execution_count": 60,
     "metadata": {},
     "output_type": "execute_result"
    }
   ],
   "source": [
    "qDq = (q.transpose() * D * q)[0]\n",
    "\n",
    "iqDqQ = sym.integrate(qDq * Q, (beta, 0, sym.pi))\n",
    "iqDqQ = sym.simplify(iqDqQ)\n",
    "iqDqQ"
   ]
  },
  {
   "cell_type": "code",
   "execution_count": 61,
   "id": "2e692a62",
   "metadata": {},
   "outputs": [
    {
     "data": {
      "text/latex": [
       "$\\displaystyle \\left[\\begin{matrix}\\frac{3 \\pi \\cos^{2}{\\left(\\alpha \\right)}}{8} & \\frac{3 \\pi \\sin{\\left(2 \\alpha \\right)}}{16}\\\\\\frac{3 \\pi \\sin{\\left(2 \\alpha \\right)}}{16} & \\frac{3 \\pi \\sin^{2}{\\left(\\alpha \\right)}}{8}\\end{matrix}\\right]$"
      ],
      "text/plain": [
       "Matrix([\n",
       "[3*pi*cos(alpha)**2/8, 3*pi*sin(2*alpha)/16],\n",
       "[3*pi*sin(2*alpha)/16, 3*pi*sin(alpha)**2/8]])"
      ]
     },
     "execution_count": 61,
     "metadata": {},
     "output_type": "execute_result"
    }
   ],
   "source": [
    "iqDqDQD = sym.integrate(qDq * D * Q * D.transpose(), (beta, 0, sym.pi))\n",
    "iqDqDQD = sym.simplify(iqDqDQD)\n",
    "iqDqDQD"
   ]
  },
  {
   "cell_type": "code",
   "execution_count": 62,
   "id": "2d59da6e",
   "metadata": {},
   "outputs": [
    {
     "data": {
      "text/latex": [
       "$\\displaystyle \\left[\\begin{matrix}\\frac{\\pi}{2} & 0\\\\0 & \\frac{\\pi}{2}\\end{matrix}\\right]$"
      ],
      "text/plain": [
       "Matrix([\n",
       "[pi/2,    0],\n",
       "[   0, pi/2]])"
      ]
     },
     "execution_count": 62,
     "metadata": {},
     "output_type": "execute_result"
    }
   ],
   "source": [
    "# calculate the final integrals\n",
    "iRqRq = iQ - 2*iQD - 2*iDQ + 4 * iDQD\n",
    "iRqRq = sym.simplify(iRqRq)\n",
    "iRqRq"
   ]
  },
  {
   "cell_type": "code",
   "execution_count": 63,
   "id": "a90b6381-59ad-4ad1-8cd2-1de589a557bc",
   "metadata": {},
   "outputs": [],
   "source": [
    "qd2 = ((q.transpose() * d) **2)[0]"
   ]
  },
  {
   "cell_type": "code",
   "execution_count": 64,
   "id": "f51f8b96-5adb-4737-a112-c9ab7c24f8fd",
   "metadata": {},
   "outputs": [
    {
     "data": {
      "text/latex": [
       "$\\displaystyle \\left[\\begin{matrix}\\frac{\\pi \\left(\\cos{\\left(2 \\alpha \\right)} + 2\\right)}{8} & \\frac{\\pi \\sin{\\left(2 \\alpha \\right)}}{8}\\\\\\frac{\\pi \\sin{\\left(2 \\alpha \\right)}}{8} & \\frac{\\pi \\left(2 - \\cos{\\left(2 \\alpha \\right)}\\right)}{8}\\end{matrix}\\right]$"
      ],
      "text/plain": [
       "Matrix([\n",
       "[pi*(cos(2*alpha) + 2)/8,       pi*sin(2*alpha)/8],\n",
       "[      pi*sin(2*alpha)/8, pi*(2 - cos(2*alpha))/8]])"
      ]
     },
     "execution_count": 64,
     "metadata": {},
     "output_type": "execute_result"
    }
   ],
   "source": [
    "qd2Q = qd2 * Q\n",
    "iqd2Q = sym.integrate(qd2Q, (beta, 0, sym.pi))\n",
    "iqd2Q = sym.simplify(iqd2Q)\n",
    "iqd2Q"
   ]
  },
  {
   "cell_type": "code",
   "execution_count": 65,
   "id": "a6601a77-2dec-406e-8353-a30c42d34b8a",
   "metadata": {},
   "outputs": [
    {
     "data": {
      "text/latex": [
       "$\\displaystyle \\left[\\begin{matrix}\\frac{3 \\pi \\cos^{2}{\\left(\\alpha \\right)}}{8} & \\frac{3 \\pi \\sin{\\left(2 \\alpha \\right)}}{16}\\\\\\frac{3 \\pi \\sin{\\left(2 \\alpha \\right)}}{16} & \\frac{3 \\pi \\sin^{2}{\\left(\\alpha \\right)}}{8}\\end{matrix}\\right]$"
      ],
      "text/plain": [
       "Matrix([\n",
       "[3*pi*cos(alpha)**2/8, 3*pi*sin(2*alpha)/16],\n",
       "[3*pi*sin(2*alpha)/16, 3*pi*sin(alpha)**2/8]])"
      ]
     },
     "execution_count": 65,
     "metadata": {},
     "output_type": "execute_result"
    }
   ],
   "source": [
    "qd2QD = qd2 * Q * D\n",
    "iqd2QD = sym.integrate(qd2QD, (beta, 0, sym.pi))\n",
    "iqd2QD = sym.simplify(iqd2QD)\n",
    "iqd2QD"
   ]
  },
  {
   "cell_type": "code",
   "execution_count": 66,
   "id": "8c2cd7ce-8fc9-45f5-8c6b-3f66fd432138",
   "metadata": {},
   "outputs": [
    {
     "data": {
      "text/latex": [
       "$\\displaystyle \\left[\\begin{matrix}\\frac{3 \\pi \\cos^{2}{\\left(\\alpha \\right)}}{8} & \\frac{3 \\pi \\sin{\\left(2 \\alpha \\right)}}{16}\\\\\\frac{3 \\pi \\sin{\\left(2 \\alpha \\right)}}{16} & \\frac{3 \\pi \\sin^{2}{\\left(\\alpha \\right)}}{8}\\end{matrix}\\right]$"
      ],
      "text/plain": [
       "Matrix([\n",
       "[3*pi*cos(alpha)**2/8, 3*pi*sin(2*alpha)/16],\n",
       "[3*pi*sin(2*alpha)/16, 3*pi*sin(alpha)**2/8]])"
      ]
     },
     "execution_count": 66,
     "metadata": {},
     "output_type": "execute_result"
    }
   ],
   "source": [
    "qd2DQ = qd2 * D * Q\n",
    "iqd2DQ = sym.integrate(qd2DQ, (beta, 0, sym.pi))\n",
    "iqd2DQ = sym.simplify(iqd2DQ)\n",
    "iqd2DQ"
   ]
  },
  {
   "cell_type": "code",
   "execution_count": 67,
   "id": "ad91475e-f301-42a8-a2e9-ae23e39fefcf",
   "metadata": {},
   "outputs": [
    {
     "data": {
      "text/latex": [
       "$\\displaystyle \\left[\\begin{matrix}\\frac{3 \\pi \\cos^{2}{\\left(\\alpha \\right)}}{8} & \\frac{3 \\pi \\sin{\\left(2 \\alpha \\right)}}{16}\\\\\\frac{3 \\pi \\sin{\\left(2 \\alpha \\right)}}{16} & \\frac{3 \\pi \\sin^{2}{\\left(\\alpha \\right)}}{8}\\end{matrix}\\right]$"
      ],
      "text/plain": [
       "Matrix([\n",
       "[3*pi*cos(alpha)**2/8, 3*pi*sin(2*alpha)/16],\n",
       "[3*pi*sin(2*alpha)/16, 3*pi*sin(alpha)**2/8]])"
      ]
     },
     "execution_count": 67,
     "metadata": {},
     "output_type": "execute_result"
    }
   ],
   "source": [
    "qd2DQD = qd2 * D * Q * D\n",
    "iqd2DQD = sym.integrate(qd2DQD, (beta, 0, sym.pi))\n",
    "iqd2DQD = sym.simplify(iqd2DQD)\n",
    "iqd2DQD"
   ]
  },
  {
   "cell_type": "code",
   "execution_count": 68,
   "id": "ae6803c7-7d65-460a-a9df-044fcd998468",
   "metadata": {},
   "outputs": [
    {
     "data": {
      "text/latex": [
       "$\\displaystyle \\left[\\begin{matrix}\\frac{\\pi \\left(\\cos{\\left(2 \\alpha \\right)} + 2\\right)}{8} & \\frac{\\pi \\sin{\\left(2 \\alpha \\right)}}{8}\\\\\\frac{\\pi \\sin{\\left(2 \\alpha \\right)}}{8} & \\frac{\\pi \\left(2 - \\cos{\\left(2 \\alpha \\right)}\\right)}{8}\\end{matrix}\\right]$"
      ],
      "text/plain": [
       "Matrix([\n",
       "[pi*(cos(2*alpha) + 2)/8,       pi*sin(2*alpha)/8],\n",
       "[      pi*sin(2*alpha)/8, pi*(2 - cos(2*alpha))/8]])"
      ]
     },
     "execution_count": 68,
     "metadata": {},
     "output_type": "execute_result"
    }
   ],
   "source": [
    "iqd2RqRq = iqd2Q - 2 * iqd2QD - 2 * iqd2DQ + 4 * iqd2DQD\n",
    "iqd2RqRq = sym.simplify(iqd2RqRq)\n",
    "iqd2RqRq"
   ]
  },
  {
   "cell_type": "code",
   "execution_count": null,
   "id": "f4aa4b7b",
   "metadata": {},
   "outputs": [],
   "source": []
  }
 ],
 "metadata": {
  "kernelspec": {
   "display_name": "Python 3 (ipykernel)",
   "language": "python",
   "name": "python3"
  },
  "language_info": {
   "codemirror_mode": {
    "name": "ipython",
    "version": 3
   },
   "file_extension": ".py",
   "mimetype": "text/x-python",
   "name": "python",
   "nbconvert_exporter": "python",
   "pygments_lexer": "ipython3",
   "version": "3.12.4"
  }
 },
 "nbformat": 4,
 "nbformat_minor": 5
}
