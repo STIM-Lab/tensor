{
 "cells": [
  {
   "cell_type": "markdown",
   "id": "990435d2-b579-458e-b1d7-439dc233e8a3",
   "metadata": {},
   "source": [
    "## 3D Tensor Voting\n",
    "\n",
    "$$\n",
    "\\mathbf{V}=\\text{sign}(\\lambda_2)(\\left|\\lambda_2\\right| - \\left|\\lambda_1\\right|) \\mathbf{S}(\\mathbf{v}, \\mathbf{r}, \\mathbf{q}, \\sigma) + \\text{sign}(\\lambda_1)(\\left|\\lambda_1\\right| - \\left|\\lambda_0\\right|) \\mathbf{P}(\\mathbf{v}, \\mathbf{r}, \\sigma) + \\lambda_0 \\mathbf{B}(\\mathbf{v}, \\mathbf{r}, \\sigma)\n",
    "$$\n",
    "Where:\n",
    "* $\\mathbf{V}\\in \\mathbb{R}^{3\\times 3}$ is the tensor result after voting\n",
    "* $\\mathbf{S}\\in \\mathbb{R}^{3\\times 3}$ is the result of stick tensor voting\n",
    "* $\\mathbf{P}\\in \\mathbb{R}^{3\\times 3}$ is the result of plate tensor voting\n",
    "* $\\mathbf{q}\\in \\mathbb{R}^{3}$ is the unit vector specifying the stick tensor (voter) orientation\n",
    "* $\\mathbf{v}\\in \\mathbb{R}^{3}$ is the voter position and $\\mathbf{r}\\in \\mathbb{R}^{3}$ is the receiver\n",
    "* $\\sigma$ is the attenuation factor\n",
    "* $\\lambda_0$ is the smallest eigenvalue and $\\lambda_2$ is the largest eigenvalue of the voter tensor"
   ]
  },
  {
   "cell_type": "markdown",
   "id": "f679d464-4fa1-4950-a329-3072660c6bea",
   "metadata": {},
   "source": [
    "## Stick Tensor\n",
    "\n",
    "$$\n",
    "\\mathbf{S}(\\mathbf{v}, \\mathbf{r}, \\mathbf{q}, \\sigma) = \\eta(\\sigma_1, \\sigma_2, p) D(\\mathbf{v}, \\mathbf{r}, \\mathbf{q}, \\sigma_1, \\sigma_2, p) (\\mathbf{R}\\mathbf{q})(\\mathbf{R}\\mathbf{q})^T\n",
    "$$\n",
    "where $\\mathbf{R}$ is a rotation matrix specifying the orientation of the receiver relative to the voter:\n",
    "$$\n",
    "\\mathbf{R} = \\mathbf{I} - 2\\mathbf{d}\\mathbf{d}^T\n",
    "$$\n",
    "where $\\mathbf{d} = \\frac{\\mathbf{v} - \\mathbf{r}}{\\ell}$ is the direction from the voter to receiver and $\\ell = ||\\mathbf{v} - \\mathbf{r}||$ is the distance."
   ]
  },
  {
   "cell_type": "markdown",
   "id": "62f16926-e673-46a8-ba3e-ba8bcdbe4d10",
   "metadata": {},
   "source": [
    "### Decay Function\n",
    "The decay function describes magnitude of the vote at the receiver:\n",
    "$$\n",
    "D(\\mathbf{v}, \\mathbf{r}, \\mathbf{q}, \\sigma_1, \\sigma_2, p)=e^{-\\frac{\\ell^2}{\\sigma_1^2}}\\left[ 1 - (\\mathbf{q}^T\\mathbf{d})^2 \\right]^p + e^{-\\frac{\\ell^2}{\\sigma_2^2}}(\\mathbf{q}^T\\mathbf{d})^{2p}\n",
    "$$\n",
    "where\n",
    "* $\\sigma_1$ is the standard deviation of the decay orthogonal to $\\mathbf{q}$\n",
    "* $\\sigma_2$ is the standard deviation of the decay in the direction of $\\mathbf{q}$\n",
    "* $p$ is a refinement term that specifies the *spread* of the vote\n",
    "\n",
    "Alternatively, the decay function may be represented using trigonometric functions:\n",
    "$$\n",
    "D(\\beta, \\ell, \\sigma_1, \\sigma_2, p)=e^{-\\frac{\\ell^2}{\\sigma_1^2}} \\sin^{2p} \\beta + e^{-\\frac{\\ell^2}{\\sigma_2^{2}}}\\cos^{2p}\\beta\n",
    "$$\n",
    "where $\\beta=\\cos^{-1}\\left(\\mathbf{q}^T\\mathbf{d}\\right)$."
   ]
  },
  {
   "cell_type": "markdown",
   "id": "7534c1f5-3925-4618-a86b-c70207887c51",
   "metadata": {},
   "source": [
    "### Normalization Term\n",
    "The normalization term ensures that the integral of the plate tensor voting field is 1, and therefore no additional energy is added or taken away from the image:\n",
    "$$\n",
    "\\eta(\\sigma_1, \\sigma_2, p) = \\left[ \\frac{\\pi(2p)!}{2^{2p}(p!)^2}\\left(\\sigma_1^2 + \\sigma_2^2\\right) \\right]^{-1}\n",
    "$$"
   ]
  },
  {
   "cell_type": "markdown",
   "id": "0ca083d5-a379-4bc1-930b-b9ed3d853c94",
   "metadata": {},
   "source": [
    "## Plate Tensor\n",
    "The integral for a plate tensor is given by:\n",
    "$$\n",
    "\\mathbf{P}(\\mathbf{v}, \\mathbf{r}, \\sigma) = \\frac{\\ell}{\\sigma_1^2 + \\sigma_2^2}   \\left(e^{-\\frac{\\ell^2}{\\sigma_1^2}}\\left(\\mathbf{I} - \\frac{1}{4}\n",
    "\\mathbf{M}\n",
    "\\right) + e^{-\\frac{\\ell^2}{\\sigma_2^2}}\\frac{1}{4}\n",
    "\\mathbf{M}\n",
    "\\right)\n",
    "$$\n",
    "where $\\alpha = \\tan^{-1}\\frac{d_y}{d_x}$ and\n",
    "$$\n",
    "\\mathbf{M} = \n",
    "\\begin{bmatrix}\n",
    "\\cos(2\\alpha)+2 & \\sin(2\\alpha)\\\\\n",
    "\\sin(2\\alpha) & 2 - \\cos(2\\alpha)\n",
    "\\end{bmatrix}\n",
    "$$"
   ]
  },
  {
   "cell_type": "markdown",
   "id": "97ce941f-5b02-4937-b01f-1b212c016953",
   "metadata": {},
   "source": [
    "---"
   ]
  },
  {
   "cell_type": "markdown",
   "id": "de1d1c96-d896-4c38-81e4-be434edfca60",
   "metadata": {},
   "source": [
    "## Stick Normalization Derivation\n",
    "The normalization factor $\\eta$ scales the decay function by the inverse of its integral:\n",
    "$$\n",
    "\\eta(\\sigma_1, \\sigma_2, p) = \\int_0^\\infty \\int_0^{2\\pi} \\int_0^\\pi D(\\mathbf{v}, \\mathbf{r}, \\mathbf{q}, \\sigma_1, \\sigma_2, p)\\ell \\, \\sin\\phi\\,d\\phi\\, d\\theta \\, d\\ell\n",
    "$$"
   ]
  },
  {
   "cell_type": "markdown",
   "id": "3be01814-cf25-4e42-9342-08263e7fad2e",
   "metadata": {},
   "source": [
    "I think this will be easiest to do in polar coordinates:\n",
    "$$\n",
    "\\eta = \\int_0^\\infty \\int_0^{2\\pi} \\int_0^\\pi \\left[ e^{-\\frac{\\ell^2}{\\sigma_1^2}}\\left[ 1 - (\\mathbf{q}^T\\mathbf{d})^2 \\right]^p + e^{-\\frac{\\ell^2}{\\sigma_2^2}}(\\mathbf{q}^T\\mathbf{d})^{2p} \\right]\\ell\\, \\sin\\phi\\,d\\phi\\, d\\theta \\, d\\ell\n",
    "$$\n",
    "where\n",
    "$$\n",
    "\\mathbf{d} =\n",
    "\\begin{bmatrix}\n",
    "\\cos\\theta \\sin\\phi\\\\\n",
    "\\sin\\theta \\sin\\phi\\\\\n",
    "\\cos\\phi\n",
    "\\end{bmatrix}\n",
    "$$"
   ]
  },
  {
   "cell_type": "markdown",
   "id": "70335e11-d9de-4a8a-9764-93c9f4f8b935",
   "metadata": {},
   "source": [
    "Since the integral is across all space, it is independent of the direction of $\\mathbf{q}$, so I believe we can set this to some constant unit vector. The easiest seems to be $\\mathbf{q}=\\mathbf{z}$, in which case $\\mathbf{q}^T\\mathbf{d} = \\cos\\theta$:\n",
    "$$\n",
    "\\eta = \\int_0^\\infty \\int_0^{2\\pi} \\int_0^\\pi \\left[ e^{-\\frac{\\ell^2}{\\sigma_1^2}}\\left[ 1 - (\\cos\\phi)^2 \\right]^p + e^{-\\frac{\\ell^2}{\\sigma_2^2}}(\\cos\\phi)^{2p} \\right]\\ell\\, \\sin\\phi\\,d\\phi\\, d\\theta \\, d\\ell\n",
    "$$"
   ]
  },
  {
   "cell_type": "markdown",
   "id": "9992af90-6055-4cd4-bd21-dd7204149d66",
   "metadata": {},
   "source": [
    "Separating terms for integration, we get the two integrals:\n",
    "$$\n",
    "\\int_0^\\infty \\int_0^{2\\pi} \\int_0^\\pi e^{-\\frac{\\ell^2}{\\sigma_1^2}}(\\sin^{2p}\\phi)\\ell\\, \\sin\\phi\\,d\\phi\\, d\\theta \\, d\\ell\n",
    "$$\n",
    "$$\n",
    "\\int_0^\\infty \\int_0^{2\\pi} \\int_0^\\pi e^{-\\frac{\\ell^2}{\\sigma_1^2}}(\\cos^{2p}\\phi)\\ell\\, \\sin\\phi\\,d\\phi\\, d\\theta \\, d\\ell\n",
    "$$"
   ]
  },
  {
   "cell_type": "markdown",
   "id": "641e201d-98f5-44d9-9cf3-0d595a901f7d",
   "metadata": {},
   "source": [
    "Does re-arranging the terms help?\n",
    "$$\n",
    " \\int_0^\\pi\\cos^{2p}\\phi  \\, \\sin\\phi\\, \\int_0^\\infty \\ell e^{-\\frac{\\ell^2}{\\sigma_1^2}} \\int_0^{2\\pi}d\\theta \\,d\\ell \\,d\\phi\n",
    "$$"
   ]
  },
  {
   "cell_type": "markdown",
   "id": "d7d88265-ae02-49cc-a74c-9f5a7a9a044e",
   "metadata": {},
   "source": [
    "$$\n",
    "2\\pi \\int_0^\\pi\\cos^{2p}\\phi  \\,\\sin\\phi\\, \\int_0^\\infty \\ell e^{-\\frac{\\ell^2}{\\sigma_1^2}} \\,d\\ell \\,d\\phi \n",
    "$$"
   ]
  },
  {
   "cell_type": "markdown",
   "id": "065cd632-7a6b-4b66-9435-427be8035ec1",
   "metadata": {},
   "source": [
    "$$\n",
    "\\sigma^2_1 \\pi \\int_0^\\pi\\cos^{2p}\\phi  \\,\\sin\\phi\\, d\\phi \n",
    "$$"
   ]
  },
  {
   "cell_type": "markdown",
   "id": "7d6f00dd-9eb4-4fd1-9ebd-1026ba68df4b",
   "metadata": {},
   "source": [
    "This leaves us with the two integrals to sum:\n",
    "$$\n",
    "\\sigma^2_1 \\pi \\int_0^\\pi\\cos^{2p}\\phi  \\,\\sin\\phi\\, d\\phi + \\sigma^2_2 \\pi \\int_0^\\pi\\sin^{2p}\\phi  \\,\\sin\\phi\\, d\\phi\n",
    "$$"
   ]
  },
  {
   "cell_type": "markdown",
   "id": "5cfe422f-8f75-4d26-b28a-6f0008f3c10c",
   "metadata": {},
   "source": [
    "So it looks like the pattern for the first term is pretty easy to see:\n",
    "$$\n",
    "\\int_0^\\pi\\cos^{2p}\\phi  \\,\\sin\\phi\\, d\\phi = \\frac{2}{1 + 2p}\n",
    "$$"
   ]
  },
  {
   "cell_type": "markdown",
   "id": "14e9592c-f9e8-44a9-8778-fc0b1ecf58be",
   "metadata": {},
   "source": [
    "This looks like the harder one:\n",
    "$$\n",
    "\\int_0^\\pi\\sin^{2p}\\phi  \\,\\sin\\phi\\, d\\phi\n",
    "$$"
   ]
  }
 ],
 "metadata": {
  "kernelspec": {
   "display_name": "Python 3 (ipykernel)",
   "language": "python",
   "name": "python3"
  },
  "language_info": {
   "codemirror_mode": {
    "name": "ipython",
    "version": 3
   },
   "file_extension": ".py",
   "mimetype": "text/x-python",
   "name": "python",
   "nbconvert_exporter": "python",
   "pygments_lexer": "ipython3",
   "version": "3.11.7"
  }
 },
 "nbformat": 4,
 "nbformat_minor": 5
}
